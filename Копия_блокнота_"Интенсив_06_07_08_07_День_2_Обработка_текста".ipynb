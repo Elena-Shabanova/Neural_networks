{
  "nbformat": 4,
  "nbformat_minor": 0,
  "metadata": {
    "colab": {
      "name": "Копия блокнота \"Интенсив 06.07-08.07. День #2. Обработка текста\"",
      "provenance": [],
      "collapsed_sections": [
        "4wwfOsB8YHiC",
        "EGoFeaFhQ8WP",
        "qQ8Qz-WCEQNw",
        "EKxMunXYb_5b",
        "hNeiRyb_YXus",
        "cZsdBFEdSl4v"
      ],
      "include_colab_link": true
    },
    "kernelspec": {
      "name": "python3",
      "display_name": "Python 3"
    },
    "language_info": {
      "name": "python"
    },
    "accelerator": "GPU"
  },
  "cells": [
    {
      "cell_type": "markdown",
      "metadata": {
        "id": "view-in-github",
        "colab_type": "text"
      },
      "source": [
        "<a href=\"https://colab.research.google.com/github/Elena-Shabanova/Neural_networks/blob/main/%D0%9A%D0%BE%D0%BF%D0%B8%D1%8F_%D0%B1%D0%BB%D0%BE%D0%BA%D0%BD%D0%BE%D1%82%D0%B0_%22%D0%98%D0%BD%D1%82%D0%B5%D0%BD%D1%81%D0%B8%D0%B2_06_07_08_07_%D0%94%D0%B5%D0%BD%D1%8C_2_%D0%9E%D0%B1%D1%80%D0%B0%D0%B1%D0%BE%D1%82%D0%BA%D0%B0_%D1%82%D0%B5%D0%BA%D1%81%D1%82%D0%B0%22.ipynb\" target=\"_parent\"><img src=\"https://colab.research.google.com/assets/colab-badge.svg\" alt=\"Open In Colab\"/></a>"
      ]
    },
    {
      "cell_type": "code",
      "metadata": {
        "id": "2OWwqj6QA-Qf",
        "colab": {
          "base_uri": "https://localhost:8080/"
        },
        "outputId": "086e630e-9a0c-43bb-aadb-584c646241ad"
      },
      "source": [
        "!pip -q install terra_ai\n",
        "from terra_ai import терра_ии"
      ],
      "execution_count": null,
      "outputs": [
        {
          "output_type": "stream",
          "text": [
            "Все необходимые библиотеки установлены и готовы к работе\n"
          ],
          "name": "stdout"
        }
      ]
    },
    {
      "cell_type": "markdown",
      "metadata": {
        "id": "4wwfOsB8YHiC"
      },
      "source": [
        "# **Практический материал занятия**"
      ]
    },
    {
      "cell_type": "markdown",
      "metadata": {
        "id": "eCK0hXbJBve6"
      },
      "source": [
        "## Классификация отзывов автомобиля Тесла"
      ]
    },
    {
      "cell_type": "code",
      "metadata": {
        "id": "4B4li4ZELpXB",
        "colab": {
          "base_uri": "https://localhost:8080/"
        },
        "outputId": "b0500e2e-d98f-4b4f-b27b-d0930433ed27"
      },
      "source": [
        "# Загружаем базу отзывов Tesla\n",
        "терра_ии.загрузить_базу(база='TESLA')"
      ],
      "execution_count": 37,
      "outputs": [
        {
          "output_type": "stream",
          "text": [
            "Загрузка данных завершена \n",
            "\n",
            "url: https://storage.googleapis.com/terra_ai/DataSets/tesla.zip\n"
          ],
          "name": "stdout"
        }
      ]
    },
    {
      "cell_type": "code",
      "metadata": {
        "colab": {
          "base_uri": "https://localhost:8080/"
        },
        "id": "FA7euIAEvJro",
        "outputId": "edfef595-1534-452c-831b-3590ebcaba42"
      },
      "source": [
        "# Выводим примеры\n",
        "терра_ии.показать_примеры(база = 'TESLA')"
      ],
      "execution_count": 38,
      "outputs": [
        {
          "output_type": "stream",
          "text": [
            "В данной базе находятся положительные и негативные отзывы об автомобилях Tesla:\n",
            "['Негативный отзыв', 'Позитивный отзыв']\n",
            "\n",
            "Пример отзыва:\n",
            "Тип отзыва:  Негативный отзыв\n",
            "Отзывы:\n",
            "     * После 170 на трассе она чувствует себя неуверенно.  Кстати сидения очень удобными тоже не назовёшь. \n"
          ],
          "name": "stdout"
        }
      ]
    },
    {
      "cell_type": "code",
      "metadata": {
        "colab": {
          "base_uri": "https://localhost:8080/"
        },
        "id": "qXAuLmzc0VLz",
        "outputId": "fc80f5bf-6530-4684-9a6d-0a8ba257e927"
      },
      "source": [
        "# Задаем параметры для формирования выборок\n",
        "количество_анализируемых_слов = '10000'\n",
        "размер_окна = '50'\n",
        "шаг = '10'\n",
        "# Создаем выборки для обучения нейронной сети\n",
        "(обучающая_выборка, метки_обучающей_выборки), (тестовая_выборка, метки_тестовой_выборки) = терра_ии.создать_текстовые_выборки(\n",
        "    количество_анализируемых_слов,\n",
        "    размер_окна,\n",
        "    шаг, \n",
        "    путь_к_базе = '/content/Отзывы/')"
      ],
      "execution_count": 39,
      "outputs": [
        {
          "output_type": "stream",
          "text": [
            "Формирование выборки завершено\n"
          ],
          "name": "stdout"
        }
      ]
    },
    {
      "cell_type": "markdown",
      "metadata": {
        "id": "FPhfEdZqCulW"
      },
      "source": [
        "### Эксперименты"
      ]
    },
    {
      "cell_type": "code",
      "metadata": {
        "id": "biUc4-cgT_sc"
      },
      "source": [
        "# Эксперимент № 1\n",
        "# Уменьшенный размер эмбеддинг-пространства. Слабая нейронка (меньше слоев, меньше нейронов)\n",
        "ветвь1 = 'Эмбеддинг-2-'+ количество_анализируемых_слов + '-' + размер_окна + ' Выравнивающий Полносвязный-2'\n",
        "ветвь2 = 'Полносвязный-4 Полносвязный-2'\n",
        "ветвь3 = 'Полносвязный-2'\n",
        "нейронка_тесла_1 = терра_ии.создать_составную_сеть(обучающая_выборка, метки_обучающей_выборки, ветвь1, ветвь2, ветвь3)"
      ],
      "execution_count": 40,
      "outputs": []
    },
    {
      "cell_type": "code",
      "metadata": {
        "colab": {
          "base_uri": "https://localhost:8080/",
          "height": 747
        },
        "id": "aEsKUCYbT_se",
        "outputId": "0c5716ba-8675-4c87-d82c-101a5a65e568"
      },
      "source": [
        "# Обучаем модель\n",
        "эксперимент_1 = терра_ии.обучение_модели(\n",
        "    нейронка_тесла_1,\n",
        "    обучающая_выборка, метки_обучающей_выборки,\n",
        "    тестовая_выборка, метки_тестовой_выборки,\n",
        "    размер_пакета = 16,\n",
        "    количество_эпох = 20)"
      ],
      "execution_count": 41,
      "outputs": [
        {
          "output_type": "stream",
          "text": [
            "Эпоха №1    Время обучения: 2.21c   Точность на обучающей выборке: 58.26%    Точность на проверочной выборке: 71.88%\n",
            "Эпоха №2    Время обучения: 1.47c   Точность на обучающей выборке: 96.81%    Точность на проверочной выборке: 87.5%\n",
            "Эпоха №3    Время обучения: 1.49c   Точность на обучающей выборке: 99.76%    Точность на проверочной выборке: 87.5%\n",
            "Эпоха №4    Время обучения: 1.48c   Точность на обучающей выборке: 100.0%    Точность на проверочной выборке: 90.62%\n",
            "Эпоха №5    Время обучения: 1.56c   Точность на обучающей выборке: 100.0%    Точность на проверочной выборке: 90.62%\n",
            "Эпоха №6    Время обучения: 1.61c   Точность на обучающей выборке: 100.0%    Точность на проверочной выборке: 90.62%\n",
            "Эпоха №7    Время обучения: 1.59c   Точность на обучающей выборке: 100.0%    Точность на проверочной выборке: 90.62%\n",
            "Эпоха №8    Время обучения: 1.6c    Точность на обучающей выборке: 100.0%    Точность на проверочной выборке: 90.62%\n",
            "Эпоха №9    Время обучения: 1.6c    Точность на обучающей выборке: 100.0%    Точность на проверочной выборке: 90.62%\n",
            "Эпоха №10   Время обучения: 1.59c   Точность на обучающей выборке: 100.0%    Точность на проверочной выборке: 90.62%\n",
            "Эпоха №11   Время обучения: 1.6c    Точность на обучающей выборке: 100.0%    Точность на проверочной выборке: 90.62%\n",
            "Эпоха №12   Время обучения: 1.61c   Точность на обучающей выборке: 100.0%    Точность на проверочной выборке: 90.62%\n",
            "Эпоха №13   Время обучения: 1.58c   Точность на обучающей выборке: 100.0%    Точность на проверочной выборке: 90.62%\n",
            "Эпоха №14   Время обучения: 1.6c    Точность на обучающей выборке: 100.0%    Точность на проверочной выборке: 90.62%\n",
            "Эпоха №15   Время обучения: 1.56c   Точность на обучающей выборке: 100.0%    Точность на проверочной выборке: 90.62%\n",
            "Эпоха №16   Время обучения: 1.59c   Точность на обучающей выборке: 100.0%    Точность на проверочной выборке: 90.62%\n",
            "Эпоха №17   Время обучения: 1.56c   Точность на обучающей выборке: 100.0%    Точность на проверочной выборке: 90.62%\n",
            "Эпоха №18   Время обучения: 1.6c    Точность на обучающей выборке: 100.0%    Точность на проверочной выборке: 90.62%\n",
            "Эпоха №19   Время обучения: 1.56c   Точность на обучающей выборке: 100.0%    Точность на проверочной выборке: 90.62%\n",
            "\u001b[42m\u001b[37mЭпоха №20   Время обучения: 1.57c   Точность на обучающей выборке: 100.0%    Точность на проверочной выборке: 90.62%\u001b[0m\n",
            "\n"
          ],
          "name": "stdout"
        },
        {
          "output_type": "display_data",
          "data": {
            "image/png": "[encoded data removed]",
            "text/plain": [
              "<Figure size 864x432 with 1 Axes>"
            ]
          },
          "metadata": {
            "tags": [],
            "needs_background": "light"
          }
        }
      ]
    },
    {
      "cell_type": "code",
      "metadata": {
        "colab": {
          "base_uri": "https://localhost:8080/"
        },
        "id": "1h64G7oVFT6d",
        "outputId": "d711a5c2-c6c8-469d-b4f5-0de78b174c41"
      },
      "source": [
        "# Демонстрация результата работы нейронной сети\n",
        "отзыв = 'Машина скоростная. По трассе идет отлично'\n",
        "терра_ии.тест_модели_отзывы(нейронка_тесла_1, размер_окна, шаг,\n",
        "                              отзыв, классы = ['Негативный отзыв', 'Позитивный отзыв'])"
      ],
      "execution_count": 42,
      "outputs": [
        {
          "output_type": "stream",
          "text": [
            "Негативный отзыв   -  26.87 %\n",
            "Позитивный отзыв   -  73.13 %\n",
            "\n",
            "Нейросеть думает, что это: Позитивный отзыв - 73.13%\n"
          ],
          "name": "stdout"
        }
      ]
    },
    {
      "cell_type": "code",
      "metadata": {
        "colab": {
          "base_uri": "https://localhost:8080/"
        },
        "id": "zFpyBWrxNOEa",
        "outputId": "e2577518-1fda-4bba-c3f3-5aaa0cdab409"
      },
      "source": [
        "# Демонстрация результата работы нейронной сети\n",
        "отзыв = 'Самая быстрая красивая мощная'\n",
        "терра_ии.тест_модели_отзывы(нейронка_тесла_1, размер_окна, шаг,\n",
        "                              отзыв, классы = ['Негативный отзыв', 'Позитивный отзыв'])"
      ],
      "execution_count": 43,
      "outputs": [
        {
          "output_type": "stream",
          "text": [
            "Негативный отзыв   -  16.07 %\n",
            "Позитивный отзыв   -  83.93 %\n",
            "\n",
            "Нейросеть думает, что это: Позитивный отзыв - 83.93%\n"
          ],
          "name": "stdout"
        }
      ]
    },
    {
      "cell_type": "code",
      "metadata": {
        "id": "HGohAu4RTbf6"
      },
      "source": [
        "# Эксперимент № 2\n",
        "# Размер эмбеддинг-пространства чуть больше. Слабая нейронка.\n",
        "# Больший размер пакета при обучении\n",
        "ветвь1 = 'Эмбеддинг-10-' + количество_анализируемых_слов + '-' + размер_окна + ' Выравнивающий Полносвязный-8'\n",
        "ветвь2 = 'Полносвязный-32 Полносвязный-16 Полносвязный-8'\n",
        "ветвь3 = 'Полносвязный-8'\n",
        "нейронка_тесла_2 = терра_ии.создать_составную_сеть(обучающая_выборка, метки_обучающей_выборки, ветвь1, ветвь2, ветвь3)"
      ],
      "execution_count": 44,
      "outputs": []
    },
    {
      "cell_type": "code",
      "metadata": {
        "colab": {
          "base_uri": "https://localhost:8080/",
          "height": 747
        },
        "id": "cc-66EjKTbf9",
        "outputId": "3b564a63-22ce-4552-9f04-53d8834ac841"
      },
      "source": [
        "# Обучаем модель\n",
        "эксперимент_2 = терра_ии.обучение_модели(\n",
        "    нейронка_тесла_2,\n",
        "    обучающая_выборка, метки_обучающей_выборки,\n",
        "    тестовая_выборка, метки_тестовой_выборки,\n",
        "    размер_пакета = 32,\n",
        "    количество_эпох = 20)"
      ],
      "execution_count": 45,
      "outputs": [
        {
          "output_type": "stream",
          "text": [
            "Эпоха №1    Время обучения: 1.71c   Точность на обучающей выборке: 58.19%    Точность на проверочной выборке: 71.88%\n",
            "Эпоха №2    Время обучения: 1.02c   Точность на обучающей выборке: 95.76%    Точность на проверочной выборке: 93.75%\n",
            "Эпоха №3    Время обучения: 1.03c   Точность на обучающей выборке: 99.99%    Точность на проверочной выборке: 93.75%\n",
            "Эпоха №4    Время обучения: 1.05c   Точность на обучающей выборке: 100.0%    Точность на проверочной выборке: 93.75%\n",
            "Эпоха №5    Время обучения: 1.03c   Точность на обучающей выборке: 100.0%    Точность на проверочной выборке: 93.75%\n",
            "Эпоха №6    Время обучения: 1.03c   Точность на обучающей выборке: 100.0%    Точность на проверочной выборке: 93.75%\n",
            "Эпоха №7    Время обучения: 1.04c   Точность на обучающей выборке: 100.0%    Точность на проверочной выборке: 93.75%\n",
            "Эпоха №8    Время обучения: 1.0c    Точность на обучающей выборке: 100.0%    Точность на проверочной выборке: 93.75%\n",
            "Эпоха №9    Время обучения: 1.01c   Точность на обучающей выборке: 100.0%    Точность на проверочной выборке: 93.75%\n",
            "Эпоха №10   Время обучения: 1.03c   Точность на обучающей выборке: 100.0%    Точность на проверочной выборке: 93.75%\n",
            "Эпоха №11   Время обучения: 1.0c    Точность на обучающей выборке: 100.0%    Точность на проверочной выборке: 93.75%\n",
            "Эпоха №12   Время обучения: 0.99c   Точность на обучающей выборке: 100.0%    Точность на проверочной выборке: 93.75%\n",
            "Эпоха №13   Время обучения: 1.0c    Точность на обучающей выборке: 100.0%    Точность на проверочной выборке: 93.75%\n",
            "Эпоха №14   Время обучения: 0.98c   Точность на обучающей выборке: 100.0%    Точность на проверочной выборке: 93.75%\n",
            "Эпоха №15   Время обучения: 1.01c   Точность на обучающей выборке: 100.0%    Точность на проверочной выборке: 93.75%\n",
            "Эпоха №16   Время обучения: 1.01c   Точность на обучающей выборке: 100.0%    Точность на проверочной выборке: 93.75%\n",
            "Эпоха №17   Время обучения: 1.0c    Точность на обучающей выборке: 100.0%    Точность на проверочной выборке: 93.75%\n",
            "Эпоха №18   Время обучения: 1.05c   Точность на обучающей выборке: 100.0%    Точность на проверочной выборке: 93.75%\n",
            "Эпоха №19   Время обучения: 1.03c   Точность на обучающей выборке: 100.0%    Точность на проверочной выборке: 93.75%\n",
            "\u001b[42m\u001b[37mЭпоха №20   Время обучения: 1.06c   Точность на обучающей выборке: 100.0%    Точность на проверочной выборке: 93.75%\u001b[0m\n",
            "\n"
          ],
          "name": "stdout"
        },
        {
          "output_type": "display_data",
          "data": {
            "image/png": "[encoded data removed]",
            "text/plain": [
              "<Figure size 864x432 with 1 Axes>"
            ]
          },
          "metadata": {
            "tags": [],
            "needs_background": "light"
          }
        }
      ]
    },
    {
      "cell_type": "code",
      "metadata": {
        "colab": {
          "base_uri": "https://localhost:8080/"
        },
        "id": "vCHZwC5BFvo6",
        "outputId": "9aec700a-7486-460c-821b-fd5b0660539b"
      },
      "source": [
        "# Демонстрация результата работы нейронной сети\n",
        "отзыв = 'Обзор не очень, зеркала маленькие, заднее стекло тоже'\n",
        "терра_ии.тест_модели_отзывы(нейронка_тесла_2, размер_окна, шаг,\n",
        "                              отзыв, классы = ['Негативный отзыв', 'Позитивный отзыв'])"
      ],
      "execution_count": 46,
      "outputs": [
        {
          "output_type": "stream",
          "text": [
            "Негативный отзыв   -  74.53 %\n",
            "Позитивный отзыв   -  25.47 %\n",
            "\n",
            "Нейросеть думает, что это: Негативный отзыв - 74.53%\n"
          ],
          "name": "stdout"
        }
      ]
    },
    {
      "cell_type": "code",
      "metadata": {
        "colab": {
          "base_uri": "https://localhost:8080/"
        },
        "id": "CVch-8i4FFHo",
        "outputId": "64e618e0-be72-4d16-e04a-a34f389cb8f7"
      },
      "source": [
        "# Демонстрация результата работы нейронной сети\n",
        "отзыв = 'Самая быстрая красивая мощная'\n",
        "терра_ии.тест_модели_отзывы(нейронка_тесла_2, размер_окна, шаг,\n",
        "                              отзыв, классы = ['Негативный отзыв', 'Позитивный отзыв'])"
      ],
      "execution_count": 47,
      "outputs": [
        {
          "output_type": "stream",
          "text": [
            "Негативный отзыв   -  42.32 %\n",
            "Позитивный отзыв   -  57.68 %\n",
            "\n",
            "Нейросеть думает, что это: Позитивный отзыв - 57.68%\n"
          ],
          "name": "stdout"
        }
      ]
    },
    {
      "cell_type": "code",
      "metadata": {
        "id": "hJ3KQa-BTzDC"
      },
      "source": [
        "# Эксперимент № 3\n",
        "# Еще увеличим размер эмбеддинг-пространства. Нейронка посильнее.\n",
        "ветвь1 = 'Эмбеддинг-50-' + количество_анализируемых_слов + '-' + размер_окна + ' Выравнивающий Полносвязный-16'\n",
        "ветвь2 = 'Полносвязный-64 Полносвязный-32 Полносвязный-16'\n",
        "ветвь3 = 'Полносвязный-32'\n",
        "нейронка_тесла_3 = терра_ии.создать_составную_сеть(обучающая_выборка, метки_обучающей_выборки, ветвь1, ветвь2, ветвь3)"
      ],
      "execution_count": 48,
      "outputs": []
    },
    {
      "cell_type": "code",
      "metadata": {
        "colab": {
          "base_uri": "https://localhost:8080/",
          "height": 747
        },
        "id": "EhhbSchnT7ie",
        "outputId": "7d88958d-45fa-4d5a-e6dc-1b9fa7ade587"
      },
      "source": [
        "# Обучаем модель\n",
        "эксперимент_3 = терра_ии.обучение_модели(\n",
        "    нейронка_тесла_3,\n",
        "    обучающая_выборка, метки_обучающей_выборки,\n",
        "    тестовая_выборка, метки_тестовой_выборки,\n",
        "    размер_пакета = 32,\n",
        "    количество_эпох = 20)"
      ],
      "execution_count": 49,
      "outputs": [
        {
          "output_type": "stream",
          "text": [
            "Эпоха №1    Время обучения: 2.3c    Точность на обучающей выборке: 65.69%    Точность на проверочной выборке: 71.88%\n",
            "Эпоха №2    Время обучения: 1.63c   Точность на обучающей выборке: 99.16%    Точность на проверочной выборке: 93.75%\n",
            "Эпоха №3    Время обучения: 1.66c   Точность на обучающей выборке: 100.0%    Точность на проверочной выборке: 93.75%\n",
            "Эпоха №4    Время обучения: 1.66c   Точность на обучающей выборке: 100.0%    Точность на проверочной выборке: 93.75%\n",
            "Эпоха №5    Время обучения: 1.72c   Точность на обучающей выборке: 100.0%    Точность на проверочной выборке: 93.75%\n",
            "Эпоха №6    Время обучения: 1.71c   Точность на обучающей выборке: 100.0%    Точность на проверочной выборке: 93.75%\n",
            "Эпоха №7    Время обучения: 1.77c   Точность на обучающей выборке: 100.0%    Точность на проверочной выборке: 93.75%\n",
            "Эпоха №8    Время обучения: 1.75c   Точность на обучающей выборке: 100.0%    Точность на проверочной выборке: 93.75%\n",
            "Эпоха №9    Время обучения: 1.7c    Точность на обучающей выборке: 100.0%    Точность на проверочной выборке: 93.75%\n",
            "Эпоха №10   Время обучения: 1.68c   Точность на обучающей выборке: 100.0%    Точность на проверочной выборке: 93.75%\n",
            "Эпоха №11   Время обучения: 1.69c   Точность на обучающей выборке: 100.0%    Точность на проверочной выборке: 93.75%\n",
            "Эпоха №12   Время обучения: 1.67c   Точность на обучающей выборке: 100.0%    Точность на проверочной выборке: 93.75%\n",
            "Эпоха №13   Время обучения: 1.68c   Точность на обучающей выборке: 100.0%    Точность на проверочной выборке: 93.75%\n",
            "Эпоха №14   Время обучения: 1.7c    Точность на обучающей выборке: 100.0%    Точность на проверочной выборке: 93.75%\n",
            "Эпоха №15   Время обучения: 1.67c   Точность на обучающей выборке: 100.0%    Точность на проверочной выборке: 93.75%\n",
            "Эпоха №16   Время обучения: 1.71c   Точность на обучающей выборке: 100.0%    Точность на проверочной выборке: 93.75%\n",
            "Эпоха №17   Время обучения: 1.72c   Точность на обучающей выборке: 100.0%    Точность на проверочной выборке: 93.75%\n",
            "Эпоха №18   Время обучения: 1.67c   Точность на обучающей выборке: 100.0%    Точность на проверочной выборке: 93.75%\n",
            "Эпоха №19   Время обучения: 1.68c   Точность на обучающей выборке: 100.0%    Точность на проверочной выборке: 93.75%\n",
            "\u001b[42m\u001b[37mЭпоха №20   Время обучения: 1.63c   Точность на обучающей выборке: 100.0%    Точность на проверочной выборке: 93.75%\u001b[0m\n",
            "\n"
          ],
          "name": "stdout"
        },
        {
          "output_type": "display_data",
          "data": {
            "image/png": "[encoded data removed]",
            "text/plain": [
              "<Figure size 864x432 with 1 Axes>"
            ]
          },
          "metadata": {
            "tags": [],
            "needs_background": "light"
          }
        }
      ]
    },
    {
      "cell_type": "code",
      "metadata": {
        "id": "JcZ8kpMsGJK_",
        "colab": {
          "base_uri": "https://localhost:8080/"
        },
        "outputId": "1e847659-7648-4e8e-d2b5-bb4675448695"
      },
      "source": [
        "# Демонстрация результата работы нейронной сети\n",
        "отзыв = 'После 170 на трассе она чувствует себя неуверенно.'\n",
        "терра_ии.тест_модели_отзывы(нейронка_тесла_3, размер_окна, шаг,\n",
        "                              отзыв, классы = ['Негативный отзыв', 'Позитивный отзыв'])"
      ],
      "execution_count": 50,
      "outputs": [
        {
          "output_type": "stream",
          "text": [
            "Негативный отзыв   -  24.38 %\n",
            "Позитивный отзыв   -  75.62 %\n",
            "\n",
            "Нейросеть думает, что это: Позитивный отзыв - 75.62%\n"
          ],
          "name": "stdout"
        }
      ]
    },
    {
      "cell_type": "code",
      "metadata": {
        "colab": {
          "base_uri": "https://localhost:8080/"
        },
        "id": "JO55TaU0FH8n",
        "outputId": "1d3ab512-ee40-4929-8ab7-0b4f985d1f59"
      },
      "source": [
        "# Демонстрация результата работы нейронной сети\n",
        "отзыв = 'Самая быстрая красивая мощная'\n",
        "терра_ии.тест_модели_отзывы(нейронка_тесла_3, размер_окна, шаг,\n",
        "                              отзыв, классы = ['Негативный отзыв', 'Позитивный отзыв'])"
      ],
      "execution_count": 51,
      "outputs": [
        {
          "output_type": "stream",
          "text": [
            "Негативный отзыв   -  18.65 %\n",
            "Позитивный отзыв   -  81.35 %\n",
            "\n",
            "Нейросеть думает, что это: Позитивный отзыв - 81.35%\n"
          ],
          "name": "stdout"
        }
      ]
    },
    {
      "cell_type": "code",
      "metadata": {
        "id": "ltR_KF9jK1uu"
      },
      "source": [
        "# Эксперимент № 4\n",
        "# Более сильная нейронка\n",
        "ветвь1 = 'Эмбеддинг-100-' + количество_анализируемых_слов + '-' + размер_окна + ' Выравнивающий Полносвязный-32'\n",
        "ветвь2 = 'Полносвязный-128 Полносвязный-64 Полносвязный-32'\n",
        "ветвь3 = 'Полносвязный-32'\n",
        "нейронка_тесла_4 = терра_ии.создать_составную_сеть(обучающая_выборка, метки_обучающей_выборки, ветвь1, ветвь2, ветвь3)"
      ],
      "execution_count": 52,
      "outputs": []
    },
    {
      "cell_type": "code",
      "metadata": {
        "id": "1EkEXDxSK1uw",
        "colab": {
          "base_uri": "https://localhost:8080/",
          "height": 747
        },
        "outputId": "f957d2e9-4f58-4e6d-d3b2-ba33a781c9cc"
      },
      "source": [
        "# Обучаем модель\n",
        "эксперимент_4 = терра_ии.обучение_модели(\n",
        "    нейронка_тесла_4,\n",
        "    обучающая_выборка, метки_обучающей_выборки,\n",
        "    тестовая_выборка, метки_тестовой_выборки,\n",
        "    размер_пакета = 32,\n",
        "    количество_эпох = 20)"
      ],
      "execution_count": 53,
      "outputs": [
        {
          "output_type": "stream",
          "text": [
            "Эпоха №1    Время обучения: 3.2c    Точность на обучающей выборке: 71.71%    Точность на проверочной выборке: 87.5%\n",
            "Эпоха №2    Время обучения: 2.42c   Точность на обучающей выборке: 99.91%    Точность на проверочной выборке: 90.62%\n",
            "Эпоха №3    Время обучения: 2.45c   Точность на обучающей выборке: 100.0%    Точность на проверочной выборке: 90.62%\n",
            "Эпоха №4    Время обучения: 2.38c   Точность на обучающей выборке: 100.0%    Точность на проверочной выборке: 93.75%\n",
            "Эпоха №5    Время обучения: 2.43c   Точность на обучающей выборке: 100.0%    Точность на проверочной выборке: 93.75%\n",
            "Эпоха №6    Время обучения: 2.41c   Точность на обучающей выборке: 100.0%    Точность на проверочной выборке: 93.75%\n",
            "Эпоха №7    Время обучения: 2.44c   Точность на обучающей выборке: 100.0%    Точность на проверочной выборке: 93.75%\n",
            "Эпоха №8    Время обучения: 2.37c   Точность на обучающей выборке: 100.0%    Точность на проверочной выборке: 93.75%\n",
            "Эпоха №9    Время обучения: 2.34c   Точность на обучающей выборке: 100.0%    Точность на проверочной выборке: 93.75%\n",
            "Эпоха №10   Время обучения: 2.41c   Точность на обучающей выборке: 100.0%    Точность на проверочной выборке: 93.75%\n",
            "Эпоха №11   Время обучения: 2.35c   Точность на обучающей выборке: 100.0%    Точность на проверочной выборке: 93.75%\n",
            "Эпоха №12   Время обучения: 2.4c    Точность на обучающей выборке: 100.0%    Точность на проверочной выборке: 93.75%\n",
            "Эпоха №13   Время обучения: 2.37c   Точность на обучающей выборке: 100.0%    Точность на проверочной выборке: 93.75%\n",
            "Эпоха №14   Время обучения: 2.41c   Точность на обучающей выборке: 100.0%    Точность на проверочной выборке: 93.75%\n",
            "Эпоха №15   Время обучения: 2.38c   Точность на обучающей выборке: 100.0%    Точность на проверочной выборке: 93.75%\n",
            "Эпоха №16   Время обучения: 2.46c   Точность на обучающей выборке: 100.0%    Точность на проверочной выборке: 93.75%\n",
            "Эпоха №17   Время обучения: 2.6c    Точность на обучающей выборке: 100.0%    Точность на проверочной выборке: 93.75%\n",
            "Эпоха №18   Время обучения: 2.56c   Точность на обучающей выборке: 100.0%    Точность на проверочной выборке: 93.75%\n",
            "Эпоха №19   Время обучения: 2.59c   Точность на обучающей выборке: 100.0%    Точность на проверочной выборке: 93.75%\n",
            "\u001b[42m\u001b[37mЭпоха №20   Время обучения: 2.54c   Точность на обучающей выборке: 100.0%    Точность на проверочной выборке: 93.75%\u001b[0m\n",
            "\n"
          ],
          "name": "stdout"
        },
        {
          "output_type": "display_data",
          "data": {
            "image/png": "[encoded data removed]",
            "text/plain": [
              "<Figure size 864x432 with 1 Axes>"
            ]
          },
          "metadata": {
            "tags": [],
            "needs_background": "light"
          }
        }
      ]
    },
    {
      "cell_type": "code",
      "metadata": {
        "id": "opw4dK0EGpwj",
        "colab": {
          "base_uri": "https://localhost:8080/"
        },
        "outputId": "ce7e7c3a-d95a-4d28-abe5-89783cfab256"
      },
      "source": [
        "# Демонстрация результата работы нейронной сети\n",
        "отзыв = 'Машина мне нравится, хоть она и дорогая. Удобная в эксплуатации'\n",
        "терра_ии.тест_модели_отзывы(нейронка_тесла_4, размер_окна, шаг,\n",
        "                              отзыв, классы = ['Негативный отзыв', 'Позитивный отзыв'])"
      ],
      "execution_count": 54,
      "outputs": [
        {
          "output_type": "stream",
          "text": [
            "Негативный отзыв   -  49.39 %\n",
            "Позитивный отзыв   -  50.61 %\n",
            "\n",
            "Нейросеть думает, что это: Позитивный отзыв - 50.61%\n"
          ],
          "name": "stdout"
        }
      ]
    },
    {
      "cell_type": "code",
      "metadata": {
        "colab": {
          "base_uri": "https://localhost:8080/"
        },
        "id": "P9nk2JpgFMSe",
        "outputId": "88268ea9-dbce-473a-fc68-691ffe19d1c8"
      },
      "source": [
        "# Демонстрация результата работы нейронной сети\n",
        "отзыв = 'Самая быстрая красивая мощная'\n",
        "терра_ии.тест_модели_отзывы(нейронка_тесла_4, размер_окна, шаг,\n",
        "                              отзыв, классы = ['Негативный отзыв', 'Позитивный отзыв'])"
      ],
      "execution_count": 55,
      "outputs": [
        {
          "output_type": "stream",
          "text": [
            "Негативный отзыв   -  42.81 %\n",
            "Позитивный отзыв   -  57.19 %\n",
            "\n",
            "Нейросеть думает, что это: Позитивный отзыв - 57.19%\n"
          ],
          "name": "stdout"
        }
      ]
    },
    {
      "cell_type": "code",
      "metadata": {
        "id": "eE21RumeMfOM"
      },
      "source": [
        "# Эксперимент № 5\n",
        "# Еще усилим модель\n",
        "ветвь1 = 'Эмбеддинг-100-' + количество_анализируемых_слов + '-' + размер_окна + ' Выравнивающий Полносвязный-100'\n",
        "ветвь2 = 'Полносвязный-1024 Полносвязный-256 Полносвязный-64'\n",
        "ветвь3 = 'Полносвязный-100'\n",
        "нейронка_тесла_5 = терра_ии.создать_составную_сеть(обучающая_выборка, метки_обучающей_выборки, ветвь1, ветвь2, ветвь3)"
      ],
      "execution_count": 56,
      "outputs": []
    },
    {
      "cell_type": "code",
      "metadata": {
        "id": "nsGSljYoMfON",
        "colab": {
          "base_uri": "https://localhost:8080/",
          "height": 357
        },
        "outputId": "491f5717-b022-41e9-c9ef-2b93ea0865f9"
      },
      "source": [
        "# Обучаем модель\n",
        "эксперимент_5 = терра_ии.обучение_модели(\n",
        "    нейронка_тесла_5,\n",
        "    обучающая_выборка, метки_обучающей_выборки,\n",
        "    тестовая_выборка, метки_тестовой_выборки,\n",
        "    размер_пакета = 16,\n",
        "    количество_эпох = 20)"
      ],
      "execution_count": 57,
      "outputs": [
        {
          "output_type": "stream",
          "text": [
            "Эпоха №1    Время обучения: 5.67c   Точность на обучающей выборке: 90.41%    Точность на проверочной выборке: 90.62%\n"
          ],
          "name": "stdout"
        },
        {
          "output_type": "error",
          "ename": "KeyboardInterrupt",
          "evalue": "ignored",
          "traceback": [
            "\u001b[0;31m---------------------------------------------------------------------------\u001b[0m",
            "\u001b[0;31mKeyboardInterrupt\u001b[0m                         Traceback (most recent call last)",
            "\u001b[0;32m<ipython-input-57-d5204e03478a>\u001b[0m in \u001b[0;36m<module>\u001b[0;34m()\u001b[0m\n\u001b[1;32m      5\u001b[0m     \u001b[0mтестовая_выборка\u001b[0m\u001b[0;34m,\u001b[0m \u001b[0mметки_тестовой_выборки\u001b[0m\u001b[0;34m,\u001b[0m\u001b[0;34m\u001b[0m\u001b[0;34m\u001b[0m\u001b[0m\n\u001b[1;32m      6\u001b[0m     \u001b[0mразмер_пакета\u001b[0m \u001b[0;34m=\u001b[0m \u001b[0;36m16\u001b[0m\u001b[0;34m,\u001b[0m\u001b[0;34m\u001b[0m\u001b[0;34m\u001b[0m\u001b[0m\n\u001b[0;32m----> 7\u001b[0;31m     количество_эпох = 20)\n\u001b[0m",
            "\u001b[0;32m/usr/local/lib/python3.7/dist-packages/terra_ai/терра_ии.py\u001b[0m in \u001b[0;36mобучение_модели\u001b[0;34m(мод, x_train, y_train, x_test, y_test, размер_пакета, количество_эпох, коэф_разделения, **kwargs)\u001b[0m\n\u001b[1;32m    262\u001b[0m \u001b[0;32mdef\u001b[0m \u001b[0mобучение_модели\u001b[0m\u001b[0;34m(\u001b[0m\u001b[0mмод\u001b[0m\u001b[0;34m,\u001b[0m \u001b[0mx_train\u001b[0m\u001b[0;34m,\u001b[0m \u001b[0my_train\u001b[0m\u001b[0;34m,\u001b[0m \u001b[0mx_test\u001b[0m\u001b[0;34m=\u001b[0m\u001b[0;34m[\u001b[0m\u001b[0;34m]\u001b[0m\u001b[0;34m,\u001b[0m \u001b[0my_test\u001b[0m\u001b[0;34m=\u001b[0m\u001b[0;34m[\u001b[0m\u001b[0;34m]\u001b[0m\u001b[0;34m,\u001b[0m \u001b[0mразмер_пакета\u001b[0m\u001b[0;34m=\u001b[0m\u001b[0;32mNone\u001b[0m\u001b[0;34m,\u001b[0m \u001b[0mколичество_эпох\u001b[0m\u001b[0;34m=\u001b[0m\u001b[0;32mNone\u001b[0m\u001b[0;34m,\u001b[0m \u001b[0mкоэф_разделения\u001b[0m \u001b[0;34m=\u001b[0m \u001b[0;36m0.2\u001b[0m\u001b[0;34m,\u001b[0m \u001b[0;34m**\u001b[0m\u001b[0mkwargs\u001b[0m\u001b[0;34m)\u001b[0m\u001b[0;34m:\u001b[0m\u001b[0;34m\u001b[0m\u001b[0;34m\u001b[0m\u001b[0m\n\u001b[1;32m    263\u001b[0m   \u001b[0;32mglobal\u001b[0m \u001b[0mhistory\u001b[0m\u001b[0;34m\u001b[0m\u001b[0;34m\u001b[0m\u001b[0m\n\u001b[0;32m--> 264\u001b[0;31m   \u001b[0;32mreturn\u001b[0m \u001b[0mмодель\u001b[0m\u001b[0;34m.\u001b[0m\u001b[0mобучение_модели\u001b[0m\u001b[0;34m(\u001b[0m\u001b[0mмод\u001b[0m\u001b[0;34m,\u001b[0m \u001b[0mx_train\u001b[0m\u001b[0;34m,\u001b[0m \u001b[0my_train\u001b[0m\u001b[0;34m,\u001b[0m \u001b[0mx_test\u001b[0m\u001b[0;34m,\u001b[0m \u001b[0my_test\u001b[0m\u001b[0;34m,\u001b[0m \u001b[0mразмер_пакета\u001b[0m\u001b[0;34m,\u001b[0m \u001b[0mколичество_эпох\u001b[0m\u001b[0;34m,\u001b[0m \u001b[0mкоэф_разделения\u001b[0m\u001b[0;34m,\u001b[0m \u001b[0;34m**\u001b[0m\u001b[0mkwargs\u001b[0m\u001b[0;34m)\u001b[0m\u001b[0;34m\u001b[0m\u001b[0;34m\u001b[0m\u001b[0m\n\u001b[0m\u001b[1;32m    265\u001b[0m \u001b[0;34m\u001b[0m\u001b[0m\n\u001b[1;32m    266\u001b[0m \u001b[0;32mdef\u001b[0m \u001b[0mобучение_модели_временного_ряда\u001b[0m\u001b[0;34m(\u001b[0m\u001b[0mмод\u001b[0m\u001b[0;34m,\u001b[0m \u001b[0mген1\u001b[0m\u001b[0;34m,\u001b[0m \u001b[0mген2\u001b[0m\u001b[0;34m,\u001b[0m \u001b[0mколичество_эпох\u001b[0m\u001b[0;34m=\u001b[0m\u001b[0;32mNone\u001b[0m\u001b[0;34m)\u001b[0m\u001b[0;34m:\u001b[0m\u001b[0;34m\u001b[0m\u001b[0;34m\u001b[0m\u001b[0m\n",
            "\u001b[0;32m/usr/local/lib/python3.7/dist-packages/terra_ai/модель.py\u001b[0m in \u001b[0;36mобучение_модели\u001b[0;34m(модель, x_train, y_train, x_test, y_test, batch_size, epochs, коэф_разделения, **kwargs)\u001b[0m\n\u001b[1;32m    848\u001b[0m       \u001b[0mhistory\u001b[0m \u001b[0;34m=\u001b[0m \u001b[0mмодель\u001b[0m\u001b[0;34m.\u001b[0m\u001b[0mfit\u001b[0m\u001b[0;34m(\u001b[0m\u001b[0mx_train\u001b[0m\u001b[0;34m,\u001b[0m \u001b[0my_train\u001b[0m\u001b[0;34m,\u001b[0m \u001b[0mbatch_size\u001b[0m\u001b[0;34m=\u001b[0m\u001b[0mbatch_size\u001b[0m\u001b[0;34m,\u001b[0m \u001b[0mepochs\u001b[0m\u001b[0;34m=\u001b[0m\u001b[0mepochs\u001b[0m\u001b[0;34m,\u001b[0m \u001b[0mcallbacks\u001b[0m\u001b[0;34m=\u001b[0m\u001b[0;34m[\u001b[0m\u001b[0mmodel_checkpoint_callback\u001b[0m\u001b[0;34m,\u001b[0m \u001b[0mmyCB\u001b[0m\u001b[0;34m]\u001b[0m\u001b[0;34m,\u001b[0m \u001b[0mverbose\u001b[0m \u001b[0;34m=\u001b[0m \u001b[0;36m0\u001b[0m\u001b[0;34m)\u001b[0m\u001b[0;34m\u001b[0m\u001b[0;34m\u001b[0m\u001b[0m\n\u001b[1;32m    849\u001b[0m     \u001b[0;32melse\u001b[0m\u001b[0;34m:\u001b[0m\u001b[0;34m\u001b[0m\u001b[0;34m\u001b[0m\u001b[0m\n\u001b[0;32m--> 850\u001b[0;31m       \u001b[0mhistory\u001b[0m \u001b[0;34m=\u001b[0m \u001b[0mмодель\u001b[0m\u001b[0;34m.\u001b[0m\u001b[0mfit\u001b[0m\u001b[0;34m(\u001b[0m\u001b[0mx_train\u001b[0m\u001b[0;34m,\u001b[0m \u001b[0my_train\u001b[0m\u001b[0;34m,\u001b[0m \u001b[0mbatch_size\u001b[0m\u001b[0;34m=\u001b[0m\u001b[0mbatch_size\u001b[0m\u001b[0;34m,\u001b[0m \u001b[0mepochs\u001b[0m\u001b[0;34m=\u001b[0m\u001b[0mepochs\u001b[0m\u001b[0;34m,\u001b[0m \u001b[0mvalidation_data\u001b[0m \u001b[0;34m=\u001b[0m \u001b[0;34m(\u001b[0m\u001b[0mx_test\u001b[0m\u001b[0;34m,\u001b[0m \u001b[0my_test\u001b[0m\u001b[0;34m)\u001b[0m\u001b[0;34m,\u001b[0m \u001b[0mcallbacks\u001b[0m\u001b[0;34m=\u001b[0m\u001b[0;34m[\u001b[0m\u001b[0mmodel_checkpoint_callback\u001b[0m\u001b[0;34m,\u001b[0m \u001b[0mmyCB\u001b[0m\u001b[0;34m]\u001b[0m\u001b[0;34m,\u001b[0m \u001b[0mverbose\u001b[0m \u001b[0;34m=\u001b[0m \u001b[0;36m0\u001b[0m\u001b[0;34m)\u001b[0m\u001b[0;34m\u001b[0m\u001b[0;34m\u001b[0m\u001b[0m\n\u001b[0m\u001b[1;32m    851\u001b[0m \u001b[0;34m\u001b[0m\u001b[0m\n\u001b[1;32m    852\u001b[0m     \u001b[0mмодель\u001b[0m\u001b[0;34m.\u001b[0m\u001b[0mload_weights\u001b[0m\u001b[0;34m(\u001b[0m\u001b[0;34m'model.h5'\u001b[0m\u001b[0;34m)\u001b[0m\u001b[0;34m\u001b[0m\u001b[0;34m\u001b[0m\u001b[0m\n",
            "\u001b[0;32m/usr/local/lib/python3.7/dist-packages/tensorflow/python/keras/engine/training.py\u001b[0m in \u001b[0;36mfit\u001b[0;34m(self, x, y, batch_size, epochs, verbose, callbacks, validation_split, validation_data, shuffle, class_weight, sample_weight, initial_epoch, steps_per_epoch, validation_steps, validation_batch_size, validation_freq, max_queue_size, workers, use_multiprocessing)\u001b[0m\n\u001b[1;32m   1181\u001b[0m                 _r=1):\n\u001b[1;32m   1182\u001b[0m               \u001b[0mcallbacks\u001b[0m\u001b[0;34m.\u001b[0m\u001b[0mon_train_batch_begin\u001b[0m\u001b[0;34m(\u001b[0m\u001b[0mstep\u001b[0m\u001b[0;34m)\u001b[0m\u001b[0;34m\u001b[0m\u001b[0;34m\u001b[0m\u001b[0m\n\u001b[0;32m-> 1183\u001b[0;31m               \u001b[0mtmp_logs\u001b[0m \u001b[0;34m=\u001b[0m \u001b[0mself\u001b[0m\u001b[0;34m.\u001b[0m\u001b[0mtrain_function\u001b[0m\u001b[0;34m(\u001b[0m\u001b[0miterator\u001b[0m\u001b[0;34m)\u001b[0m\u001b[0;34m\u001b[0m\u001b[0;34m\u001b[0m\u001b[0m\n\u001b[0m\u001b[1;32m   1184\u001b[0m               \u001b[0;32mif\u001b[0m \u001b[0mdata_handler\u001b[0m\u001b[0;34m.\u001b[0m\u001b[0mshould_sync\u001b[0m\u001b[0;34m:\u001b[0m\u001b[0;34m\u001b[0m\u001b[0;34m\u001b[0m\u001b[0m\n\u001b[1;32m   1185\u001b[0m                 \u001b[0mcontext\u001b[0m\u001b[0;34m.\u001b[0m\u001b[0masync_wait\u001b[0m\u001b[0;34m(\u001b[0m\u001b[0;34m)\u001b[0m\u001b[0;34m\u001b[0m\u001b[0;34m\u001b[0m\u001b[0m\n",
            "\u001b[0;32m/usr/local/lib/python3.7/dist-packages/tensorflow/python/eager/def_function.py\u001b[0m in \u001b[0;36m__call__\u001b[0;34m(self, *args, **kwds)\u001b[0m\n\u001b[1;32m    887\u001b[0m \u001b[0;34m\u001b[0m\u001b[0m\n\u001b[1;32m    888\u001b[0m       \u001b[0;32mwith\u001b[0m \u001b[0mOptionalXlaContext\u001b[0m\u001b[0;34m(\u001b[0m\u001b[0mself\u001b[0m\u001b[0;34m.\u001b[0m\u001b[0m_jit_compile\u001b[0m\u001b[0;34m)\u001b[0m\u001b[0;34m:\u001b[0m\u001b[0;34m\u001b[0m\u001b[0;34m\u001b[0m\u001b[0m\n\u001b[0;32m--> 889\u001b[0;31m         \u001b[0mresult\u001b[0m \u001b[0;34m=\u001b[0m \u001b[0mself\u001b[0m\u001b[0;34m.\u001b[0m\u001b[0m_call\u001b[0m\u001b[0;34m(\u001b[0m\u001b[0;34m*\u001b[0m\u001b[0margs\u001b[0m\u001b[0;34m,\u001b[0m \u001b[0;34m**\u001b[0m\u001b[0mkwds\u001b[0m\u001b[0;34m)\u001b[0m\u001b[0;34m\u001b[0m\u001b[0;34m\u001b[0m\u001b[0m\n\u001b[0m\u001b[1;32m    890\u001b[0m \u001b[0;34m\u001b[0m\u001b[0m\n\u001b[1;32m    891\u001b[0m       \u001b[0mnew_tracing_count\u001b[0m \u001b[0;34m=\u001b[0m \u001b[0mself\u001b[0m\u001b[0;34m.\u001b[0m\u001b[0mexperimental_get_tracing_count\u001b[0m\u001b[0;34m(\u001b[0m\u001b[0;34m)\u001b[0m\u001b[0;34m\u001b[0m\u001b[0;34m\u001b[0m\u001b[0m\n",
            "\u001b[0;32m/usr/local/lib/python3.7/dist-packages/tensorflow/python/eager/def_function.py\u001b[0m in \u001b[0;36m_call\u001b[0;34m(self, *args, **kwds)\u001b[0m\n\u001b[1;32m    915\u001b[0m       \u001b[0;31m# In this case we have created variables on the first call, so we run the\u001b[0m\u001b[0;34m\u001b[0m\u001b[0;34m\u001b[0m\u001b[0;34m\u001b[0m\u001b[0m\n\u001b[1;32m    916\u001b[0m       \u001b[0;31m# defunned version which is guaranteed to never create variables.\u001b[0m\u001b[0;34m\u001b[0m\u001b[0;34m\u001b[0m\u001b[0;34m\u001b[0m\u001b[0m\n\u001b[0;32m--> 917\u001b[0;31m       \u001b[0;32mreturn\u001b[0m \u001b[0mself\u001b[0m\u001b[0;34m.\u001b[0m\u001b[0m_stateless_fn\u001b[0m\u001b[0;34m(\u001b[0m\u001b[0;34m*\u001b[0m\u001b[0margs\u001b[0m\u001b[0;34m,\u001b[0m \u001b[0;34m**\u001b[0m\u001b[0mkwds\u001b[0m\u001b[0;34m)\u001b[0m  \u001b[0;31m# pylint: disable=not-callable\u001b[0m\u001b[0;34m\u001b[0m\u001b[0;34m\u001b[0m\u001b[0m\n\u001b[0m\u001b[1;32m    918\u001b[0m     \u001b[0;32melif\u001b[0m \u001b[0mself\u001b[0m\u001b[0;34m.\u001b[0m\u001b[0m_stateful_fn\u001b[0m \u001b[0;32mis\u001b[0m \u001b[0;32mnot\u001b[0m \u001b[0;32mNone\u001b[0m\u001b[0;34m:\u001b[0m\u001b[0;34m\u001b[0m\u001b[0;34m\u001b[0m\u001b[0m\n\u001b[1;32m    919\u001b[0m       \u001b[0;31m# Release the lock early so that multiple threads can perform the call\u001b[0m\u001b[0;34m\u001b[0m\u001b[0;34m\u001b[0m\u001b[0;34m\u001b[0m\u001b[0m\n",
            "\u001b[0;32m/usr/local/lib/python3.7/dist-packages/tensorflow/python/eager/function.py\u001b[0m in \u001b[0;36m__call__\u001b[0;34m(self, *args, **kwargs)\u001b[0m\n\u001b[1;32m   3022\u001b[0m        filtered_flat_args) = self._maybe_define_function(args, kwargs)\n\u001b[1;32m   3023\u001b[0m     return graph_function._call_flat(\n\u001b[0;32m-> 3024\u001b[0;31m         filtered_flat_args, captured_inputs=graph_function.captured_inputs)  # pylint: disable=protected-access\n\u001b[0m\u001b[1;32m   3025\u001b[0m \u001b[0;34m\u001b[0m\u001b[0m\n\u001b[1;32m   3026\u001b[0m   \u001b[0;34m@\u001b[0m\u001b[0mproperty\u001b[0m\u001b[0;34m\u001b[0m\u001b[0;34m\u001b[0m\u001b[0m\n",
            "\u001b[0;32m/usr/local/lib/python3.7/dist-packages/tensorflow/python/eager/function.py\u001b[0m in \u001b[0;36m_call_flat\u001b[0;34m(self, args, captured_inputs, cancellation_manager)\u001b[0m\n\u001b[1;32m   1959\u001b[0m       \u001b[0;31m# No tape is watching; skip to running the function.\u001b[0m\u001b[0;34m\u001b[0m\u001b[0;34m\u001b[0m\u001b[0;34m\u001b[0m\u001b[0m\n\u001b[1;32m   1960\u001b[0m       return self._build_call_outputs(self._inference_function.call(\n\u001b[0;32m-> 1961\u001b[0;31m           ctx, args, cancellation_manager=cancellation_manager))\n\u001b[0m\u001b[1;32m   1962\u001b[0m     forward_backward = self._select_forward_and_backward_functions(\n\u001b[1;32m   1963\u001b[0m         \u001b[0margs\u001b[0m\u001b[0;34m,\u001b[0m\u001b[0;34m\u001b[0m\u001b[0;34m\u001b[0m\u001b[0m\n",
            "\u001b[0;32m/usr/local/lib/python3.7/dist-packages/tensorflow/python/eager/function.py\u001b[0m in \u001b[0;36mcall\u001b[0;34m(self, ctx, args, cancellation_manager)\u001b[0m\n\u001b[1;32m    594\u001b[0m               \u001b[0minputs\u001b[0m\u001b[0;34m=\u001b[0m\u001b[0margs\u001b[0m\u001b[0;34m,\u001b[0m\u001b[0;34m\u001b[0m\u001b[0;34m\u001b[0m\u001b[0m\n\u001b[1;32m    595\u001b[0m               \u001b[0mattrs\u001b[0m\u001b[0;34m=\u001b[0m\u001b[0mattrs\u001b[0m\u001b[0;34m,\u001b[0m\u001b[0;34m\u001b[0m\u001b[0;34m\u001b[0m\u001b[0m\n\u001b[0;32m--> 596\u001b[0;31m               ctx=ctx)\n\u001b[0m\u001b[1;32m    597\u001b[0m         \u001b[0;32melse\u001b[0m\u001b[0;34m:\u001b[0m\u001b[0;34m\u001b[0m\u001b[0;34m\u001b[0m\u001b[0m\n\u001b[1;32m    598\u001b[0m           outputs = execute.execute_with_cancellation(\n",
            "\u001b[0;32m/usr/local/lib/python3.7/dist-packages/tensorflow/python/eager/execute.py\u001b[0m in \u001b[0;36mquick_execute\u001b[0;34m(op_name, num_outputs, inputs, attrs, ctx, name)\u001b[0m\n\u001b[1;32m     58\u001b[0m     \u001b[0mctx\u001b[0m\u001b[0;34m.\u001b[0m\u001b[0mensure_initialized\u001b[0m\u001b[0;34m(\u001b[0m\u001b[0;34m)\u001b[0m\u001b[0;34m\u001b[0m\u001b[0;34m\u001b[0m\u001b[0m\n\u001b[1;32m     59\u001b[0m     tensors = pywrap_tfe.TFE_Py_Execute(ctx._handle, device_name, op_name,\n\u001b[0;32m---> 60\u001b[0;31m                                         inputs, attrs, num_outputs)\n\u001b[0m\u001b[1;32m     61\u001b[0m   \u001b[0;32mexcept\u001b[0m \u001b[0mcore\u001b[0m\u001b[0;34m.\u001b[0m\u001b[0m_NotOkStatusException\u001b[0m \u001b[0;32mas\u001b[0m \u001b[0me\u001b[0m\u001b[0;34m:\u001b[0m\u001b[0;34m\u001b[0m\u001b[0;34m\u001b[0m\u001b[0m\n\u001b[1;32m     62\u001b[0m     \u001b[0;32mif\u001b[0m \u001b[0mname\u001b[0m \u001b[0;32mis\u001b[0m \u001b[0;32mnot\u001b[0m \u001b[0;32mNone\u001b[0m\u001b[0;34m:\u001b[0m\u001b[0;34m\u001b[0m\u001b[0;34m\u001b[0m\u001b[0m\n",
            "\u001b[0;31mKeyboardInterrupt\u001b[0m: "
          ]
        }
      ]
    },
    {
      "cell_type": "code",
      "metadata": {
        "id": "2pm-23ZlHHMa"
      },
      "source": [
        "# Демонстрация результата работы нейронной сети\n",
        "отзыв = 'Нереально шикарная машина. Нет слов просто. Мечта!'\n",
        "терра_ии.тест_модели_отзывы(нейронка_тесла_5, размер_окна, шаг,\n",
        "                              отзыв, классы = ['Негативный отзыв', 'Позитивный отзыв'])"
      ],
      "execution_count": null,
      "outputs": []
    },
    {
      "cell_type": "code",
      "metadata": {
        "id": "yYGeoYPMFPuL"
      },
      "source": [
        "# Демонстрация результата работы нейронной сети\n",
        "отзыв = 'Самая быстрая красивая мощная'\n",
        "терра_ии.тест_модели_отзывы(нейронка_тесла_5, размер_окна, шаг,\n",
        "                              отзыв, классы = ['Негативный отзыв', 'Позитивный отзыв'])"
      ],
      "execution_count": null,
      "outputs": []
    },
    {
      "cell_type": "code",
      "metadata": {
        "id": "LK_qAByodRsY"
      },
      "source": [
        "# Эксперимент № 6\n",
        "# Сильная модель. Еще больший размер эмбеддинг-пространства\n",
        "ветвь1 = 'Эмбеддинг-300-' + количество_анализируемых_слов + '-' + размер_окна + ' Выравнивающий Полносвязный-200'\n",
        "ветвь2 = 'Полносвязный-4096 Полносвязный-512 Полносвязный-128' \n",
        "ветвь3 = 'Полносвязный-100'\n",
        "\n",
        "нейронка_тесла_6 = терра_ии.создать_составную_сеть(\n",
        "    обучающая_выборка, метки_обучающей_выборки,\n",
        "    ветвь1, ветвь2, ветвь3)"
      ],
      "execution_count": null,
      "outputs": []
    },
    {
      "cell_type": "code",
      "metadata": {
        "id": "C6t0xTcldRsl"
      },
      "source": [
        "# Обучаем модель\n",
        "эксперимент_6 = терра_ии.обучение_модели(\n",
        "    нейронка_тесла_6,\n",
        "    обучающая_выборка, метки_обучающей_выборки,\n",
        "    тестовая_выборка, метки_тестовой_выборки,\n",
        "    размер_пакета = 16,\n",
        "    количество_эпох = 20)"
      ],
      "execution_count": null,
      "outputs": []
    },
    {
      "cell_type": "code",
      "metadata": {
        "id": "vCDqkfcqHVyY"
      },
      "source": [
        "# Демонстрация результата работы нейронной сети\n",
        "отзыв = 'Главная проблема у Тесла это дизайн'\n",
        "терра_ии.тест_модели_отзывы(нейронка_тесла_6, размер_окна, шаг,\n",
        "                              отзыв, классы = ['Негативный отзыв', 'Позитивный отзыв'])"
      ],
      "execution_count": null,
      "outputs": []
    },
    {
      "cell_type": "code",
      "metadata": {
        "id": "R06qwEW_FXDs"
      },
      "source": [
        "# Демонстрация результата работы нейронной сети\n",
        "отзыв = 'Самая быстрая красивая мощная'\n",
        "терра_ии.тест_модели_отзывы(нейронка_тесла_6, размер_окна, шаг,\n",
        "                              отзыв, классы = ['Негативный отзыв', 'Позитивный отзыв'])"
      ],
      "execution_count": null,
      "outputs": []
    },
    {
      "cell_type": "markdown",
      "metadata": {
        "id": "EGoFeaFhQ8WP"
      },
      "source": [
        "## Определение стоимости квартиры в Москве"
      ]
    },
    {
      "cell_type": "code",
      "metadata": {
        "id": "D35SEM9MSSeg"
      },
      "source": [
        "# Загружаем базу квартир\n",
        "терра_ии.загрузить_базу(база = 'КВАРТИРЫ', \n",
        "                   справка = 'Показать')"
      ],
      "execution_count": null,
      "outputs": []
    },
    {
      "cell_type": "code",
      "metadata": {
        "id": "cBD89kiPV2Eu"
      },
      "source": [
        "# Показываем примеры\n",
        "терра_ии.показать_пример_квартиры(количество=3)"
      ],
      "execution_count": null,
      "outputs": []
    },
    {
      "cell_type": "code",
      "metadata": {
        "id": "F-rMg8XGV6_z"
      },
      "source": [
        "# Создаем выборки\n",
        "(обучающая_выборка, метки_обучающей_выборки), (тестовая_выборка, метки_тестовой_выборки), инструменты = терра_ии.создать_выборки_квартир()"
      ],
      "execution_count": null,
      "outputs": []
    },
    {
      "cell_type": "code",
      "metadata": {
        "id": "bo3PH6J-X3M4"
      },
      "source": [
        "ветвь1 = 'Полносвязный-100 Полносвязный-50-linear'\n",
        "ветвь2 = 'Полносвязный-500-linear'\n",
        "финальная_часть = 'Полносвязный-1000 Полносвязный-500 Полносвязный-100 Полносвязный-1-linear'\n",
        "нейронка_квартиры_1 = терра_ии.создать_составную_сеть_квартиры(обучающая_выборка, ветвь1, ветвь2, финальная_часть)"
      ],
      "execution_count": null,
      "outputs": []
    },
    {
      "cell_type": "code",
      "metadata": {
        "id": "_xGgT31EbLLV"
      },
      "source": [
        "# Выводим схему модели\n",
        "терра_ии.схема_модели(нейронка_квартиры_1)"
      ],
      "execution_count": null,
      "outputs": []
    },
    {
      "cell_type": "code",
      "metadata": {
        "id": "oNsOBp4cby-j"
      },
      "source": [
        "# Обучаем модель\n",
        "эксперимент_1 = терра_ии.обучение_модели_квартиры(\n",
        "    нейронка_квартиры_1,\n",
        "    обучающая_выборка, метки_обучающей_выборки,\n",
        "    тестовая_выборка, метки_тестовой_выборки,\n",
        "    размер_пакета = 256,\n",
        "    количество_эпох = 40,\n",
        "    инструменты = инструменты)"
      ],
      "execution_count": null,
      "outputs": []
    },
    {
      "cell_type": "code",
      "metadata": {
        "id": "vWuyOzYEmetq",
        "cellView": "form"
      },
      "source": [
        "#@title Тестирование модели: выберите параметры\n",
        "метро = \"\\u0421\\u043F\\u0430\\u0440\\u0442\\u0430\\u043A \\u043C.\" #@param ['Авиамоторная м.', 'Автозаводская м.', 'Автозаводская м. (МЦК)', 'Академическая м.', 'Алабушево станция', 'Александровский Сад м.', 'Алексеевская м.', 'Алма-Атинская м.', 'Алтуфьево м.', 'Андроновка м. (МЦК)', 'Аннино м.', 'Апрелевка станция', 'Арбатская м.', 'Аэропорт (старая) станция', 'Аэропорт Внуково станция', 'Аэропорт м.', 'Бабушкинская м.', 'Багратионовская м.', 'Балтийская м. (МЦК)', 'Баррикадная м.', 'Бауманская м.', 'Беговая м.', 'Бекасово-1 станция', 'Белокаменная м. (МЦК)', 'Беломорская м.', 'Белорусская м.', 'Беляево м.', 'Бибирево м.', 'Библиотека им.Ленина м.', 'Битцевский парк м.', 'Борисово м.', 'Боровицкая м.', 'Боровское шоссе м.', 'Ботанический сад м.', 'Ботанический сад м. (МЦК)', 'Братиславская м.', 'Бульвар Адмирала Ушакова м.', 'Бульвар Дмитрия Донского м.', 'Бульвар Рокоссовского м.', 'Бульвар Рокоссовского м. (МЦК)', 'Бунинская аллея м.', 'Бутырская м.', 'ВДНХ м.', 'Варшавская м.', 'Верхние Котлы м. (МЦК)', 'Верхние Лихоборы м.', 'Весенняя станция', 'Владыкино м.', 'Внуково станция', 'Водный стадион м.', 'Войковская м.', 'Волгоградский проспект м.', 'Волжская м.', 'Волоколамская м.', 'Воробьевы Горы м.', 'Выставочная м.', 'Выхино м.', 'Говорово м.', 'Гривно станция', 'Дачная станция', 'Деловой центр м.', 'Динамо м.', 'Дмитровская м.', 'Добрынинская м.', 'Домодедовская м.', 'Достоевская м.', 'Дубровка м.', 'Дубровка м. (МЦК)', 'Жулебино м.', 'ЗИЛ м. (МЦК)', 'Зорге м. (МЦК)', 'Зябликово м.', 'Измайлово м. (МЦК)', 'Измайловская м.', 'Калужская м.', 'Кантемировская м.', 'Каховская м.', 'Каширская м.', 'Киевская м.', 'Китай-Город м.', 'Кожуховская м.', 'Кокошкино станция', 'Коломенская м.', 'Колхозная станция', 'Коммунарка м.', 'Комсомольская м.', 'Коньково м.', 'Коптево м. (МЦК)', 'Косино м.', 'Котельники м.', 'Красногвардейская м.', 'Краснопресненская м.', 'Красносельская м.', 'Красные ворота м.', 'Крекшино станция', 'Крестьянская Застава м.', 'Кропоткинская м.', 'Крылатское м.', 'Крымская м. (МЦК)', 'Кузнецкий мост м.', 'Кузьминки м.', 'Кунцевская м.', 'Курская м.', 'Кутузовская м.', 'Кутузовская м. (МЦК)', 'Ленинский проспект м.', 'Лермонтовский проспект м.', 'Лесопарковая м.', 'Лихоборы м. (МЦК)', 'Локомотив м. (МЦК)', 'Ломоносовский проспект м.', 'Лубянка м.', 'Лужники м. (МЦК)', 'Лухмановская м.', 'Львовская станция', 'Люблино м.', 'Марксистская м.', 'Марьина Роща м.', 'Марьино м.', 'Маяковская м.', 'Медведково м.', 'Международная м.', 'Менделеевская м.', 'Минская м.', 'Митино м.', 'Мичуринец станция', 'Мичуринский проспект м.', 'Молодежная м.', 'Мякинино м.', 'Нагатинская м.', 'Нагорная м.', 'Нахимовский проспект м.', 'Некрасовка м.', 'Нижегородская м. (МЦК)', 'Нижегородская улица м.', 'Новогиреево м.', 'Новокосино м.', 'Новокузнецкая м.', 'Новопеределкино м.', 'Новослободская м.', 'Новохохловская м. (МЦК)', 'Новоясеневская м.', 'Новые Черемушки м.', 'Озерная м.', 'Окружная м.', 'Окружная м. (МЦК)', 'Окская улица м.', 'Октябрьская м.', 'Октябрьское поле м.', 'Ольховая м.', 'Орехово м.', 'Отрадное м.', 'Охотный ряд м.', 'Павелецкая м.', 'Панфиловская м. (МЦК)', 'Парк Победы м.', 'Парк культуры м.', 'Партизанская м.', 'Первомайская м.', 'Перово м.', 'Петровский парк м.', 'Петровско-Разумовская м.', 'Печатники м.', 'Пионерская м.', 'Планерная м.', 'Площадь Гагарина м. (МЦК)', 'Площадь Ильича м.', 'Площадь Революции м.', 'Победа станция', 'Подольск станция', 'Полежаевская м.', 'Полянка м.', 'Пражская м.', 'Преображенская площадь м.', 'Прокшино м.', 'Пролетарская м.', 'Проспект Вернадского м.', 'Проспект Мира м.', 'Профсоюзная м.', 'Пушкинская м.', 'Пятницкое шоссе м.', 'Раменки м.', 'Рассказовка м.', 'Рассудово станция', 'Речной вокзал м.', 'Рижская м.', 'Римская м.', 'Ростокино м. (МЦК)', 'Румянцево м.', 'Рязанский проспект м.', 'Савеловская м.', 'Савеловская метро', 'Саларьево м.', 'Свиблово м.', 'Севастопольская м.', 'Селигерская м.', 'Семеновская м.', 'Серпуховская м.', 'Силикатная станция', 'Славянский бульвар м.', 'Смоленская м.', 'Сокол м.', 'Соколиная Гора м. (МЦК)', 'Сокольники м.', 'Солнцево м.', 'Спартак м.', 'Спортивная м.', 'Сретенский бульвар м.', 'Стахановская м.', 'Столбово м.', 'Стрешнево м. (МЦК)', 'Строгино м.', 'Студенческая м.', 'Сухаревская м.', 'Сходненская м.', 'Таганская м.', 'Тверская м.', 'Театральная м.', 'Текстильщики м.', 'Теплый стан м.', 'Технопарк м.', 'Тимирязевская м.', 'Толстопальцево станция', 'Третьяковская м.', 'Тропарево м.', 'Трубная м.', 'Тульская м.', 'Тургеневская м.', 'Тушинская м.', 'Угрешская м. (МЦК)', 'Улица 1905 года м.', 'Улица Академика Янгеля м.', 'Улица Горчакова м.', 'Улица Дмитриевского м.', 'Улица Скобелевская м.', 'Улица Старокачаловская м.', 'Университет м.', 'Филатов луг м.', 'Филевский парк м.', 'Фили м.', 'Фонвизинская м.', 'Фрунзенская м.', 'Ховрино м.', 'Хорошево м. (МЦК)', 'Хорошевское м.', 'ЦСКА м.', 'Царицыно м.', 'Цветной бульвар м.', 'Черкизовская м.', 'Чертановская м.', 'Чеховская м.', 'Чистые пруды м.', 'Чкаловская м.', 'Шаболовская м.', 'Шелепиха м.', 'Шелепиха м. (МЦК)', 'Шипиловская м.', 'Шоссе Энтузиастов м.', 'Шоссе Энтузиастов м. (МЦК)', 'Щелковская м.', 'Щербинка станция', 'Щукинская м.', 'Электрозаводская м.', 'Юго-Восточная м.', 'Юго-Западная м.', 'Южная м.', 'Ясенево м.']\n",
        "до_станции =  4#@param {type:\"integer\"}\n",
        "способ_передвижения = \"\\u043F\\u0435\\u0448\\u043A\\u043E\\u043C\" #@param ['пешком', 'транспорт']\n",
        "этаж =  1#@param {type:\"integer\"}\n",
        "всего_этажей =  14#@param {type:\"integer\"}\n",
        "тип_балкона = 'Л' #@param ['Л', 'Б', '2Б', '-', '2Б2Л', 'БЛ', '3Б', '2Л', 'Эрк', 'Б2Л', 'ЭркЛ', '3Л', '4Л', '*Л', '*Б']\n",
        "тип_санузла = '2' #@param ['2', 'Р', 'С', '-', '2С', '+', '4Р', '2Р', '3С', '4С', '4', '3', '3Р']\n",
        "площадь = 87 #@param {type:\"number\"}\n",
        "описание = '\\u043F\\u0440\\u0435\\u043A\\u0440\\u0430\\u0441\\u043D\\u0430\\u044F \\u043A\\u0432\\u0430\\u0440\\u0442\\u0438\\u0440\\u0430 \\u0440\\u044F\\u0434\\u043E\\u043C \\u0441 \\u043F\\u0430\\u0440\\u043A\\u043E\\u043C' #@param {type:\"string\"}"
      ],
      "execution_count": null,
      "outputs": []
    },
    {
      "cell_type": "code",
      "metadata": {
        "id": "iU7auNuExIQ4"
      },
      "source": [
        "# Тестируем модель\n",
        "терра_ии.тест_модели_квартиры(\n",
        "    нейронка_квартиры_1, инструменты, \n",
        "    метро, до_станции, способ_передвижения, этаж, всего_этажей, тип_балкона, тип_санузла, площадь, описание)"
      ],
      "execution_count": null,
      "outputs": []
    },
    {
      "cell_type": "markdown",
      "metadata": {
        "id": "qQ8Qz-WCEQNw"
      },
      "source": [
        "## Подбор кандидата на должность менеджера по продажам "
      ]
    },
    {
      "cell_type": "code",
      "metadata": {
        "id": "Eh8DjygJPaqt"
      },
      "source": [
        "# Скачиваем базу вакансий\n",
        "терра_ии.загрузить_базу(база = 'ВАКАНСИИ',\n",
        "                    справка = 'Показать')"
      ],
      "execution_count": null,
      "outputs": []
    },
    {
      "cell_type": "code",
      "metadata": {
        "id": "ImQyZEJZPe0C"
      },
      "source": [
        "# Примеры из базы\n",
        "терра_ии.показать_примеры(\n",
        "    база = 'Вакансии')"
      ],
      "execution_count": null,
      "outputs": []
    },
    {
      "cell_type": "code",
      "metadata": {
        "id": "l64HSx7XPr5j"
      },
      "source": [
        "# Создаем обучающую и проверочную выборки\n",
        "(обучающая_выборка, метки_обучающей_выборки), (тестовая_выборка, метки_тестовой_выборки) = терра_ии.создать_выборки_вакансии()"
      ],
      "execution_count": null,
      "outputs": []
    },
    {
      "cell_type": "code",
      "metadata": {
        "id": "4iguXYenLyWk"
      },
      "source": [
        "# Указываем слои создаваемой модели\n",
        "слои = 'Полносвязный-128\\\n",
        " Полносвязный-2' # Указываем слои создаваемой модели\n",
        "\n",
        "# Получаем входной размер данных\n",
        "входной_размер = терра_ии.получить_входной_размер(обучающая_выборка)\n",
        "\n",
        "# Создаем модель\n",
        "нейронка_вакансии_1 = терра_ии.создать_сеть(\n",
        "    слои = слои,\n",
        "    входной_размер = входной_размер,\n",
        "    задача='классификация вакансий'\n",
        "    )"
      ],
      "execution_count": null,
      "outputs": []
    },
    {
      "cell_type": "code",
      "metadata": {
        "id": "Hni6YnELg9Cc"
      },
      "source": [
        "# Выводим структуру модели\n",
        "терра_ии.схема_модели(нейронка_вакансии_1)"
      ],
      "execution_count": null,
      "outputs": []
    },
    {
      "cell_type": "code",
      "metadata": {
        "id": "TH3H1AV_MA-7"
      },
      "source": [
        "# Обучаем модель\n",
        "эксперимент_1 = терра_ии.обучение_модели(\n",
        "    нейронка_вакансии_1,\n",
        "    обучающая_выборка, метки_обучающей_выборки,\n",
        "    тестовая_выборка, метки_тестовой_выборки,\n",
        "    размер_пакета = 64,\n",
        "    количество_эпох = 150)"
      ],
      "execution_count": null,
      "outputs": []
    },
    {
      "cell_type": "code",
      "metadata": {
        "id": "lmfEhzjEdPS1"
      },
      "source": [
        "терра_ии.тест_модели_вакансии(нейронка_вакансии_1,\n",
        "                              тестовая_выборка, метки_тестовой_выборки)"
      ],
      "execution_count": null,
      "outputs": []
    },
    {
      "cell_type": "code",
      "metadata": {
        "id": "jf2B9gjPVTzr"
      },
      "source": [
        "# Эксперимент. Многократное обучение и усредненеие результатов\n",
        "\n",
        "слои = 'Полносвязный-256\\\n",
        " Полносвязный-2' # Указываем слои создаваемой модели\n",
        "\n",
        "# Получаем входной размер данных\n",
        "входной_размер = терра_ии.получить_входной_размер(обучающая_выборка)\n",
        "\n",
        "# Создаем модель\n",
        "нейронка_вакансии_2 = терра_ии.создать_сеть(\n",
        "    слои = слои,\n",
        "    входной_размер = входной_размер,\n",
        "    задача='классификация вакансий'\n",
        "    )"
      ],
      "execution_count": null,
      "outputs": []
    },
    {
      "cell_type": "code",
      "metadata": {
        "id": "apcga4Z2VhLY"
      },
      "source": [
        "эксперимент_2 = терра_ии.обучение_модели(\n",
        "    нейронка_вакансии_2,\n",
        "    обучающая_выборка, метки_обучающей_выборки,\n",
        "    тестовая_выборка, метки_тестовой_выборки,\n",
        "    размер_пакета = 64,\n",
        "    количество_эпох = 150, \n",
        "    количество_запусков = 10)"
      ],
      "execution_count": null,
      "outputs": []
    },
    {
      "cell_type": "code",
      "metadata": {
        "id": "yKJuc4qyLgi-"
      },
      "source": [
        "терра_ии.тест_модели_вакансии(нейронка_вакансии_2,\n",
        "                        тестовая_выборка, метки_тестовой_выборки)"
      ],
      "execution_count": null,
      "outputs": []
    },
    {
      "cell_type": "markdown",
      "metadata": {
        "id": "dEawMO3RYSYZ"
      },
      "source": [
        "# **Домашнее задание**"
      ]
    },
    {
      "cell_type": "code",
      "metadata": {
        "id": "qC14uC_lmy27",
        "colab": {
          "base_uri": "https://localhost:8080/"
        },
        "outputId": "57cab4e1-cb66-4ac9-e7df-75250f84ab97"
      },
      "source": [
        "!pip -q install terra_ai\n",
        "from terra_ai import терра_ии"
      ],
      "execution_count": 1,
      "outputs": [
        {
          "output_type": "stream",
          "text": [
            "Все необходимые библиотеки установлены и готовы к работе\n"
          ],
          "name": "stdout"
        }
      ]
    },
    {
      "cell_type": "markdown",
      "metadata": {
        "id": "EKxMunXYb_5b"
      },
      "source": [
        "## Задание № 1. Подбор кандидата на должность менеджера по продажам.  \n",
        "\n",
        "Создайте нейросеть, которая будет определять подходит ли кандидат на должность в Университете искусственного интеллекта.  \n",
        "\n",
        "1. Загрузите базу;  \n",
        "2. Покажите примеры из загруженной базы;  \n",
        "3. Сделайте предобработку данных для обучающей и тестовой выборки;  \n",
        "4. Создайте полносвязную модель;  \n",
        "5. Продемонстрируйте схему созданной модели;  \n",
        "6. Обучите свою модель;  \n",
        "7. Проведите тестирование модели.  \n",
        "\n",
        "Постарайтесь воспроизвести все этапы по памяти."
      ]
    },
    {
      "cell_type": "markdown",
      "metadata": {
        "id": "6_OQCuhfi7bC"
      },
      "source": [
        "### Работа с базой."
      ]
    },
    {
      "cell_type": "code",
      "metadata": {
        "id": "ZxvB8aaEhVsX",
        "colab": {
          "base_uri": "https://localhost:8080/"
        },
        "outputId": "36546970-a579-4ef4-ddcf-b19eaf121a89"
      },
      "source": [
        "# Скачиваем базу вакансий\n",
        "терра_ии.загрузить_базу(база = 'ВАКАНСИИ',\n",
        "                        справка = 'Показать')"
      ],
      "execution_count": 9,
      "outputs": [
        {
          "output_type": "stream",
          "text": [
            "Загрузка данных завершена \n",
            "\n",
            "url: https://storage.googleapis.com/terra_ai/DataSets/HR.zip\n",
            "Вы скачали базу вакансий.\n"
          ],
          "name": "stdout"
        }
      ]
    },
    {
      "cell_type": "code",
      "metadata": {
        "id": "WtAImkbshVsh"
      },
      "source": [
        "# Примеры из базы\n",
        "терра_ии.показать_примеры(база = 'ВАКАНСИИ')"
      ],
      "execution_count": 15,
      "outputs": []
    },
    {
      "cell_type": "markdown",
      "metadata": {
        "id": "9JqosOyOjC_x"
      },
      "source": [
        "Обработка базы и создание выборок."
      ]
    },
    {
      "cell_type": "code",
      "metadata": {
        "id": "quliYq4ohVsi"
      },
      "source": [
        "# Создаем обучающую и проверочную выборки\n",
        "(обучающая_выборка, метки_обучающей_выборки), (тестовая_выборка, метки_тестовой_выборки) = терра_ии.создать_выборки_вакансии()"
      ],
      "execution_count": 16,
      "outputs": []
    },
    {
      "cell_type": "markdown",
      "metadata": {
        "id": "c9GBv7L2jqKh"
      },
      "source": [
        "### Создание сети"
      ]
    },
    {
      "cell_type": "markdown",
      "metadata": {
        "id": "89WkcSQlh4qC"
      },
      "source": [
        "Создайте нейронную сеть, которая будет включать в себя полносвязные слои в формате:\n",
        "\n",
        "```\n",
        "# Пример, Полносвязный-128 означает, что мы используем Полновязный слой на 128 нейронов.\n",
        "слои='Полносвязный-128\\\n",
        " Полносвязный-2'\n",
        "```\n",
        "Попробуйте изменить количество нейронов и обучите модель."
      ]
    },
    {
      "cell_type": "code",
      "metadata": {
        "id": "DaskQQ4WhVsi",
        "colab": {
          "base_uri": "https://localhost:8080/"
        },
        "outputId": "e11ccd5e-274b-4e84-f04f-a28e2a2c5efd"
      },
      "source": [
        "# Указываем слои создаваемой модели\n",
        "слои = 'Полносвязный-256\\\n",
        " Полносвязный-4\\\n",
        " Полносвязный-2' # Указываем слои создаваемой модели\n",
        "\n",
        "\n",
        "# Получаем входной размер данных\n",
        "входной_размер = терра_ии.получить_входной_размер(обучающая_выборка)\n",
        "\n",
        "# Создаем модель\n",
        "нейронка_подбор_кандидата = терра_ии.создать_сеть(\n",
        "    слои = слои,\n",
        "    входной_размер = входной_размер,\n",
        "    задача='классификация изображений'\n",
        "    )"
      ],
      "execution_count": 26,
      "outputs": [
        {
          "output_type": "stream",
          "text": [
            "Создана модель нейронной сети!\n"
          ],
          "name": "stdout"
        }
      ]
    },
    {
      "cell_type": "markdown",
      "metadata": {
        "id": "uBVjjD9Hj_rJ"
      },
      "source": [
        "Визуализация структуры."
      ]
    },
    {
      "cell_type": "code",
      "metadata": {
        "id": "qiWQsMBohVsj",
        "colab": {
          "base_uri": "https://localhost:8080/",
          "height": 254
        },
        "outputId": "3d120877-5c8f-481e-b157-2eaa91572b3f"
      },
      "source": [
        "# Покажите структуру сети, с помощью функции из terra_ai. терра_ии.схема_модели(внутри функции указывается нейросеть, которую вы создали)\n",
        "терра_ии.схема_модели(нейронка_подбор_кандидата)"
      ],
      "execution_count": 27,
      "outputs": [
        {
          "output_type": "stream",
          "text": [
            "Схема модели:\n"
          ],
          "name": "stdout"
        },
        {
          "output_type": "execute_result",
          "data": {
            "image/png": "[encoded data removed]",
            "text/plain": [
              "<IPython.core.display.Image object>"
            ]
          },
          "metadata": {
            "tags": []
          },
          "execution_count": 27
        }
      ]
    },
    {
      "cell_type": "markdown",
      "metadata": {
        "id": "yiLjxzBHjt2J"
      },
      "source": [
        "### Обучение модели."
      ]
    },
    {
      "cell_type": "code",
      "metadata": {
        "id": "ycnznpGihVsj",
        "colab": {
          "base_uri": "https://localhost:8080/",
          "height": 611
        },
        "outputId": "c95c12c7-b0ba-4661-c833-0f95311d1744"
      },
      "source": [
        "# Обучаем модель\n",
        "эксперимент = терра_ии.обучение_модели(\n",
        "    нейронка_подбор_кандидата,\n",
        "    обучающая_выборка, метки_обучающей_выборки,\n",
        "    тестовая_выборка, метки_тестовой_выборки,\n",
        "    размер_пакета = 60,\n",
        "    количество_эпох = 150,\n",
        "    количество_запусков = 10)"
      ],
      "execution_count": 28,
      "outputs": [
        {
          "output_type": "stream",
          "text": [
            "Запуск №1   Время обучения: 4.64c Точность на обучающей выборке: 97.2%       Точность на проверочной выборке: 89.02%\n",
            "\u001b[42m\u001b[37mЗапуск №2   Время обучения: 4.65c Точность на обучающей выборке: 97.8%       Точность на проверочной выборке: 90.53%\u001b[0m\n",
            "Запуск №3   Время обучения: 4.8c  Точность на обучающей выборке: 97.4%       Точность на проверочной выборке: 89.77%\n",
            "Запуск №4   Время обучения: 4.82c Точность на обучающей выборке: 97.2%       Точность на проверочной выборке: 90.53%\n",
            "Запуск №5   Время обучения: 4.9c  Точность на обучающей выборке: 97.0%       Точность на проверочной выборке: 90.15%\n",
            "Запуск №6   Время обучения: 5.36c Точность на обучающей выборке: 97.8%       Точность на проверочной выборке: 90.15%\n",
            "Запуск №7   Время обучения: 5.13c Точность на обучающей выборке: 97.8%       Точность на проверочной выборке: 90.15%\n",
            "Запуск №8   Время обучения: 4.97c Точность на обучающей выборке: 97.2%       Точность на проверочной выборке: 89.39%\n",
            "Запуск №9   Время обучения: 4.58c Точность на обучающей выборке: 97.6%       Точность на проверочной выборке: 90.15%\n",
            "Запуск №10  Время обучения: 5.14c Точность на обучающей выборке: 96.8%       Точность на проверочной выборке: 89.77%\n",
            "\n",
            "Средняя точность на обучающей выборке:    97.38% \n",
            "Средняя точность на проверочной выборке:  89.96%\n"
          ],
          "name": "stdout"
        },
        {
          "output_type": "display_data",
          "data": {
            "image/png": "[encoded data removed]",
            "text/plain": [
              "<Figure size 864x432 with 1 Axes>"
            ]
          },
          "metadata": {
            "tags": [],
            "needs_background": "light"
          }
        }
      ]
    },
    {
      "cell_type": "markdown",
      "metadata": {
        "id": "3YgR-I0Tj0cJ"
      },
      "source": [
        "### Тестирование модели."
      ]
    },
    {
      "cell_type": "code",
      "metadata": {
        "id": "G-axjPZRhVsk",
        "colab": {
          "base_uri": "https://localhost:8080/"
        },
        "outputId": "f96d74f8-9b60-4724-bbf1-222aeec0d891"
      },
      "source": [
        "терра_ии.тест_модели_вакансии(нейронка_подбор_кандидата,\n",
        "                              тестовая_выборка, метки_тестовой_выборки)"
      ],
      "execution_count": 29,
      "outputs": [
        {
          "output_type": "stream",
          "text": [
            "Тестовое резюме:\n",
            "\n",
            "Пол:                         М\n",
            "Возраст:                     29\n",
            "Город:                       Белгород\n",
            "Готовность к переезду:       не готов к переезду\n",
            "Готовность к командировкам:  готов к командировкам\n",
            "Гражданство:                 Россия\n",
            "Разрешение на работу:        Россия\n",
            "Знания языков:               Русский Английский\n",
            "Образование:                 Высшее образование\n",
            "Дополнительное образование:  Центр подготовки руководителей ЦТ на базе ВШГУ РАНХиГС\n",
            "Зарплата:                    60000.0\n",
            "Время в пути до работы:      не имеет значения\n",
            "Занятость:                   полная занятость\n",
            "График:                      полный день, удаленная работа\n",
            "Опыт работы (мес):           82\n",
            "Обязанности на пред.работе:  - Анализ грузоперевозчиков на предмет более выгодных условий- Коммуникация с российскими брокерами, \n",
            "                             предоставление им необходимой информации об отгрузках.- Заключение договоров с перевозчикам- Отслежи\n",
            "                             вание поставок- Решение спорных ситуаций;- Ведение документооборота;- Решение оперативных вопросов с\n",
            "                              транспортными компаниями/водителями- Размещение грузов на СВХ для дальнейшей отгрузки- Присутствие \n",
            "                             при таможенном осмотре/ досмотре грузов, - Самостоятельный поиск потенциальных клиентов ( холодные з\n",
            "                             вонки, сбор контактов на мероприятиях)- Проведение портфельных встреч с клиентами- Работа с CRM- Пос\n",
            "\n",
            "Модель уверена, что кандидат подходит в УИИ на: 8.0%\n",
            "---------------------------------------------------------------\n",
            "Подходит ли кандидат на самом деле:  нет\n",
            "---------------------------------------------------------------\n",
            "\n",
            "Тестовое резюме:\n",
            "\n",
            "Пол:                         Ж\n",
            "Возраст:                     39\n",
            "Город:                       Воронеж\n",
            "Готовность к переезду:       готов к переезду\n",
            "Готовность к командировкам:  не готов к командировкам\n",
            "Гражданство:                 Россия\n",
            "Разрешение на работу:        Россия\n",
            "Знания языков:               Русский Английский Арабский Турецкий\n",
            "Образование:                 Среднее специальное образование\n",
            "Дополнительное образование:  школа им. Чехова\n",
            "Зарплата:                    70000.0\n",
            "Время в пути до работы:      не имеет значения\n",
            "Занятость:                   полная занятость\n",
            "График:                      полный день, сменный график\n",
            "Опыт работы (мес):           165\n",
            "Обязанности на пред.работе:  Прямое взаимодействие с клиентами, продажи прямые и по телефону, выявление потребностей и индивидуал\n",
            "                             ьный подход к каждому клиенту, консультирование по туристическому продукту, оформление виз в Европу,\n",
            "                              IK, USA, составление индивидуальных маршрутов, консультации по обучению за рубежом, ведение туриста\n",
            "                              до окончания тура, решение конфликтных ситуаций, ведение VIP клиентов, составление и контроль докум\n",
            "                             ентооборота, обучение новых сотрудников и учащихся, работа на результат., Организация и проведение э\n",
            "                             кскурсий, выездных мероприятий, прямые продажи, контроль качества работы партнеров и подрядчиков. Ре\n",
            "\n",
            "Модель уверена, что кандидат подходит в УИИ на: 1.33%\n",
            "---------------------------------------------------------------\n",
            "Подходит ли кандидат на самом деле:  нет\n",
            "---------------------------------------------------------------\n",
            "\n",
            "Тестовое резюме:\n",
            "\n",
            "Пол:                         М\n",
            "Возраст:                     28\n",
            "Город:                       Москва\n",
            "Готовность к переезду:       готов к переезду\n",
            "Готовность к командировкам:  готов к командировкам\n",
            "Гражданство:                 Россия\n",
            "Разрешение на работу:        Россия\n",
            "Знания языков:               Русский Английский\n",
            "Образование:                 Среднее образование\n",
            "Дополнительное образование:  Данные не указаны\n",
            "Зарплата:                    100000.0\n",
            "Время в пути до работы:      не имеет значения\n",
            "Занятость:                   стажировка, волонтерство, частичная занятость, проектная работа, полная занятость\n",
            "График:                      гибкий график, полный день, сменный график, вахтовый метод, удаленная работа\n",
            "Опыт работы (мес):           48\n",
            "Обязанности на пред.работе:  - Имеется опыт в пиаре, развитие компаний, проектов, групп и пабликов.- Навыки в таргетированной рек\n",
            "                             ламе в вк, посевы постов (привлечение целевых подписчиков).- Минимальные затраты на развитие паблико\n",
            "                             в в вк, умение монетизировать и отбивать затраты на развитие группы.- Есть положительный опыт в арби\n",
            "                             траже трафика.- Развиваю свои группы и работаю по найму, привлекаю подписчиков по минимальным ценам.\n",
            "                              (все проекты, которые развивал и развиваю, могу показать и предоставить отзывы о моей работе)- Имее\n",
            "                             тся опыт в развитие региональных групп, сообществ научной тематики, спортивных сообществ (имеется ке\n",
            "\n",
            "Модель уверена, что кандидат подходит в УИИ на: 0.0%\n",
            "---------------------------------------------------------------\n",
            "Подходит ли кандидат на самом деле:  нет\n",
            "---------------------------------------------------------------\n",
            "\n"
          ],
          "name": "stdout"
        }
      ]
    },
    {
      "cell_type": "markdown",
      "metadata": {
        "id": "hNeiRyb_YXus"
      },
      "source": [
        "## Задание № 2. Классификация отзывов автомобиля Тесла.  \n",
        "\n",
        "Создайте нейросеть, которая будет распознавать эмоциональную окраску отзывов из базы Tesla.\n",
        "\n",
        "1. Загрузите базу;  \n",
        "2. Покажите примеры из загруженной базы;  \n",
        "3. Сделайте предобработку данных для обучающей и тестовой выборки;  \n",
        "4. Создайте полносвязную модель;  \n",
        "5. Продемонстрируйте схему созданной модели;  \n",
        "6. Обучите свою модель;  \n",
        "7. Проведите тестирование модели.  \n",
        "\n",
        "Постарайтесь воспроизвести все этапы по памяти."
      ]
    },
    {
      "cell_type": "markdown",
      "metadata": {
        "id": "t7eVaEDucGqP"
      },
      "source": [
        "### Работа с базой."
      ]
    },
    {
      "cell_type": "code",
      "metadata": {
        "id": "M-6BRYfgTE9z",
        "colab": {
          "base_uri": "https://localhost:8080/"
        },
        "outputId": "98681f64-e868-4e79-ec1c-9316a227be99"
      },
      "source": [
        "# Загружаем базу отзывов Tesla\n",
        "терра_ии.загрузить_базу(база = 'Tesla', \n",
        "                        справка = 'Показать')"
      ],
      "execution_count": 34,
      "outputs": [
        {
          "output_type": "stream",
          "text": [
            "Загрузка данных завершена \n",
            "\n",
            "url: https://storage.googleapis.com/terra_ai/DataSets/tesla.zip\n",
            "Вы скачали базу отзывов владельцев автомобилями Tesla\n"
          ],
          "name": "stdout"
        }
      ]
    },
    {
      "cell_type": "code",
      "metadata": {
        "id": "ae4EF8K7TG_6"
      },
      "source": [
        "# Выводим примеры\n",
        "терра_ии.показать_примеры(база = 'Tesla')"
      ],
      "execution_count": 35,
      "outputs": []
    },
    {
      "cell_type": "markdown",
      "metadata": {
        "id": "5E3LvAt4boTa"
      },
      "source": [
        "Обработка базы и создание выборок."
      ]
    },
    {
      "cell_type": "code",
      "metadata": {
        "id": "GcdE4vNfTJUi",
        "colab": {
          "base_uri": "https://localhost:8080/"
        },
        "outputId": "e895de06-7a83-4a85-8136-1a6a7c88760d"
      },
      "source": [
        "# Задаем параметры для формирования выборок\n",
        "количество_анализируемых_слов = 10000\n",
        "размер_окна = 20\n",
        "шаг = 5\n",
        "# Создаем выборки для обучения нейронной сети\n",
        "(обучающая_выборка, метки_обучающей_выборки), (тестовая_выборка, метки_тестовой_выборки) = терра_ии.создать_текстовые_выборки(\n",
        "    количество_анализируемых_слов,\n",
        "    размер_окна,\n",
        "    шаг, \n",
        "    путь_к_базе = '/content/Отзывы/')"
      ],
      "execution_count": 36,
      "outputs": [
        {
          "output_type": "stream",
          "text": [
            "Формирование выборки завершено\n"
          ],
          "name": "stdout"
        }
      ]
    },
    {
      "cell_type": "markdown",
      "metadata": {
        "id": "3RwwQI8Rj6Oa"
      },
      "source": [
        "### Создание сети."
      ]
    },
    {
      "cell_type": "markdown",
      "metadata": {
        "id": "dHbMmjCtbhhA"
      },
      "source": [
        "Создайте сеть, состоящую из 3-х ветвей, в которую будут входить слои рассмотренные на вебинаре, такие как:\n",
        "\n",
        "*   Эмбеддинг\n",
        "*   Выравнивающий\n",
        "*   Полносвязный"
      ]
    },
    {
      "cell_type": "code",
      "metadata": {
        "id": "cYZSHgw_TMIi"
      },
      "source": [
        "# Создаем нейронную сеть\n",
        "ветвь1 = 'Эмбеддинг-10-' + количество_анализируемых_слов + '-' + размер_окна + ' Выравнивающий Полносвязный-8'\n",
        "ветвь2 = 'Полносвязный-64 Полносвязный-32 Полносвязный-16'\n",
        "ветвь3 = 'Полносвязный-8'\n",
        "\n",
        "нейронка_ДЗ_2 = терра_ии.создать_составную_сеть(\n",
        "    обучающая_выборка, метки_обучающей_выборки,\n",
        "    ветвь1, ветвь2, ветвь3)"
      ],
      "execution_count": 62,
      "outputs": []
    },
    {
      "cell_type": "markdown",
      "metadata": {
        "id": "zGmjx2hEcQ6b"
      },
      "source": [
        "Визуализация структуры."
      ]
    },
    {
      "cell_type": "code",
      "metadata": {
        "id": "XAxSoT5STN7S",
        "colab": {
          "base_uri": "https://localhost:8080/",
          "height": 436
        },
        "outputId": "65fa7ef5-0bf8-4451-a40b-cdc93e72d058"
      },
      "source": [
        "# Покажите структуру сети, с помощью функции из terra_ai. терра_ии.схема_модели(внутри функции указывается нейросеть, которую вы создали)\n",
        "терра_ии.схема_модели(нейронка_ДЗ_2)"
      ],
      "execution_count": 63,
      "outputs": [
        {
          "output_type": "stream",
          "text": [
            "Схема модели:\n"
          ],
          "name": "stdout"
        },
        {
          "output_type": "execute_result",
          "data": {
            "image/png": "[encoded data removed]",
            "text/plain": [
              "<IPython.core.display.Image object>"
            ]
          },
          "metadata": {
            "tags": []
          },
          "execution_count": 63
        }
      ]
    },
    {
      "cell_type": "markdown",
      "metadata": {
        "id": "HqnScXNQcVjr"
      },
      "source": [
        "### Обучение модели."
      ]
    },
    {
      "cell_type": "code",
      "metadata": {
        "id": "M9CH9y0oTQWD",
        "colab": {
          "base_uri": "https://localhost:8080/",
          "height": 526
        },
        "outputId": "53c744dc-5f3a-4878-fe3f-79d9621601b2"
      },
      "source": [
        "# Обучаем модель\n",
        "эксперимент = терра_ии.обучение_модели(\n",
        "    нейронка_ДЗ_2,\n",
        "    обучающая_выборка, метки_обучающей_выборки,\n",
        "    тестовая_выборка, метки_тестовой_выборки,\n",
        "    размер_пакета = 50,\n",
        "    количество_эпох = 20,\n",
        "    количество_запусков = 5)"
      ],
      "execution_count": 66,
      "outputs": [
        {
          "output_type": "stream",
          "text": [
            "\u001b[42m\u001b[37mЗапуск №1   Время обучения: 14.75cТочность на обучающей выборке: 100.0%      Точность на проверочной выборке: 93.75%\u001b[0m\n",
            "Запуск №2   Время обучения: 14.18cТочность на обучающей выборке: 100.0%      Точность на проверочной выборке: 93.75%\n",
            "Запуск №3   Время обучения: 15.21cТочность на обучающей выборке: 100.0%      Точность на проверочной выборке: 93.75%\n",
            "Запуск №4   Время обучения: 14.05cТочность на обучающей выборке: 100.0%      Точность на проверочной выборке: 93.75%\n",
            "Запуск №5   Время обучения: 13.89cТочность на обучающей выборке: 100.0%      Точность на проверочной выборке: 93.75%\n",
            "\n",
            "Средняя точность на обучающей выборке:    100.0% \n",
            "Средняя точность на проверочной выборке:  93.75%\n"
          ],
          "name": "stdout"
        },
        {
          "output_type": "display_data",
          "data": {
            "image/png": "[encoded data removed]",
            "text/plain": [
              "<Figure size 864x432 with 1 Axes>"
            ]
          },
          "metadata": {
            "tags": [],
            "needs_background": "light"
          }
        }
      ]
    },
    {
      "cell_type": "markdown",
      "metadata": {
        "id": "MGIpE4UUcehH"
      },
      "source": [
        "### Тестирование модели."
      ]
    },
    {
      "cell_type": "markdown",
      "metadata": {
        "id": "9TBEWEnnkGtw"
      },
      "source": [
        "Придумайте и напишите свой отзыв."
      ]
    },
    {
      "cell_type": "code",
      "metadata": {
        "id": "7Kh3QvCrTSRC",
        "colab": {
          "base_uri": "https://localhost:8080/"
        },
        "outputId": "13bebdad-99b9-4717-e9f2-4c6d3664da76"
      },
      "source": [
        "# Демонстрация результата работы нейронной сети\n",
        "отзыв = 'Замечательная машина, отличный ход'\n",
        "терра_ии.тест_модели_симптомы(нейронка_ДЗ_2, размер_окна, шаг,\n",
        "                              отзыв, классы = ['Негативный отзыв', 'Позитивный отзыв'])"
      ],
      "execution_count": 70,
      "outputs": [
        {
          "output_type": "stream",
          "text": [
            "Негативный отзыв   -  13.28 %\n",
            "Позитивный отзыв   -  86.72 %\n",
            "\n",
            "Нейросеть думает, что это: Позитивный отзыв - 86.72%\n"
          ],
          "name": "stdout"
        }
      ]
    },
    {
      "cell_type": "code",
      "metadata": {
        "colab": {
          "base_uri": "https://localhost:8080/"
        },
        "id": "HG2mkiQzC1cs",
        "outputId": "69328356-cc83-48b3-a950-bbb55abc8d2b"
      },
      "source": [
        "# Демонстрация результата работы нейронной сети\n",
        "отзыв = 'От машины ожидал большего за такую стоимость'\n",
        "терра_ии.тест_модели_симптомы(нейронка_ДЗ_2, размер_окна, шаг,\n",
        "                              отзыв, классы = ['Негативный отзыв', 'Позитивный отзыв'])"
      ],
      "execution_count": 69,
      "outputs": [
        {
          "output_type": "stream",
          "text": [
            "Негативный отзыв   -  98.15 %\n",
            "Позитивный отзыв   -  1.85 %\n",
            "\n",
            "Нейросеть думает, что это: Негативный отзыв - 98.15%\n"
          ],
          "name": "stdout"
        }
      ]
    },
    {
      "cell_type": "code",
      "metadata": {
        "colab": {
          "base_uri": "https://localhost:8080/"
        },
        "id": "reqYxJyjENjq",
        "outputId": "6df76a73-1177-4e4f-dc15-fedc536edd78"
      },
      "source": [
        "# Демонстрация результата работы нейронной сети\n",
        "отзыв = 'Кондицонер течет, но скорость набирает быстро'\n",
        "терра_ии.тест_модели_симптомы(нейронка_ДЗ_2, размер_окна, шаг,\n",
        "                              отзыв, классы = ['Негативный отзыв', 'Позитивный отзыв'])"
      ],
      "execution_count": 71,
      "outputs": [
        {
          "output_type": "stream",
          "text": [
            "Негативный отзыв   -  43.51 %\n",
            "Позитивный отзыв   -  56.49 %\n",
            "\n",
            "Нейросеть думает, что это: Позитивный отзыв - 56.49%\n"
          ],
          "name": "stdout"
        }
      ]
    },
    {
      "cell_type": "markdown",
      "metadata": {
        "id": "cZsdBFEdSl4v"
      },
      "source": [
        "## Задание № 3. Определение заболевания по симптомам.  \n",
        "\n",
        "Создайте нейросеть, которая будет определять заболевание по симптомам.\n",
        "\n",
        "1. Загрузите базу;  \n",
        "2. Покажите примеры из загруженной базы;  \n",
        "3. Сделайте предобработку данных для обучающей и тестовой выборки;  \n",
        "4. Создайте полносвязную модель;  \n",
        "5. Продемонстрируйте схему созданной модели;  \n",
        "6. Обучите свою модель;  \n",
        "7. Проведите тестирование модели."
      ]
    },
    {
      "cell_type": "markdown",
      "metadata": {
        "id": "YMZWrBeCUwFV"
      },
      "source": [
        "### Работа с базой."
      ]
    },
    {
      "cell_type": "code",
      "metadata": {
        "id": "6V9MVxmPmpNB",
        "colab": {
          "base_uri": "https://localhost:8080/"
        },
        "outputId": "0ba5b578-a815-4c01-989c-6f8af1570a49"
      },
      "source": [
        "# Загрузите базу симптомов заболеваний\n",
        "терра_ии.загрузить_базу(база = 'СИМПТОМЫ ЗАБОЛЕВАНИЙ',\n",
        "                        справка = 'Показать')"
      ],
      "execution_count": 81,
      "outputs": [
        {
          "output_type": "stream",
          "text": [
            "Загрузка данных\n",
            "Это может занять несколько минут...\n",
            "Загрузка данных завершена \n",
            "\n",
            "url: https://storage.googleapis.com/terra_ai/DataSets/symptoms.zip\n",
            "Загружена база симптомов заболеваний\n",
            "\n"
          ],
          "name": "stdout"
        }
      ]
    },
    {
      "cell_type": "code",
      "metadata": {
        "id": "iryUefF3yOKS",
        "colab": {
          "base_uri": "https://localhost:8080/"
        },
        "outputId": "542623d4-5e2e-4dd9-cb59-beee90f6fff4"
      },
      "source": [
        "# Покажите примеры из базы \"симптомы\"\n",
        "терра_ии.показать_примеры(база = 'симптомы')"
      ],
      "execution_count": 82,
      "outputs": [
        {
          "output_type": "stream",
          "text": [
            "В данной базе содержатся симптомы следующих заболеваний:\n",
            "['Аппендицит', 'Гастрит', 'Гепатит', 'Дуоденит', 'Колит', 'Панкреатит', 'Холецистит', 'Эзофагит', 'Энтерит', 'Язва']\n",
            "\n",
            "Пример симптомов случайного заболевания:\n",
            "Заболевание:  Энтерит\n",
            "Симптомы:\n",
            "     * внезапныые боли (преимущественно в середине живота) рвота понос повышение температуры симптомы общей\n"
          ],
          "name": "stdout"
        }
      ]
    },
    {
      "cell_type": "code",
      "metadata": {
        "id": "78xGu5UMS0Fs",
        "colab": {
          "base_uri": "https://localhost:8080/"
        },
        "outputId": "4c06e527-9b5a-46d5-c834-61f9b84217d6"
      },
      "source": [
        "количество_анализируемых_слов = 10000\n",
        "размер_окна = 150\n",
        "шаг = 50\n",
        "\n",
        "# Создаем выборки для обучения нейронной сети\n",
        "(обучающая_выборка, метки_обучающей_выборки), (тестовая_выборка, метки_тестовой_выборки) = терра_ии.создать_текстовые_выборки(\n",
        "    количество_анализируемых_слов,\n",
        "    размер_окна, \n",
        "    шаг)"
      ],
      "execution_count": 84,
      "outputs": [
        {
          "output_type": "stream",
          "text": [
            "Формирование выборки завершено\n"
          ],
          "name": "stdout"
        }
      ]
    },
    {
      "cell_type": "markdown",
      "metadata": {
        "id": "YP_x-3IoF9Xw"
      },
      "source": [
        "### Создание сети.\n",
        "Состоящую из 3-х ветвей, в которую будут входить слои рассмотренные на вебинаре, такие как:\n",
        "\n",
        "*   Эмбеддинг\n",
        "*   Выравнивающий\n",
        "*   Полносвязный\n",
        "\n"
      ]
    },
    {
      "cell_type": "code",
      "metadata": {
        "id": "yv84cu6kxcrx",
        "colab": {
          "base_uri": "https://localhost:8080/",
          "height": 231
        },
        "outputId": "949b81e4-429c-48ca-d7f8-046ddc437478"
      },
      "source": [
        "# Создаем нейронную сеть\n",
        "ветвь1 = 'Эмбеддинг-100-' + количество_анализируемых_слов + '-' + размер_окна + 'Выравнивающий Полносвязный-8'\n",
        "ветвь2 = 'Полносвязный-1024 Полносвязный-512 Полносвязный-128' \n",
        "ветвь3 = 'Полносвязный-100'\n",
        "\n",
        "нейронка_ДЗ_3 = терра_ии.создать_составную_сеть(\n",
        "    обучающая_выборка, метки_обучающей_выборки,\n",
        "    ветвь1, ветвь2, ветвь3)"
      ],
      "execution_count": 101,
      "outputs": [
        {
          "output_type": "error",
          "ename": "TypeError",
          "evalue": "ignored",
          "traceback": [
            "\u001b[0;31m---------------------------------------------------------------------------\u001b[0m",
            "\u001b[0;31mTypeError\u001b[0m                                 Traceback (most recent call last)",
            "\u001b[0;32m<ipython-input-101-f60f62a2ee89>\u001b[0m in \u001b[0;36m<module>\u001b[0;34m()\u001b[0m\n\u001b[1;32m      1\u001b[0m \u001b[0;31m# Создаем нейронную сеть\u001b[0m\u001b[0;34m\u001b[0m\u001b[0;34m\u001b[0m\u001b[0;34m\u001b[0m\u001b[0m\n\u001b[0;32m----> 2\u001b[0;31m \u001b[0mветвь1\u001b[0m \u001b[0;34m=\u001b[0m \u001b[0;34m'Эмбеддинг-100-'\u001b[0m \u001b[0;34m+\u001b[0m \u001b[0mколичество_анализируемых_слов\u001b[0m \u001b[0;34m+\u001b[0m \u001b[0;34m'-'\u001b[0m \u001b[0;34m+\u001b[0m \u001b[0mразмер_окна\u001b[0m \u001b[0;34m+\u001b[0m \u001b[0;34m'Выравнивающий Полносвязный-8'\u001b[0m\u001b[0;34m\u001b[0m\u001b[0;34m\u001b[0m\u001b[0m\n\u001b[0m\u001b[1;32m      3\u001b[0m \u001b[0mветвь2\u001b[0m \u001b[0;34m=\u001b[0m \u001b[0;34m'Полносвязный-1024 Полносвязный-512 Полносвязный-128'\u001b[0m\u001b[0;34m\u001b[0m\u001b[0;34m\u001b[0m\u001b[0m\n\u001b[1;32m      4\u001b[0m \u001b[0mветвь3\u001b[0m \u001b[0;34m=\u001b[0m \u001b[0;34m'Полносвязный-100'\u001b[0m\u001b[0;34m\u001b[0m\u001b[0;34m\u001b[0m\u001b[0m\n\u001b[1;32m      5\u001b[0m \u001b[0;34m\u001b[0m\u001b[0m\n",
            "\u001b[0;31mTypeError\u001b[0m: can only concatenate str (not \"int\") to str"
          ]
        }
      ]
    },
    {
      "cell_type": "markdown",
      "metadata": {
        "id": "pTNVVGjcVA28"
      },
      "source": [
        "Визуализация модели."
      ]
    },
    {
      "cell_type": "code",
      "metadata": {
        "id": "kXDNL1dfMi6z",
        "colab": {
          "base_uri": "https://localhost:8080/",
          "height": 180
        },
        "outputId": "464b0489-a355-41e4-d2ae-9bf88dc1bea0"
      },
      "source": [
        "# Покажите структуру сети, с помощью функции из terra_ai. терра_ии.схема_модели(внутри функции указывается нейросеть, которую вы создали)\n",
        "терра_ии.схема_модели(нейронка_ДЗ_3)"
      ],
      "execution_count": 93,
      "outputs": [
        {
          "output_type": "error",
          "ename": "NameError",
          "evalue": "ignored",
          "traceback": [
            "\u001b[0;31m---------------------------------------------------------------------------\u001b[0m",
            "\u001b[0;31mNameError\u001b[0m                                 Traceback (most recent call last)",
            "\u001b[0;32m<ipython-input-93-bb4750ce3a71>\u001b[0m in \u001b[0;36m<module>\u001b[0;34m()\u001b[0m\n\u001b[1;32m      1\u001b[0m \u001b[0;31m# Покажите структуру сети, с помощью функции из terra_ai. терра_ии.схема_модели(внутри функции указывается нейросеть, которую вы создали)\u001b[0m\u001b[0;34m\u001b[0m\u001b[0;34m\u001b[0m\u001b[0;34m\u001b[0m\u001b[0m\n\u001b[0;32m----> 2\u001b[0;31m \u001b[0mтерра_ии\u001b[0m\u001b[0;34m.\u001b[0m\u001b[0mсхема_модели\u001b[0m\u001b[0;34m(\u001b[0m\u001b[0mнейронка_ДЗ_3\u001b[0m\u001b[0;34m)\u001b[0m\u001b[0;34m\u001b[0m\u001b[0;34m\u001b[0m\u001b[0m\n\u001b[0m",
            "\u001b[0;31mNameError\u001b[0m: name 'нейронка_ДЗ_3' is not defined"
          ]
        }
      ]
    },
    {
      "cell_type": "markdown",
      "metadata": {
        "id": "Lt3HG5X6HKvm"
      },
      "source": [
        "### Обучение нейронной сети.\n",
        "Используя свою модель, примените функцию из terra ai:\n",
        "*   терра_ии.обучение_модели()\n",
        "\n",
        "\n"
      ]
    },
    {
      "cell_type": "code",
      "metadata": {
        "id": "ZLohMLxSS0Ft",
        "colab": {
          "base_uri": "https://localhost:8080/",
          "height": 231
        },
        "outputId": "14c76d42-f7f6-4282-8b7d-51340231870a"
      },
      "source": [
        "# Обучаем модель\n",
        "эксперимент = терра_ии.обучение_модели(\n",
        "    нейронка_ДЗ_3,\n",
        "    обучающая_выборка, метки_обучающей_выборки,\n",
        "    тестовая_выборка, метки_тестовой_выборки,\n",
        "    размер_пакета = 200,\n",
        "    количество_эпох = 20,\n",
        "    количество_запусков = 5)"
      ],
      "execution_count": 98,
      "outputs": [
        {
          "output_type": "error",
          "ename": "NameError",
          "evalue": "ignored",
          "traceback": [
            "\u001b[0;31m---------------------------------------------------------------------------\u001b[0m",
            "\u001b[0;31mNameError\u001b[0m                                 Traceback (most recent call last)",
            "\u001b[0;32m<ipython-input-98-a81683f1f0ea>\u001b[0m in \u001b[0;36m<module>\u001b[0;34m()\u001b[0m\n\u001b[1;32m      1\u001b[0m \u001b[0;31m# Обучаем модель\u001b[0m\u001b[0;34m\u001b[0m\u001b[0;34m\u001b[0m\u001b[0;34m\u001b[0m\u001b[0m\n\u001b[1;32m      2\u001b[0m эксперимент = терра_ии.обучение_модели(\n\u001b[0;32m----> 3\u001b[0;31m     \u001b[0mнейронка_ДЗ_3\u001b[0m\u001b[0;34m,\u001b[0m\u001b[0;34m\u001b[0m\u001b[0;34m\u001b[0m\u001b[0m\n\u001b[0m\u001b[1;32m      4\u001b[0m     \u001b[0mобучающая_выборка\u001b[0m\u001b[0;34m,\u001b[0m \u001b[0mметки_обучающей_выборки\u001b[0m\u001b[0;34m,\u001b[0m\u001b[0;34m\u001b[0m\u001b[0;34m\u001b[0m\u001b[0m\n\u001b[1;32m      5\u001b[0m     \u001b[0mтестовая_выборка\u001b[0m\u001b[0;34m,\u001b[0m \u001b[0mметки_тестовой_выборки\u001b[0m\u001b[0;34m,\u001b[0m\u001b[0;34m\u001b[0m\u001b[0;34m\u001b[0m\u001b[0m\n",
            "\u001b[0;31mNameError\u001b[0m: name 'нейронка_ДЗ_3' is not defined"
          ]
        }
      ]
    },
    {
      "cell_type": "markdown",
      "metadata": {
        "id": "WXnstvNcH1c_"
      },
      "source": [
        "### Продемонстрируйте работу нейронной сети\n",
        "Используя обученую модель для симптомов указанных в ячейке, примените функцию из terra ai:\n",
        "*   терра_ии.тест_модели_симптомы()  \n",
        "\n",
        "Можете создать другой перечень симптомов и посмотреть насколько успешно модель справляется."
      ]
    },
    {
      "cell_type": "code",
      "metadata": {
        "id": "BJiQ-eZoIKWD",
        "colab": {
          "base_uri": "https://localhost:8080/",
          "height": 214
        },
        "outputId": "df9ef323-f8fb-4a85-bbca-9bb4cee7410d"
      },
      "source": [
        "# Демонстрация результата работы нейронной сети\n",
        "симптомы = 'общую слабость;повышение температуры тела;систематические приступы тошноты;регулярную рвоту с примесями желчи.'\n",
        "терра_ии.тест_модели_симптомы(нейронка_ДЗ_3, размер_окна, шаг,\n",
        "                              симптомы, классы=['Колит', 'Гепатит', 'Гастрит', 'Холицестит', 'Дуоденит', 'Энтерит', 'Язва', 'Эзофагит', 'Аппендицит', 'Панкреатит'])"
      ],
      "execution_count": 99,
      "outputs": [
        {
          "output_type": "error",
          "ename": "NameError",
          "evalue": "ignored",
          "traceback": [
            "\u001b[0;31m---------------------------------------------------------------------------\u001b[0m",
            "\u001b[0;31mNameError\u001b[0m                                 Traceback (most recent call last)",
            "\u001b[0;32m<ipython-input-99-3d818a975674>\u001b[0m in \u001b[0;36m<module>\u001b[0;34m()\u001b[0m\n\u001b[1;32m      1\u001b[0m \u001b[0;31m# Демонстрация результата работы нейронной сети\u001b[0m\u001b[0;34m\u001b[0m\u001b[0;34m\u001b[0m\u001b[0;34m\u001b[0m\u001b[0m\n\u001b[1;32m      2\u001b[0m \u001b[0mсимптомы\u001b[0m \u001b[0;34m=\u001b[0m \u001b[0;34m'общую слабость;повышение температуры тела;систематические приступы тошноты;регулярную рвоту с примесями желчи.'\u001b[0m\u001b[0;34m\u001b[0m\u001b[0;34m\u001b[0m\u001b[0m\n\u001b[0;32m----> 3\u001b[0;31m терра_ии.тест_модели_симптомы(нейронка_ДЗ_3, размер_окна, шаг,\n\u001b[0m\u001b[1;32m      4\u001b[0m                               симптомы, классы=['Колит', 'Гепатит', 'Гастрит', 'Холицестит', 'Дуоденит', 'Энтерит', 'Язва', 'Эзофагит', 'Аппендицит', 'Панкреатит'])\n",
            "\u001b[0;31mNameError\u001b[0m: name 'нейронка_ДЗ_3' is not defined"
          ]
        }
      ]
    }
  ]
}