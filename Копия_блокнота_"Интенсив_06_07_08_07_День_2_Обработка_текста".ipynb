{
  "nbformat": 4,
  "nbformat_minor": 0,
  "metadata": {
    "colab": {
      "name": "Копия блокнота \"Интенсив 06.07-08.07. День #2. Обработка текста\"",
      "provenance": [],
      "collapsed_sections": [
        "4wwfOsB8YHiC",
        "EGoFeaFhQ8WP",
        "qQ8Qz-WCEQNw",
        "EKxMunXYb_5b",
        "hNeiRyb_YXus",
        "cZsdBFEdSl4v"
      ],
      "include_colab_link": true
    },
    "kernelspec": {
      "name": "python3",
      "display_name": "Python 3"
    },
    "language_info": {
      "name": "python"
    },
    "accelerator": "GPU"
  },
  "cells": [
    {
      "cell_type": "markdown",
      "metadata": {
        "id": "view-in-github",
        "colab_type": "text"
      },
      "source": [
        "<a href=\"https://colab.research.google.com/github/Elena-Shabanova/Neural_networks/blob/main/%D0%9A%D0%BE%D0%BF%D0%B8%D1%8F_%D0%B1%D0%BB%D0%BE%D0%BA%D0%BD%D0%BE%D1%82%D0%B0_%22%D0%98%D0%BD%D1%82%D0%B5%D0%BD%D1%81%D0%B8%D0%B2_06_07_08_07_%D0%94%D0%B5%D0%BD%D1%8C_2_%D0%9E%D0%B1%D1%80%D0%B0%D0%B1%D0%BE%D1%82%D0%BA%D0%B0_%D1%82%D0%B5%D0%BA%D1%81%D1%82%D0%B0%22.ipynb\" target=\"_parent\"><img src=\"https://colab.research.google.com/assets/colab-badge.svg\" alt=\"Open In Colab\"/></a>"
      ]
    },
    {
      "cell_type": "code",
      "metadata": {
        "id": "2OWwqj6QA-Qf",
        "colab": {
          "base_uri": "https://localhost:8080/"
        },
        "outputId": "692c6cd4-c77c-4275-8a70-778c01cae92f"
      },
      "source": [
        "!pip -q install terra_ai\n",
        "from terra_ai import терра_ии"
      ],
      "execution_count": 3,
      "outputs": [
        {
          "output_type": "stream",
          "text": [
            "Все необходимые библиотеки установлены и готовы к работе\n"
          ],
          "name": "stdout"
        }
      ]
    },
    {
      "cell_type": "markdown",
      "metadata": {
        "id": "4wwfOsB8YHiC"
      },
      "source": [
        "# **Практический материал занятия**"
      ]
    },
    {
      "cell_type": "markdown",
      "metadata": {
        "id": "eCK0hXbJBve6"
      },
      "source": [
        "## Классификация отзывов автомобиля Тесла"
      ]
    },
    {
      "cell_type": "code",
      "metadata": {
        "id": "4B4li4ZELpXB",
        "colab": {
          "base_uri": "https://localhost:8080/"
        },
        "outputId": "507b0662-2de0-4b73-f104-ea5098b4bac5"
      },
      "source": [
        "# Загружаем базу отзывов Tesla\n",
        "терра_ии.загрузить_базу(база='TESLA')"
      ],
      "execution_count": 54,
      "outputs": [
        {
          "output_type": "stream",
          "text": [
            "Загрузка данных завершена \n",
            "\n",
            "url: https://storage.googleapis.com/terra_ai/DataSets/tesla.zip\n"
          ],
          "name": "stdout"
        }
      ]
    },
    {
      "cell_type": "code",
      "metadata": {
        "colab": {
          "base_uri": "https://localhost:8080/"
        },
        "id": "FA7euIAEvJro",
        "outputId": "030f4276-6db5-4318-e58d-a0bb6e2ff03b"
      },
      "source": [
        "# Выводим примеры\n",
        "терра_ии.показать_примеры(база = 'TESLA')"
      ],
      "execution_count": 55,
      "outputs": [
        {
          "output_type": "stream",
          "text": [
            "В данной базе находятся положительные и негативные отзывы об автомобилях Tesla:\n",
            "['Негативный отзыв', 'Позитивный отзыв']\n",
            "\n",
            "Пример отзыва:\n",
            "Тип отзыва:  Негативный отзыв\n",
            "Отзывы:\n",
            "     * После 170 на трассе она чувствует себя неуверенно.  Кстати сидения очень удобными тоже не назовёшь. \n"
          ],
          "name": "stdout"
        }
      ]
    },
    {
      "cell_type": "code",
      "metadata": {
        "colab": {
          "base_uri": "https://localhost:8080/"
        },
        "id": "qXAuLmzc0VLz",
        "outputId": "f98075cc-93de-4e2c-c115-70c6b065c645"
      },
      "source": [
        "# Задаем параметры для формирования выборок\n",
        "количество_анализируемых_слов = '10000'\n",
        "размер_окна = '50'\n",
        "шаг = '10'\n",
        "# Создаем выборки для обучения нейронной сети\n",
        "(обучающая_выборка, метки_обучающей_выборки), (тестовая_выборка, метки_тестовой_выборки) = терра_ии.создать_текстовые_выборки(\n",
        "    количество_анализируемых_слов,\n",
        "    размер_окна,\n",
        "    шаг, \n",
        "    путь_к_базе = '/content/Отзывы/')"
      ],
      "execution_count": 56,
      "outputs": [
        {
          "output_type": "stream",
          "text": [
            "Формирование выборки завершено\n"
          ],
          "name": "stdout"
        }
      ]
    },
    {
      "cell_type": "markdown",
      "metadata": {
        "id": "FPhfEdZqCulW"
      },
      "source": [
        "### Эксперименты"
      ]
    },
    {
      "cell_type": "code",
      "metadata": {
        "id": "biUc4-cgT_sc"
      },
      "source": [
        "# Эксперимент № 1\n",
        "# Уменьшенный размер эмбеддинг-пространства. Слабая нейронка (меньше слоев, меньше нейронов)\n",
        "ветвь1 = 'Эмбеддинг-2-'+ количество_анализируемых_слов + '-' + размер_окна + ' Выравнивающий Полносвязный-2'\n",
        "ветвь2 = 'Полносвязный-4 Полносвязный-2'\n",
        "ветвь3 = 'Полносвязный-2'\n",
        "нейронка_тесла_1 = терра_ии.создать_составную_сеть(обучающая_выборка, метки_обучающей_выборки, ветвь1, ветвь2, ветвь3)"
      ],
      "execution_count": 26,
      "outputs": []
    },
    {
      "cell_type": "code",
      "metadata": {
        "colab": {
          "base_uri": "https://localhost:8080/",
          "height": 747
        },
        "id": "aEsKUCYbT_se",
        "outputId": "507dd526-2441-47da-cee6-78987fb448a7"
      },
      "source": [
        "# Обучаем модель\n",
        "эксперимент_1 = терра_ии.обучение_модели(\n",
        "    нейронка_тесла_1,\n",
        "    обучающая_выборка, метки_обучающей_выборки,\n",
        "    тестовая_выборка, метки_тестовой_выборки,\n",
        "    размер_пакета = 16,\n",
        "    количество_эпох = 20)"
      ],
      "execution_count": 27,
      "outputs": [
        {
          "output_type": "stream",
          "text": [
            "Эпоха №1    Время обучения: 2.34c   Точность на обучающей выборке: 60.62%    Точность на проверочной выборке: 56.25%\n",
            "Эпоха №2    Время обучения: 1.58c   Точность на обучающей выборке: 92.19%    Точность на проверочной выборке: 78.12%\n",
            "Эпоха №3    Время обучения: 1.58c   Точность на обучающей выборке: 99.64%    Точность на проверочной выборке: 81.25%\n",
            "Эпоха №4    Время обучения: 1.57c   Точность на обучающей выборке: 99.96%    Точность на проверочной выборке: 84.38%\n",
            "Эпоха №5    Время обучения: 1.58c   Точность на обучающей выборке: 100.0%    Точность на проверочной выборке: 84.38%\n",
            "Эпоха №6    Время обучения: 1.61c   Точность на обучающей выборке: 100.0%    Точность на проверочной выборке: 87.5%\n",
            "Эпоха №7    Время обучения: 1.57c   Точность на обучающей выборке: 100.0%    Точность на проверочной выборке: 87.5%\n",
            "Эпоха №8    Время обучения: 1.59c   Точность на обучающей выборке: 100.0%    Точность на проверочной выборке: 87.5%\n",
            "Эпоха №9    Время обучения: 1.56c   Точность на обучающей выборке: 100.0%    Точность на проверочной выборке: 87.5%\n",
            "Эпоха №10   Время обучения: 1.58c   Точность на обучающей выборке: 100.0%    Точность на проверочной выборке: 87.5%\n",
            "Эпоха №11   Время обучения: 1.49c   Точность на обучающей выборке: 100.0%    Точность на проверочной выборке: 87.5%\n",
            "Эпоха №12   Время обучения: 1.48c   Точность на обучающей выборке: 100.0%    Точность на проверочной выборке: 87.5%\n",
            "Эпоха №13   Время обучения: 1.49c   Точность на обучающей выборке: 100.0%    Точность на проверочной выборке: 87.5%\n",
            "Эпоха №14   Время обучения: 1.47c   Точность на обучающей выборке: 100.0%    Точность на проверочной выборке: 87.5%\n",
            "Эпоха №15   Время обучения: 1.47c   Точность на обучающей выборке: 100.0%    Точность на проверочной выборке: 87.5%\n",
            "Эпоха №16   Время обучения: 1.47c   Точность на обучающей выборке: 100.0%    Точность на проверочной выборке: 87.5%\n",
            "Эпоха №17   Время обучения: 1.53c   Точность на обучающей выборке: 100.0%    Точность на проверочной выборке: 87.5%\n",
            "Эпоха №18   Время обучения: 1.59c   Точность на обучающей выборке: 100.0%    Точность на проверочной выборке: 87.5%\n",
            "Эпоха №19   Время обучения: 1.58c   Точность на обучающей выборке: 100.0%    Точность на проверочной выборке: 87.5%\n",
            "\u001b[42m\u001b[37mЭпоха №20   Время обучения: 1.57c   Точность на обучающей выборке: 100.0%    Точность на проверочной выборке: 87.5%\u001b[0m\n",
            "\n"
          ],
          "name": "stdout"
        },
        {
          "output_type": "display_data",
          "data": {
            "image/png": "[encoded data removed]",
            "text/plain": [
              "<Figure size 864x432 with 1 Axes>"
            ]
          },
          "metadata": {
            "tags": []
          }
        }
      ]
    },
    {
      "cell_type": "code",
      "metadata": {
        "colab": {
          "base_uri": "https://localhost:8080/"
        },
        "id": "1h64G7oVFT6d",
        "outputId": "4d2070ea-ceae-4760-e870-5808b8779c13"
      },
      "source": [
        "# Демонстрация результата работы нейронной сети\n",
        "отзыв = 'Машина скоростная. По трассе идет отлично'\n",
        "терра_ии.тест_модели_отзывы(нейронка_тесла_1, размер_окна, шаг,\n",
        "                              отзыв, классы = ['Негативный отзыв', 'Позитивный отзыв'])"
      ],
      "execution_count": 28,
      "outputs": [
        {
          "output_type": "stream",
          "text": [
            "Негативный отзыв   -  81.22 %\n",
            "Позитивный отзыв   -  18.78 %\n",
            "\n",
            "Нейросеть думает, что это: Негативный отзыв - 81.22%\n"
          ],
          "name": "stdout"
        }
      ]
    },
    {
      "cell_type": "code",
      "metadata": {
        "colab": {
          "base_uri": "https://localhost:8080/"
        },
        "id": "zFpyBWrxNOEa",
        "outputId": "bb8053f4-2d3d-4d88-fab5-b8e2082707b2"
      },
      "source": [
        "# Демонстрация результата работы нейронной сети\n",
        "отзыв = 'Самая быстрая красивая мощная'\n",
        "терра_ии.тест_модели_отзывы(нейронка_тесла_1, размер_окна, шаг,\n",
        "                              отзыв, классы = ['Негативный отзыв', 'Позитивный отзыв'])"
      ],
      "execution_count": 29,
      "outputs": [
        {
          "output_type": "stream",
          "text": [
            "Негативный отзыв   -  33.56 %\n",
            "Позитивный отзыв   -  66.44 %\n",
            "\n",
            "Нейросеть думает, что это: Позитивный отзыв - 66.44%\n"
          ],
          "name": "stdout"
        }
      ]
    },
    {
      "cell_type": "code",
      "metadata": {
        "id": "HGohAu4RTbf6"
      },
      "source": [
        "# Эксперимент № 2\n",
        "# Размер эмбеддинг-пространства чуть больше. Слабая нейронка.\n",
        "# Больший размер пакета при обучении\n",
        "ветвь1 = 'Эмбеддинг-10-' + количество_анализируемых_слов + '-' + размер_окна + ' Выравнивающий Полносвязный-8'\n",
        "ветвь2 = 'Полносвязный-32 Полносвязный-16 Полносвязный-8'\n",
        "ветвь3 = 'Полносвязный-8'\n",
        "нейронка_тесла_2 = терра_ии.создать_составную_сеть(обучающая_выборка, метки_обучающей_выборки, ветвь1, ветвь2, ветвь3)"
      ],
      "execution_count": 30,
      "outputs": []
    },
    {
      "cell_type": "code",
      "metadata": {
        "colab": {
          "base_uri": "https://localhost:8080/",
          "height": 747
        },
        "id": "cc-66EjKTbf9",
        "outputId": "777fc3ba-0f6d-4617-af36-d35fd909508e"
      },
      "source": [
        "# Обучаем модель\n",
        "эксперимент_2 = терра_ии.обучение_модели(\n",
        "    нейронка_тесла_2,\n",
        "    обучающая_выборка, метки_обучающей_выборки,\n",
        "    тестовая_выборка, метки_тестовой_выборки,\n",
        "    размер_пакета = 32,\n",
        "    количество_эпох = 20)"
      ],
      "execution_count": 31,
      "outputs": [
        {
          "output_type": "stream",
          "text": [
            "Эпоха №1    Время обучения: 1.87c   Точность на обучающей выборке: 51.69%    Точность на проверочной выборке: 37.5%\n",
            "Эпоха №2    Время обучения: 1.11c   Точность на обучающей выборке: 89.19%    Точность на проверочной выборке: 68.75%\n",
            "Эпоха №3    Время обучения: 1.08c   Точность на обучающей выборке: 99.98%    Точность на проверочной выборке: 81.25%\n",
            "Эпоха №4    Время обучения: 1.09c   Точность на обучающей выборке: 100.0%    Точность на проверочной выборке: 93.75%\n",
            "Эпоха №5    Время обучения: 1.09c   Точность на обучающей выборке: 100.0%    Точность на проверочной выборке: 93.75%\n",
            "Эпоха №6    Время обучения: 1.1c    Точность на обучающей выборке: 100.0%    Точность на проверочной выборке: 93.75%\n",
            "Эпоха №7    Время обучения: 1.09c   Точность на обучающей выборке: 100.0%    Точность на проверочной выборке: 93.75%\n",
            "Эпоха №8    Время обучения: 1.06c   Точность на обучающей выборке: 100.0%    Точность на проверочной выборке: 93.75%\n",
            "Эпоха №9    Время обучения: 1.02c   Точность на обучающей выборке: 100.0%    Точность на проверочной выборке: 93.75%\n",
            "Эпоха №10   Время обучения: 1.05c   Точность на обучающей выборке: 100.0%    Точность на проверочной выборке: 93.75%\n",
            "Эпоха №11   Время обучения: 1.0c    Точность на обучающей выборке: 100.0%    Точность на проверочной выборке: 93.75%\n",
            "Эпоха №12   Время обучения: 0.99c   Точность на обучающей выборке: 100.0%    Точность на проверочной выборке: 93.75%\n",
            "Эпоха №13   Время обучения: 1.0c    Точность на обучающей выборке: 100.0%    Точность на проверочной выборке: 93.75%\n",
            "Эпоха №14   Время обучения: 1.01c   Точность на обучающей выборке: 100.0%    Точность на проверочной выборке: 93.75%\n",
            "Эпоха №15   Время обучения: 1.0c    Точность на обучающей выборке: 100.0%    Точность на проверочной выборке: 93.75%\n",
            "Эпоха №16   Время обучения: 1.01c   Точность на обучающей выборке: 100.0%    Точность на проверочной выборке: 93.75%\n",
            "Эпоха №17   Время обучения: 1.01c   Точность на обучающей выборке: 100.0%    Точность на проверочной выборке: 93.75%\n",
            "Эпоха №18   Время обучения: 1.0c    Точность на обучающей выборке: 100.0%    Точность на проверочной выборке: 93.75%\n",
            "Эпоха №19   Время обучения: 1.0c    Точность на обучающей выборке: 100.0%    Точность на проверочной выборке: 93.75%\n",
            "\u001b[42m\u001b[37mЭпоха №20   Время обучения: 1.06c   Точность на обучающей выборке: 100.0%    Точность на проверочной выборке: 93.75%\u001b[0m\n",
            "\n"
          ],
          "name": "stdout"
        },
        {
          "output_type": "display_data",
          "data": {
            "image/png": "[encoded data removed]",
            "text/plain": [
              "<Figure size 864x432 with 1 Axes>"
            ]
          },
          "metadata": {
            "tags": []
          }
        }
      ]
    },
    {
      "cell_type": "code",
      "metadata": {
        "colab": {
          "base_uri": "https://localhost:8080/"
        },
        "id": "vCHZwC5BFvo6",
        "outputId": "430b0529-ffc2-4cf0-d0b0-ed8767f1fb18"
      },
      "source": [
        "# Демонстрация результата работы нейронной сети\n",
        "отзыв = 'Обзор не очень, зеркала маленькие, заднее стекло тоже'\n",
        "терра_ии.тест_модели_отзывы(нейронка_тесла_2, размер_окна, шаг,\n",
        "                              отзыв, классы = ['Негативный отзыв', 'Позитивный отзыв'])"
      ],
      "execution_count": 32,
      "outputs": [
        {
          "output_type": "stream",
          "text": [
            "Негативный отзыв   -  78.41 %\n",
            "Позитивный отзыв   -  21.59 %\n",
            "\n",
            "Нейросеть думает, что это: Негативный отзыв - 78.41%\n"
          ],
          "name": "stdout"
        }
      ]
    },
    {
      "cell_type": "code",
      "metadata": {
        "colab": {
          "base_uri": "https://localhost:8080/"
        },
        "id": "CVch-8i4FFHo",
        "outputId": "b57d7cc1-4ec9-4833-90bc-44c6f6cd93b8"
      },
      "source": [
        "# Демонстрация результата работы нейронной сети\n",
        "отзыв = 'Самая быстрая красивая мощная'\n",
        "терра_ии.тест_модели_отзывы(нейронка_тесла_2, размер_окна, шаг,\n",
        "                              отзыв, классы = ['Негативный отзыв', 'Позитивный отзыв'])"
      ],
      "execution_count": 33,
      "outputs": [
        {
          "output_type": "stream",
          "text": [
            "Негативный отзыв   -  51.67 %\n",
            "Позитивный отзыв   -  48.33 %\n",
            "\n",
            "Нейросеть думает, что это: Негативный отзыв - 51.67%\n"
          ],
          "name": "stdout"
        }
      ]
    },
    {
      "cell_type": "code",
      "metadata": {
        "id": "hJ3KQa-BTzDC"
      },
      "source": [
        "# Эксперимент № 3\n",
        "# Еще увеличим размер эмбеддинг-пространства. Нейронка посильнее.\n",
        "ветвь1 = 'Эмбеддинг-50-' + количество_анализируемых_слов + '-' + размер_окна + ' Выравнивающий Полносвязный-16'\n",
        "ветвь2 = 'Полносвязный-64 Полносвязный-32 Полносвязный-16'\n",
        "ветвь3 = 'Полносвязный-32'\n",
        "нейронка_тесла_3 = терра_ии.создать_составную_сеть(обучающая_выборка, метки_обучающей_выборки, ветвь1, ветвь2, ветвь3)"
      ],
      "execution_count": 34,
      "outputs": []
    },
    {
      "cell_type": "code",
      "metadata": {
        "colab": {
          "base_uri": "https://localhost:8080/",
          "height": 747
        },
        "id": "EhhbSchnT7ie",
        "outputId": "d70bba35-7091-431e-d784-e0321f12648e"
      },
      "source": [
        "# Обучаем модель\n",
        "эксперимент_3 = терра_ии.обучение_модели(\n",
        "    нейронка_тесла_3,\n",
        "    обучающая_выборка, метки_обучающей_выборки,\n",
        "    тестовая_выборка, метки_тестовой_выборки,\n",
        "    размер_пакета = 32,\n",
        "    количество_эпох = 20)"
      ],
      "execution_count": 35,
      "outputs": [
        {
          "output_type": "stream",
          "text": [
            "Эпоха №1    Время обучения: 2.42c   Точность на обучающей выборке: 59.6%     Точность на проверочной выборке: 53.12%\n",
            "Эпоха №2    Время обучения: 1.58c   Точность на обучающей выборке: 98.89%    Точность на проверочной выборке: 87.5%\n",
            "Эпоха №3    Время обучения: 1.6c    Точность на обучающей выборке: 100.0%    Точность на проверочной выборке: 90.62%\n",
            "Эпоха №4    Время обучения: 1.59c   Точность на обучающей выборке: 100.0%    Точность на проверочной выборке: 90.62%\n",
            "Эпоха №5    Время обучения: 1.58c   Точность на обучающей выборке: 100.0%    Точность на проверочной выборке: 90.62%\n",
            "Эпоха №6    Время обучения: 1.61c   Точность на обучающей выборке: 100.0%    Точность на проверочной выборке: 90.62%\n",
            "Эпоха №7    Время обучения: 1.56c   Точность на обучающей выборке: 100.0%    Точность на проверочной выборке: 90.62%\n",
            "Эпоха №8    Время обучения: 1.57c   Точность на обучающей выборке: 100.0%    Точность на проверочной выборке: 90.62%\n",
            "Эпоха №9    Время обучения: 1.59c   Точность на обучающей выборке: 100.0%    Точность на проверочной выборке: 90.62%\n",
            "Эпоха №10   Время обучения: 1.6c    Точность на обучающей выборке: 100.0%    Точность на проверочной выборке: 90.62%\n",
            "Эпоха №11   Время обучения: 1.54c   Точность на обучающей выборке: 100.0%    Точность на проверочной выборке: 90.62%\n",
            "Эпоха №12   Время обучения: 1.55c   Точность на обучающей выборке: 100.0%    Точность на проверочной выборке: 90.62%\n",
            "Эпоха №13   Время обучения: 1.61c   Точность на обучающей выборке: 100.0%    Точность на проверочной выборке: 90.62%\n",
            "Эпоха №14   Время обучения: 1.55c   Точность на обучающей выборке: 100.0%    Точность на проверочной выборке: 90.62%\n",
            "Эпоха №15   Время обучения: 1.56c   Точность на обучающей выборке: 100.0%    Точность на проверочной выборке: 90.62%\n",
            "Эпоха №16   Время обучения: 1.55c   Точность на обучающей выборке: 100.0%    Точность на проверочной выборке: 90.62%\n",
            "Эпоха №17   Время обучения: 1.71c   Точность на обучающей выборке: 100.0%    Точность на проверочной выборке: 90.62%\n",
            "Эпоха №18   Время обучения: 1.68c   Точность на обучающей выборке: 100.0%    Точность на проверочной выборке: 90.62%\n",
            "Эпоха №19   Время обучения: 1.67c   Точность на обучающей выборке: 100.0%    Точность на проверочной выборке: 90.62%\n",
            "\u001b[42m\u001b[37mЭпоха №20   Время обучения: 1.69c   Точность на обучающей выборке: 100.0%    Точность на проверочной выборке: 90.62%\u001b[0m\n",
            "\n"
          ],
          "name": "stdout"
        },
        {
          "output_type": "display_data",
          "data": {
            "image/png": "[encoded data removed]",
            "text/plain": [
              "<Figure size 864x432 with 1 Axes>"
            ]
          },
          "metadata": {
            "tags": []
          }
        }
      ]
    },
    {
      "cell_type": "code",
      "metadata": {
        "id": "JcZ8kpMsGJK_",
        "colab": {
          "base_uri": "https://localhost:8080/"
        },
        "outputId": "27af67f6-9b00-4689-d77e-5606aaece94e"
      },
      "source": [
        "# Демонстрация результата работы нейронной сети\n",
        "отзыв = 'После 170 на трассе она чувствует себя неуверенно.'\n",
        "терра_ии.тест_модели_отзывы(нейронка_тесла_3, размер_окна, шаг,\n",
        "                              отзыв, классы = ['Негативный отзыв', 'Позитивный отзыв'])"
      ],
      "execution_count": 36,
      "outputs": [
        {
          "output_type": "stream",
          "text": [
            "Негативный отзыв   -  39.13 %\n",
            "Позитивный отзыв   -  60.87 %\n",
            "\n",
            "Нейросеть думает, что это: Позитивный отзыв - 60.87%\n"
          ],
          "name": "stdout"
        }
      ]
    },
    {
      "cell_type": "code",
      "metadata": {
        "colab": {
          "base_uri": "https://localhost:8080/"
        },
        "id": "JO55TaU0FH8n",
        "outputId": "051f8b98-0ba1-42ad-80e0-61627f13a6fa"
      },
      "source": [
        "# Демонстрация результата работы нейронной сети\n",
        "отзыв = 'Самая быстрая красивая мощная'\n",
        "терра_ии.тест_модели_отзывы(нейронка_тесла_3, размер_окна, шаг,\n",
        "                              отзыв, классы = ['Негативный отзыв', 'Позитивный отзыв'])"
      ],
      "execution_count": 37,
      "outputs": [
        {
          "output_type": "stream",
          "text": [
            "Негативный отзыв   -  11.13 %\n",
            "Позитивный отзыв   -  88.87 %\n",
            "\n",
            "Нейросеть думает, что это: Позитивный отзыв - 88.87%\n"
          ],
          "name": "stdout"
        }
      ]
    },
    {
      "cell_type": "code",
      "metadata": {
        "id": "ltR_KF9jK1uu"
      },
      "source": [
        "# Эксперимент № 4\n",
        "# Более сильная нейронка\n",
        "ветвь1 = 'Эмбеддинг-100-' + количество_анализируемых_слов + '-' + размер_окна + ' Выравнивающий Полносвязный-32'\n",
        "ветвь2 = 'Полносвязный-128 Полносвязный-64 Полносвязный-32'\n",
        "ветвь3 = 'Полносвязный-32'\n",
        "нейронка_тесла_4 = терра_ии.создать_составную_сеть(обучающая_выборка, метки_обучающей_выборки, ветвь1, ветвь2, ветвь3)"
      ],
      "execution_count": 57,
      "outputs": []
    },
    {
      "cell_type": "code",
      "metadata": {
        "id": "1EkEXDxSK1uw",
        "colab": {
          "base_uri": "https://localhost:8080/",
          "height": 747
        },
        "outputId": "db029c02-c04f-4cc8-f143-7732f14668fe"
      },
      "source": [
        "# Обучаем модель\n",
        "эксперимент_4 = терра_ии.обучение_модели(\n",
        "    нейронка_тесла_4,\n",
        "    обучающая_выборка, метки_обучающей_выборки,\n",
        "    тестовая_выборка, метки_тестовой_выборки,\n",
        "    размер_пакета = 32,\n",
        "    количество_эпох = 20)"
      ],
      "execution_count": 58,
      "outputs": [
        {
          "output_type": "stream",
          "text": [
            "Эпоха №1    Время обучения: 3.39c   Точность на обучающей выборке: 69.35%    Точность на проверочной выборке: 90.62%\n",
            "Эпоха №2    Время обучения: 2.66c   Точность на обучающей выборке: 99.85%    Точность на проверочной выборке: 90.62%\n",
            "Эпоха №3    Время обучения: 2.65c   Точность на обучающей выборке: 100.0%    Точность на проверочной выборке: 90.62%\n",
            "Эпоха №4    Время обучения: 2.58c   Точность на обучающей выборке: 100.0%    Точность на проверочной выборке: 90.62%\n",
            "Эпоха №5    Время обучения: 2.54c   Точность на обучающей выборке: 100.0%    Точность на проверочной выборке: 90.62%\n",
            "Эпоха №6    Время обучения: 2.55c   Точность на обучающей выборке: 100.0%    Точность на проверочной выборке: 90.62%\n",
            "Эпоха №7    Время обучения: 2.56c   Точность на обучающей выборке: 100.0%    Точность на проверочной выборке: 90.62%\n",
            "Эпоха №8    Время обучения: 2.56c   Точность на обучающей выборке: 100.0%    Точность на проверочной выборке: 90.62%\n",
            "Эпоха №9    Время обучения: 2.62c   Точность на обучающей выборке: 100.0%    Точность на проверочной выборке: 90.62%\n",
            "Эпоха №10   Время обучения: 2.45c   Точность на обучающей выборке: 100.0%    Точность на проверочной выборке: 90.62%\n",
            "Эпоха №11   Время обучения: 2.45c   Точность на обучающей выборке: 100.0%    Точность на проверочной выборке: 90.62%\n",
            "Эпоха №12   Время обучения: 2.39c   Точность на обучающей выборке: 100.0%    Точность на проверочной выборке: 90.62%\n",
            "Эпоха №13   Время обучения: 2.4c    Точность на обучающей выборке: 100.0%    Точность на проверочной выборке: 90.62%\n",
            "Эпоха №14   Время обучения: 2.45c   Точность на обучающей выборке: 100.0%    Точность на проверочной выборке: 90.62%\n",
            "Эпоха №15   Время обучения: 2.52c   Точность на обучающей выборке: 100.0%    Точность на проверочной выборке: 90.62%\n",
            "Эпоха №16   Время обучения: 2.61c   Точность на обучающей выборке: 100.0%    Точность на проверочной выборке: 90.62%\n",
            "Эпоха №17   Время обучения: 2.87c   Точность на обучающей выборке: 100.0%    Точность на проверочной выборке: 90.62%\n",
            "Эпоха №18   Время обучения: 2.74c   Точность на обучающей выборке: 100.0%    Точность на проверочной выборке: 90.62%\n",
            "Эпоха №19   Время обучения: 2.83c   Точность на обучающей выборке: 100.0%    Точность на проверочной выборке: 90.62%\n",
            "\u001b[42m\u001b[37mЭпоха №20   Время обучения: 2.74c   Точность на обучающей выборке: 100.0%    Точность на проверочной выборке: 90.62%\u001b[0m\n",
            "\n"
          ],
          "name": "stdout"
        },
        {
          "output_type": "display_data",
          "data": {
            "image/png": "[encoded data removed]",
            "text/plain": [
              "<Figure size 864x432 with 1 Axes>"
            ]
          },
          "metadata": {
            "tags": []
          }
        }
      ]
    },
    {
      "cell_type": "code",
      "metadata": {
        "id": "opw4dK0EGpwj",
        "colab": {
          "base_uri": "https://localhost:8080/"
        },
        "outputId": "1f079383-0dd8-4da8-f6fe-9177141d1a50"
      },
      "source": [
        "# Демонстрация результата работы нейронной сети\n",
        "отзыв = 'Машина мне нравится, хоть она и дорогая. Удобная в эксплуатации'\n",
        "терра_ии.тест_модели_отзывы(нейронка_тесла_4, размер_окна, шаг,\n",
        "                              отзыв, классы = ['Негативный отзыв', 'Позитивный отзыв'])"
      ],
      "execution_count": 59,
      "outputs": [
        {
          "output_type": "stream",
          "text": [
            "Негативный отзыв   -  59.65 %\n",
            "Позитивный отзыв   -  40.35 %\n",
            "\n",
            "Нейросеть думает, что это: Негативный отзыв - 59.65%\n"
          ],
          "name": "stdout"
        }
      ]
    },
    {
      "cell_type": "code",
      "metadata": {
        "colab": {
          "base_uri": "https://localhost:8080/"
        },
        "id": "P9nk2JpgFMSe",
        "outputId": "d83bb0b8-f6c4-47bd-fa59-33809571707a"
      },
      "source": [
        "# Демонстрация результата работы нейронной сети\n",
        "отзыв = 'Самая быстрая красивая мощная'\n",
        "терра_ии.тест_модели_отзывы(нейронка_тесла_4, размер_окна, шаг,\n",
        "                              отзыв, классы = ['Негативный отзыв', 'Позитивный отзыв'])"
      ],
      "execution_count": 60,
      "outputs": [
        {
          "output_type": "stream",
          "text": [
            "Негативный отзыв   -  42.58 %\n",
            "Позитивный отзыв   -  57.42 %\n",
            "\n",
            "Нейросеть думает, что это: Позитивный отзыв - 57.42%\n"
          ],
          "name": "stdout"
        }
      ]
    },
    {
      "cell_type": "code",
      "metadata": {
        "id": "eE21RumeMfOM"
      },
      "source": [
        "# Эксперимент № 5\n",
        "# Еще усилим модель\n",
        "ветвь1 = 'Эмбеддинг-100-' + количество_анализируемых_слов + '-' + размер_окна + ' Выравнивающий Полносвязный-100'\n",
        "ветвь2 = 'Полносвязный-1024 Полносвязный-256 Полносвязный-64'\n",
        "ветвь3 = 'Полносвязный-100'\n",
        "нейронка_тесла_5 = терра_ии.создать_составную_сеть(обучающая_выборка, метки_обучающей_выборки, ветвь1, ветвь2, ветвь3)"
      ],
      "execution_count": 61,
      "outputs": []
    },
    {
      "cell_type": "code",
      "metadata": {
        "id": "nsGSljYoMfON",
        "colab": {
          "base_uri": "https://localhost:8080/",
          "height": 374
        },
        "outputId": "818cf4c8-2daf-41d6-8330-e2335b9e6f10"
      },
      "source": [
        "# Обучаем модель\n",
        "эксперимент_5 = терра_ии.обучение_модели(\n",
        "    нейронка_тесла_5,\n",
        "    обучающая_выборка, метки_обучающей_выборки,\n",
        "    тестовая_выборка, метки_тестовой_выборки,\n",
        "    размер_пакета = 16,\n",
        "    количество_эпох = 20)"
      ],
      "execution_count": 62,
      "outputs": [
        {
          "output_type": "stream",
          "text": [
            "Эпоха №1    Время обучения: 6.86c   Точность на обучающей выборке: 91.46%    Точность на проверочной выборке: 84.38%\n",
            "Эпоха №2    Время обучения: 5.89c   Точность на обучающей выборке: 100.0%    Точность на проверочной выборке: 84.38%\n"
          ],
          "name": "stdout"
        },
        {
          "output_type": "error",
          "ename": "KeyboardInterrupt",
          "evalue": "ignored",
          "traceback": [
            "\u001b[0;31m---------------------------------------------------------------------------\u001b[0m",
            "\u001b[0;31mKeyboardInterrupt\u001b[0m                         Traceback (most recent call last)",
            "\u001b[0;32m<ipython-input-62-d5204e03478a>\u001b[0m in \u001b[0;36m<module>\u001b[0;34m()\u001b[0m\n\u001b[1;32m      5\u001b[0m     \u001b[0mтестовая_выборка\u001b[0m\u001b[0;34m,\u001b[0m \u001b[0mметки_тестовой_выборки\u001b[0m\u001b[0;34m,\u001b[0m\u001b[0;34m\u001b[0m\u001b[0;34m\u001b[0m\u001b[0m\n\u001b[1;32m      6\u001b[0m     \u001b[0mразмер_пакета\u001b[0m \u001b[0;34m=\u001b[0m \u001b[0;36m16\u001b[0m\u001b[0;34m,\u001b[0m\u001b[0;34m\u001b[0m\u001b[0;34m\u001b[0m\u001b[0m\n\u001b[0;32m----> 7\u001b[0;31m     количество_эпох = 20)\n\u001b[0m",
            "\u001b[0;32m/usr/local/lib/python3.7/dist-packages/terra_ai/терра_ии.py\u001b[0m in \u001b[0;36mобучение_модели\u001b[0;34m(мод, x_train, y_train, x_test, y_test, размер_пакета, количество_эпох, коэф_разделения, **kwargs)\u001b[0m\n\u001b[1;32m    262\u001b[0m \u001b[0;32mdef\u001b[0m \u001b[0mобучение_модели\u001b[0m\u001b[0;34m(\u001b[0m\u001b[0mмод\u001b[0m\u001b[0;34m,\u001b[0m \u001b[0mx_train\u001b[0m\u001b[0;34m,\u001b[0m \u001b[0my_train\u001b[0m\u001b[0;34m,\u001b[0m \u001b[0mx_test\u001b[0m\u001b[0;34m=\u001b[0m\u001b[0;34m[\u001b[0m\u001b[0;34m]\u001b[0m\u001b[0;34m,\u001b[0m \u001b[0my_test\u001b[0m\u001b[0;34m=\u001b[0m\u001b[0;34m[\u001b[0m\u001b[0;34m]\u001b[0m\u001b[0;34m,\u001b[0m \u001b[0mразмер_пакета\u001b[0m\u001b[0;34m=\u001b[0m\u001b[0;32mNone\u001b[0m\u001b[0;34m,\u001b[0m \u001b[0mколичество_эпох\u001b[0m\u001b[0;34m=\u001b[0m\u001b[0;32mNone\u001b[0m\u001b[0;34m,\u001b[0m \u001b[0mкоэф_разделения\u001b[0m \u001b[0;34m=\u001b[0m \u001b[0;36m0.2\u001b[0m\u001b[0;34m,\u001b[0m \u001b[0;34m**\u001b[0m\u001b[0mkwargs\u001b[0m\u001b[0;34m)\u001b[0m\u001b[0;34m:\u001b[0m\u001b[0;34m\u001b[0m\u001b[0;34m\u001b[0m\u001b[0m\n\u001b[1;32m    263\u001b[0m   \u001b[0;32mglobal\u001b[0m \u001b[0mhistory\u001b[0m\u001b[0;34m\u001b[0m\u001b[0;34m\u001b[0m\u001b[0m\n\u001b[0;32m--> 264\u001b[0;31m   \u001b[0;32mreturn\u001b[0m \u001b[0mмодель\u001b[0m\u001b[0;34m.\u001b[0m\u001b[0mобучение_модели\u001b[0m\u001b[0;34m(\u001b[0m\u001b[0mмод\u001b[0m\u001b[0;34m,\u001b[0m \u001b[0mx_train\u001b[0m\u001b[0;34m,\u001b[0m \u001b[0my_train\u001b[0m\u001b[0;34m,\u001b[0m \u001b[0mx_test\u001b[0m\u001b[0;34m,\u001b[0m \u001b[0my_test\u001b[0m\u001b[0;34m,\u001b[0m \u001b[0mразмер_пакета\u001b[0m\u001b[0;34m,\u001b[0m \u001b[0mколичество_эпох\u001b[0m\u001b[0;34m,\u001b[0m \u001b[0mкоэф_разделения\u001b[0m\u001b[0;34m,\u001b[0m \u001b[0;34m**\u001b[0m\u001b[0mkwargs\u001b[0m\u001b[0;34m)\u001b[0m\u001b[0;34m\u001b[0m\u001b[0;34m\u001b[0m\u001b[0m\n\u001b[0m\u001b[1;32m    265\u001b[0m \u001b[0;34m\u001b[0m\u001b[0m\n\u001b[1;32m    266\u001b[0m \u001b[0;32mdef\u001b[0m \u001b[0mобучение_модели_временного_ряда\u001b[0m\u001b[0;34m(\u001b[0m\u001b[0mмод\u001b[0m\u001b[0;34m,\u001b[0m \u001b[0mген1\u001b[0m\u001b[0;34m,\u001b[0m \u001b[0mген2\u001b[0m\u001b[0;34m,\u001b[0m \u001b[0mколичество_эпох\u001b[0m\u001b[0;34m=\u001b[0m\u001b[0;32mNone\u001b[0m\u001b[0;34m)\u001b[0m\u001b[0;34m:\u001b[0m\u001b[0;34m\u001b[0m\u001b[0;34m\u001b[0m\u001b[0m\n",
            "\u001b[0;32m/usr/local/lib/python3.7/dist-packages/terra_ai/модель.py\u001b[0m in \u001b[0;36mобучение_модели\u001b[0;34m(модель, x_train, y_train, x_test, y_test, batch_size, epochs, коэф_разделения, **kwargs)\u001b[0m\n\u001b[1;32m    848\u001b[0m       \u001b[0mhistory\u001b[0m \u001b[0;34m=\u001b[0m \u001b[0mмодель\u001b[0m\u001b[0;34m.\u001b[0m\u001b[0mfit\u001b[0m\u001b[0;34m(\u001b[0m\u001b[0mx_train\u001b[0m\u001b[0;34m,\u001b[0m \u001b[0my_train\u001b[0m\u001b[0;34m,\u001b[0m \u001b[0mbatch_size\u001b[0m\u001b[0;34m=\u001b[0m\u001b[0mbatch_size\u001b[0m\u001b[0;34m,\u001b[0m \u001b[0mepochs\u001b[0m\u001b[0;34m=\u001b[0m\u001b[0mepochs\u001b[0m\u001b[0;34m,\u001b[0m \u001b[0mcallbacks\u001b[0m\u001b[0;34m=\u001b[0m\u001b[0;34m[\u001b[0m\u001b[0mmodel_checkpoint_callback\u001b[0m\u001b[0;34m,\u001b[0m \u001b[0mmyCB\u001b[0m\u001b[0;34m]\u001b[0m\u001b[0;34m,\u001b[0m \u001b[0mverbose\u001b[0m \u001b[0;34m=\u001b[0m \u001b[0;36m0\u001b[0m\u001b[0;34m)\u001b[0m\u001b[0;34m\u001b[0m\u001b[0;34m\u001b[0m\u001b[0m\n\u001b[1;32m    849\u001b[0m     \u001b[0;32melse\u001b[0m\u001b[0;34m:\u001b[0m\u001b[0;34m\u001b[0m\u001b[0;34m\u001b[0m\u001b[0m\n\u001b[0;32m--> 850\u001b[0;31m       \u001b[0mhistory\u001b[0m \u001b[0;34m=\u001b[0m \u001b[0mмодель\u001b[0m\u001b[0;34m.\u001b[0m\u001b[0mfit\u001b[0m\u001b[0;34m(\u001b[0m\u001b[0mx_train\u001b[0m\u001b[0;34m,\u001b[0m \u001b[0my_train\u001b[0m\u001b[0;34m,\u001b[0m \u001b[0mbatch_size\u001b[0m\u001b[0;34m=\u001b[0m\u001b[0mbatch_size\u001b[0m\u001b[0;34m,\u001b[0m \u001b[0mepochs\u001b[0m\u001b[0;34m=\u001b[0m\u001b[0mepochs\u001b[0m\u001b[0;34m,\u001b[0m \u001b[0mvalidation_data\u001b[0m \u001b[0;34m=\u001b[0m \u001b[0;34m(\u001b[0m\u001b[0mx_test\u001b[0m\u001b[0;34m,\u001b[0m \u001b[0my_test\u001b[0m\u001b[0;34m)\u001b[0m\u001b[0;34m,\u001b[0m \u001b[0mcallbacks\u001b[0m\u001b[0;34m=\u001b[0m\u001b[0;34m[\u001b[0m\u001b[0mmodel_checkpoint_callback\u001b[0m\u001b[0;34m,\u001b[0m \u001b[0mmyCB\u001b[0m\u001b[0;34m]\u001b[0m\u001b[0;34m,\u001b[0m \u001b[0mverbose\u001b[0m \u001b[0;34m=\u001b[0m \u001b[0;36m0\u001b[0m\u001b[0;34m)\u001b[0m\u001b[0;34m\u001b[0m\u001b[0;34m\u001b[0m\u001b[0m\n\u001b[0m\u001b[1;32m    851\u001b[0m \u001b[0;34m\u001b[0m\u001b[0m\n\u001b[1;32m    852\u001b[0m     \u001b[0mмодель\u001b[0m\u001b[0;34m.\u001b[0m\u001b[0mload_weights\u001b[0m\u001b[0;34m(\u001b[0m\u001b[0;34m'model.h5'\u001b[0m\u001b[0;34m)\u001b[0m\u001b[0;34m\u001b[0m\u001b[0;34m\u001b[0m\u001b[0m\n",
            "\u001b[0;32m/usr/local/lib/python3.7/dist-packages/tensorflow/python/keras/engine/training.py\u001b[0m in \u001b[0;36mfit\u001b[0;34m(self, x, y, batch_size, epochs, verbose, callbacks, validation_split, validation_data, shuffle, class_weight, sample_weight, initial_epoch, steps_per_epoch, validation_steps, validation_batch_size, validation_freq, max_queue_size, workers, use_multiprocessing)\u001b[0m\n\u001b[1;32m   1181\u001b[0m                 _r=1):\n\u001b[1;32m   1182\u001b[0m               \u001b[0mcallbacks\u001b[0m\u001b[0;34m.\u001b[0m\u001b[0mon_train_batch_begin\u001b[0m\u001b[0;34m(\u001b[0m\u001b[0mstep\u001b[0m\u001b[0;34m)\u001b[0m\u001b[0;34m\u001b[0m\u001b[0;34m\u001b[0m\u001b[0m\n\u001b[0;32m-> 1183\u001b[0;31m               \u001b[0mtmp_logs\u001b[0m \u001b[0;34m=\u001b[0m \u001b[0mself\u001b[0m\u001b[0;34m.\u001b[0m\u001b[0mtrain_function\u001b[0m\u001b[0;34m(\u001b[0m\u001b[0miterator\u001b[0m\u001b[0;34m)\u001b[0m\u001b[0;34m\u001b[0m\u001b[0;34m\u001b[0m\u001b[0m\n\u001b[0m\u001b[1;32m   1184\u001b[0m               \u001b[0;32mif\u001b[0m \u001b[0mdata_handler\u001b[0m\u001b[0;34m.\u001b[0m\u001b[0mshould_sync\u001b[0m\u001b[0;34m:\u001b[0m\u001b[0;34m\u001b[0m\u001b[0;34m\u001b[0m\u001b[0m\n\u001b[1;32m   1185\u001b[0m                 \u001b[0mcontext\u001b[0m\u001b[0;34m.\u001b[0m\u001b[0masync_wait\u001b[0m\u001b[0;34m(\u001b[0m\u001b[0;34m)\u001b[0m\u001b[0;34m\u001b[0m\u001b[0;34m\u001b[0m\u001b[0m\n",
            "\u001b[0;32m/usr/local/lib/python3.7/dist-packages/tensorflow/python/eager/def_function.py\u001b[0m in \u001b[0;36m__call__\u001b[0;34m(self, *args, **kwds)\u001b[0m\n\u001b[1;32m    887\u001b[0m \u001b[0;34m\u001b[0m\u001b[0m\n\u001b[1;32m    888\u001b[0m       \u001b[0;32mwith\u001b[0m \u001b[0mOptionalXlaContext\u001b[0m\u001b[0;34m(\u001b[0m\u001b[0mself\u001b[0m\u001b[0;34m.\u001b[0m\u001b[0m_jit_compile\u001b[0m\u001b[0;34m)\u001b[0m\u001b[0;34m:\u001b[0m\u001b[0;34m\u001b[0m\u001b[0;34m\u001b[0m\u001b[0m\n\u001b[0;32m--> 889\u001b[0;31m         \u001b[0mresult\u001b[0m \u001b[0;34m=\u001b[0m \u001b[0mself\u001b[0m\u001b[0;34m.\u001b[0m\u001b[0m_call\u001b[0m\u001b[0;34m(\u001b[0m\u001b[0;34m*\u001b[0m\u001b[0margs\u001b[0m\u001b[0;34m,\u001b[0m \u001b[0;34m**\u001b[0m\u001b[0mkwds\u001b[0m\u001b[0;34m)\u001b[0m\u001b[0;34m\u001b[0m\u001b[0;34m\u001b[0m\u001b[0m\n\u001b[0m\u001b[1;32m    890\u001b[0m \u001b[0;34m\u001b[0m\u001b[0m\n\u001b[1;32m    891\u001b[0m       \u001b[0mnew_tracing_count\u001b[0m \u001b[0;34m=\u001b[0m \u001b[0mself\u001b[0m\u001b[0;34m.\u001b[0m\u001b[0mexperimental_get_tracing_count\u001b[0m\u001b[0;34m(\u001b[0m\u001b[0;34m)\u001b[0m\u001b[0;34m\u001b[0m\u001b[0;34m\u001b[0m\u001b[0m\n",
            "\u001b[0;32m/usr/local/lib/python3.7/dist-packages/tensorflow/python/eager/def_function.py\u001b[0m in \u001b[0;36m_call\u001b[0;34m(self, *args, **kwds)\u001b[0m\n\u001b[1;32m    915\u001b[0m       \u001b[0;31m# In this case we have created variables on the first call, so we run the\u001b[0m\u001b[0;34m\u001b[0m\u001b[0;34m\u001b[0m\u001b[0;34m\u001b[0m\u001b[0m\n\u001b[1;32m    916\u001b[0m       \u001b[0;31m# defunned version which is guaranteed to never create variables.\u001b[0m\u001b[0;34m\u001b[0m\u001b[0;34m\u001b[0m\u001b[0;34m\u001b[0m\u001b[0m\n\u001b[0;32m--> 917\u001b[0;31m       \u001b[0;32mreturn\u001b[0m \u001b[0mself\u001b[0m\u001b[0;34m.\u001b[0m\u001b[0m_stateless_fn\u001b[0m\u001b[0;34m(\u001b[0m\u001b[0;34m*\u001b[0m\u001b[0margs\u001b[0m\u001b[0;34m,\u001b[0m \u001b[0;34m**\u001b[0m\u001b[0mkwds\u001b[0m\u001b[0;34m)\u001b[0m  \u001b[0;31m# pylint: disable=not-callable\u001b[0m\u001b[0;34m\u001b[0m\u001b[0;34m\u001b[0m\u001b[0m\n\u001b[0m\u001b[1;32m    918\u001b[0m     \u001b[0;32melif\u001b[0m \u001b[0mself\u001b[0m\u001b[0;34m.\u001b[0m\u001b[0m_stateful_fn\u001b[0m \u001b[0;32mis\u001b[0m \u001b[0;32mnot\u001b[0m \u001b[0;32mNone\u001b[0m\u001b[0;34m:\u001b[0m\u001b[0;34m\u001b[0m\u001b[0;34m\u001b[0m\u001b[0m\n\u001b[1;32m    919\u001b[0m       \u001b[0;31m# Release the lock early so that multiple threads can perform the call\u001b[0m\u001b[0;34m\u001b[0m\u001b[0;34m\u001b[0m\u001b[0;34m\u001b[0m\u001b[0m\n",
            "\u001b[0;32m/usr/local/lib/python3.7/dist-packages/tensorflow/python/eager/function.py\u001b[0m in \u001b[0;36m__call__\u001b[0;34m(self, *args, **kwargs)\u001b[0m\n\u001b[1;32m   3022\u001b[0m        filtered_flat_args) = self._maybe_define_function(args, kwargs)\n\u001b[1;32m   3023\u001b[0m     return graph_function._call_flat(\n\u001b[0;32m-> 3024\u001b[0;31m         filtered_flat_args, captured_inputs=graph_function.captured_inputs)  # pylint: disable=protected-access\n\u001b[0m\u001b[1;32m   3025\u001b[0m \u001b[0;34m\u001b[0m\u001b[0m\n\u001b[1;32m   3026\u001b[0m   \u001b[0;34m@\u001b[0m\u001b[0mproperty\u001b[0m\u001b[0;34m\u001b[0m\u001b[0;34m\u001b[0m\u001b[0m\n",
            "\u001b[0;32m/usr/local/lib/python3.7/dist-packages/tensorflow/python/eager/function.py\u001b[0m in \u001b[0;36m_call_flat\u001b[0;34m(self, args, captured_inputs, cancellation_manager)\u001b[0m\n\u001b[1;32m   1959\u001b[0m       \u001b[0;31m# No tape is watching; skip to running the function.\u001b[0m\u001b[0;34m\u001b[0m\u001b[0;34m\u001b[0m\u001b[0;34m\u001b[0m\u001b[0m\n\u001b[1;32m   1960\u001b[0m       return self._build_call_outputs(self._inference_function.call(\n\u001b[0;32m-> 1961\u001b[0;31m           ctx, args, cancellation_manager=cancellation_manager))\n\u001b[0m\u001b[1;32m   1962\u001b[0m     forward_backward = self._select_forward_and_backward_functions(\n\u001b[1;32m   1963\u001b[0m         \u001b[0margs\u001b[0m\u001b[0;34m,\u001b[0m\u001b[0;34m\u001b[0m\u001b[0;34m\u001b[0m\u001b[0m\n",
            "\u001b[0;32m/usr/local/lib/python3.7/dist-packages/tensorflow/python/eager/function.py\u001b[0m in \u001b[0;36mcall\u001b[0;34m(self, ctx, args, cancellation_manager)\u001b[0m\n\u001b[1;32m    594\u001b[0m               \u001b[0minputs\u001b[0m\u001b[0;34m=\u001b[0m\u001b[0margs\u001b[0m\u001b[0;34m,\u001b[0m\u001b[0;34m\u001b[0m\u001b[0;34m\u001b[0m\u001b[0m\n\u001b[1;32m    595\u001b[0m               \u001b[0mattrs\u001b[0m\u001b[0;34m=\u001b[0m\u001b[0mattrs\u001b[0m\u001b[0;34m,\u001b[0m\u001b[0;34m\u001b[0m\u001b[0;34m\u001b[0m\u001b[0m\n\u001b[0;32m--> 596\u001b[0;31m               ctx=ctx)\n\u001b[0m\u001b[1;32m    597\u001b[0m         \u001b[0;32melse\u001b[0m\u001b[0;34m:\u001b[0m\u001b[0;34m\u001b[0m\u001b[0;34m\u001b[0m\u001b[0m\n\u001b[1;32m    598\u001b[0m           outputs = execute.execute_with_cancellation(\n",
            "\u001b[0;32m/usr/local/lib/python3.7/dist-packages/tensorflow/python/eager/execute.py\u001b[0m in \u001b[0;36mquick_execute\u001b[0;34m(op_name, num_outputs, inputs, attrs, ctx, name)\u001b[0m\n\u001b[1;32m     58\u001b[0m     \u001b[0mctx\u001b[0m\u001b[0;34m.\u001b[0m\u001b[0mensure_initialized\u001b[0m\u001b[0;34m(\u001b[0m\u001b[0;34m)\u001b[0m\u001b[0;34m\u001b[0m\u001b[0;34m\u001b[0m\u001b[0m\n\u001b[1;32m     59\u001b[0m     tensors = pywrap_tfe.TFE_Py_Execute(ctx._handle, device_name, op_name,\n\u001b[0;32m---> 60\u001b[0;31m                                         inputs, attrs, num_outputs)\n\u001b[0m\u001b[1;32m     61\u001b[0m   \u001b[0;32mexcept\u001b[0m \u001b[0mcore\u001b[0m\u001b[0;34m.\u001b[0m\u001b[0m_NotOkStatusException\u001b[0m \u001b[0;32mas\u001b[0m \u001b[0me\u001b[0m\u001b[0;34m:\u001b[0m\u001b[0;34m\u001b[0m\u001b[0;34m\u001b[0m\u001b[0m\n\u001b[1;32m     62\u001b[0m     \u001b[0;32mif\u001b[0m \u001b[0mname\u001b[0m \u001b[0;32mis\u001b[0m \u001b[0;32mnot\u001b[0m \u001b[0;32mNone\u001b[0m\u001b[0;34m:\u001b[0m\u001b[0;34m\u001b[0m\u001b[0;34m\u001b[0m\u001b[0m\n",
            "\u001b[0;31mKeyboardInterrupt\u001b[0m: "
          ]
        }
      ]
    },
    {
      "cell_type": "code",
      "metadata": {
        "id": "2pm-23ZlHHMa"
      },
      "source": [
        "# Демонстрация результата работы нейронной сети\n",
        "отзыв = 'Нереально шикарная машина. Нет слов просто. Мечта!'\n",
        "терра_ии.тест_модели_отзывы(нейронка_тесла_5, размер_окна, шаг,\n",
        "                              отзыв, классы = ['Негативный отзыв', 'Позитивный отзыв'])"
      ],
      "execution_count": null,
      "outputs": []
    },
    {
      "cell_type": "code",
      "metadata": {
        "id": "yYGeoYPMFPuL"
      },
      "source": [
        "# Демонстрация результата работы нейронной сети\n",
        "отзыв = 'Самая быстрая красивая мощная'\n",
        "терра_ии.тест_модели_отзывы(нейронка_тесла_5, размер_окна, шаг,\n",
        "                              отзыв, классы = ['Негативный отзыв', 'Позитивный отзыв'])"
      ],
      "execution_count": null,
      "outputs": []
    },
    {
      "cell_type": "code",
      "metadata": {
        "id": "LK_qAByodRsY"
      },
      "source": [
        "# Эксперимент № 6\n",
        "# Сильная модель. Еще больший размер эмбеддинг-пространства\n",
        "ветвь1 = 'Эмбеддинг-300-' + количество_анализируемых_слов + '-' + размер_окна + ' Выравнивающий Полносвязный-200'\n",
        "ветвь2 = 'Полносвязный-4096 Полносвязный-512 Полносвязный-128' \n",
        "ветвь3 = 'Полносвязный-100'\n",
        "\n",
        "нейронка_тесла_6 = терра_ии.создать_составную_сеть(\n",
        "    обучающая_выборка, метки_обучающей_выборки,\n",
        "    ветвь1, ветвь2, ветвь3)"
      ],
      "execution_count": 63,
      "outputs": []
    },
    {
      "cell_type": "code",
      "metadata": {
        "id": "C6t0xTcldRsl",
        "colab": {
          "base_uri": "https://localhost:8080/",
          "height": 442
        },
        "outputId": "70c089bd-4a96-4cd6-80a9-bc0e144ca8ba"
      },
      "source": [
        "# Обучаем модель\n",
        "эксперимент_6 = терра_ии.обучение_модели(\n",
        "    нейронка_тесла_6,\n",
        "    обучающая_выборка, метки_обучающей_выборки,\n",
        "    тестовая_выборка, метки_тестовой_выборки,\n",
        "    размер_пакета = 16,\n",
        "    количество_эпох = 20)"
      ],
      "execution_count": 64,
      "outputs": [
        {
          "output_type": "stream",
          "text": [
            "Эпоха №1    Время обучения: 14.93c  Точность на обучающей выборке: 95.35%    Точность на проверочной выборке: 87.5%\n",
            "Эпоха №2    Время обучения: 12.63c  Точность на обучающей выборке: 100.0%    Точность на проверочной выборке: 87.5%\n",
            "Эпоха №3    Время обучения: 12.63c  Точность на обучающей выборке: 100.0%    Точность на проверочной выборке: 87.5%\n",
            "Эпоха №4    Время обучения: 12.63c  Точность на обучающей выборке: 100.0%    Точность на проверочной выборке: 87.5%\n",
            "Эпоха №5    Время обучения: 12.99c  Точность на обучающей выборке: 100.0%    Точность на проверочной выборке: 87.5%\n",
            "Эпоха №6    Время обучения: 13.11c  Точность на обучающей выборке: 100.0%    Точность на проверочной выборке: 87.5%\n"
          ],
          "name": "stdout"
        },
        {
          "output_type": "error",
          "ename": "KeyboardInterrupt",
          "evalue": "ignored",
          "traceback": [
            "\u001b[0;31m---------------------------------------------------------------------------\u001b[0m",
            "\u001b[0;31mKeyboardInterrupt\u001b[0m                         Traceback (most recent call last)",
            "\u001b[0;32m<ipython-input-64-a3e5ee7b340b>\u001b[0m in \u001b[0;36m<module>\u001b[0;34m()\u001b[0m\n\u001b[1;32m      5\u001b[0m     \u001b[0mтестовая_выборка\u001b[0m\u001b[0;34m,\u001b[0m \u001b[0mметки_тестовой_выборки\u001b[0m\u001b[0;34m,\u001b[0m\u001b[0;34m\u001b[0m\u001b[0;34m\u001b[0m\u001b[0m\n\u001b[1;32m      6\u001b[0m     \u001b[0mразмер_пакета\u001b[0m \u001b[0;34m=\u001b[0m \u001b[0;36m16\u001b[0m\u001b[0;34m,\u001b[0m\u001b[0;34m\u001b[0m\u001b[0;34m\u001b[0m\u001b[0m\n\u001b[0;32m----> 7\u001b[0;31m     количество_эпох = 20)\n\u001b[0m",
            "\u001b[0;32m/usr/local/lib/python3.7/dist-packages/terra_ai/терра_ии.py\u001b[0m in \u001b[0;36mобучение_модели\u001b[0;34m(мод, x_train, y_train, x_test, y_test, размер_пакета, количество_эпох, коэф_разделения, **kwargs)\u001b[0m\n\u001b[1;32m    262\u001b[0m \u001b[0;32mdef\u001b[0m \u001b[0mобучение_модели\u001b[0m\u001b[0;34m(\u001b[0m\u001b[0mмод\u001b[0m\u001b[0;34m,\u001b[0m \u001b[0mx_train\u001b[0m\u001b[0;34m,\u001b[0m \u001b[0my_train\u001b[0m\u001b[0;34m,\u001b[0m \u001b[0mx_test\u001b[0m\u001b[0;34m=\u001b[0m\u001b[0;34m[\u001b[0m\u001b[0;34m]\u001b[0m\u001b[0;34m,\u001b[0m \u001b[0my_test\u001b[0m\u001b[0;34m=\u001b[0m\u001b[0;34m[\u001b[0m\u001b[0;34m]\u001b[0m\u001b[0;34m,\u001b[0m \u001b[0mразмер_пакета\u001b[0m\u001b[0;34m=\u001b[0m\u001b[0;32mNone\u001b[0m\u001b[0;34m,\u001b[0m \u001b[0mколичество_эпох\u001b[0m\u001b[0;34m=\u001b[0m\u001b[0;32mNone\u001b[0m\u001b[0;34m,\u001b[0m \u001b[0mкоэф_разделения\u001b[0m \u001b[0;34m=\u001b[0m \u001b[0;36m0.2\u001b[0m\u001b[0;34m,\u001b[0m \u001b[0;34m**\u001b[0m\u001b[0mkwargs\u001b[0m\u001b[0;34m)\u001b[0m\u001b[0;34m:\u001b[0m\u001b[0;34m\u001b[0m\u001b[0;34m\u001b[0m\u001b[0m\n\u001b[1;32m    263\u001b[0m   \u001b[0;32mglobal\u001b[0m \u001b[0mhistory\u001b[0m\u001b[0;34m\u001b[0m\u001b[0;34m\u001b[0m\u001b[0m\n\u001b[0;32m--> 264\u001b[0;31m   \u001b[0;32mreturn\u001b[0m \u001b[0mмодель\u001b[0m\u001b[0;34m.\u001b[0m\u001b[0mобучение_модели\u001b[0m\u001b[0;34m(\u001b[0m\u001b[0mмод\u001b[0m\u001b[0;34m,\u001b[0m \u001b[0mx_train\u001b[0m\u001b[0;34m,\u001b[0m \u001b[0my_train\u001b[0m\u001b[0;34m,\u001b[0m \u001b[0mx_test\u001b[0m\u001b[0;34m,\u001b[0m \u001b[0my_test\u001b[0m\u001b[0;34m,\u001b[0m \u001b[0mразмер_пакета\u001b[0m\u001b[0;34m,\u001b[0m \u001b[0mколичество_эпох\u001b[0m\u001b[0;34m,\u001b[0m \u001b[0mкоэф_разделения\u001b[0m\u001b[0;34m,\u001b[0m \u001b[0;34m**\u001b[0m\u001b[0mkwargs\u001b[0m\u001b[0;34m)\u001b[0m\u001b[0;34m\u001b[0m\u001b[0;34m\u001b[0m\u001b[0m\n\u001b[0m\u001b[1;32m    265\u001b[0m \u001b[0;34m\u001b[0m\u001b[0m\n\u001b[1;32m    266\u001b[0m \u001b[0;32mdef\u001b[0m \u001b[0mобучение_модели_временного_ряда\u001b[0m\u001b[0;34m(\u001b[0m\u001b[0mмод\u001b[0m\u001b[0;34m,\u001b[0m \u001b[0mген1\u001b[0m\u001b[0;34m,\u001b[0m \u001b[0mген2\u001b[0m\u001b[0;34m,\u001b[0m \u001b[0mколичество_эпох\u001b[0m\u001b[0;34m=\u001b[0m\u001b[0;32mNone\u001b[0m\u001b[0;34m)\u001b[0m\u001b[0;34m:\u001b[0m\u001b[0;34m\u001b[0m\u001b[0;34m\u001b[0m\u001b[0m\n",
            "\u001b[0;32m/usr/local/lib/python3.7/dist-packages/terra_ai/модель.py\u001b[0m in \u001b[0;36mобучение_модели\u001b[0;34m(модель, x_train, y_train, x_test, y_test, batch_size, epochs, коэф_разделения, **kwargs)\u001b[0m\n\u001b[1;32m    848\u001b[0m       \u001b[0mhistory\u001b[0m \u001b[0;34m=\u001b[0m \u001b[0mмодель\u001b[0m\u001b[0;34m.\u001b[0m\u001b[0mfit\u001b[0m\u001b[0;34m(\u001b[0m\u001b[0mx_train\u001b[0m\u001b[0;34m,\u001b[0m \u001b[0my_train\u001b[0m\u001b[0;34m,\u001b[0m \u001b[0mbatch_size\u001b[0m\u001b[0;34m=\u001b[0m\u001b[0mbatch_size\u001b[0m\u001b[0;34m,\u001b[0m \u001b[0mepochs\u001b[0m\u001b[0;34m=\u001b[0m\u001b[0mepochs\u001b[0m\u001b[0;34m,\u001b[0m \u001b[0mcallbacks\u001b[0m\u001b[0;34m=\u001b[0m\u001b[0;34m[\u001b[0m\u001b[0mmodel_checkpoint_callback\u001b[0m\u001b[0;34m,\u001b[0m \u001b[0mmyCB\u001b[0m\u001b[0;34m]\u001b[0m\u001b[0;34m,\u001b[0m \u001b[0mverbose\u001b[0m \u001b[0;34m=\u001b[0m \u001b[0;36m0\u001b[0m\u001b[0;34m)\u001b[0m\u001b[0;34m\u001b[0m\u001b[0;34m\u001b[0m\u001b[0m\n\u001b[1;32m    849\u001b[0m     \u001b[0;32melse\u001b[0m\u001b[0;34m:\u001b[0m\u001b[0;34m\u001b[0m\u001b[0;34m\u001b[0m\u001b[0m\n\u001b[0;32m--> 850\u001b[0;31m       \u001b[0mhistory\u001b[0m \u001b[0;34m=\u001b[0m \u001b[0mмодель\u001b[0m\u001b[0;34m.\u001b[0m\u001b[0mfit\u001b[0m\u001b[0;34m(\u001b[0m\u001b[0mx_train\u001b[0m\u001b[0;34m,\u001b[0m \u001b[0my_train\u001b[0m\u001b[0;34m,\u001b[0m \u001b[0mbatch_size\u001b[0m\u001b[0;34m=\u001b[0m\u001b[0mbatch_size\u001b[0m\u001b[0;34m,\u001b[0m \u001b[0mepochs\u001b[0m\u001b[0;34m=\u001b[0m\u001b[0mepochs\u001b[0m\u001b[0;34m,\u001b[0m \u001b[0mvalidation_data\u001b[0m \u001b[0;34m=\u001b[0m \u001b[0;34m(\u001b[0m\u001b[0mx_test\u001b[0m\u001b[0;34m,\u001b[0m \u001b[0my_test\u001b[0m\u001b[0;34m)\u001b[0m\u001b[0;34m,\u001b[0m \u001b[0mcallbacks\u001b[0m\u001b[0;34m=\u001b[0m\u001b[0;34m[\u001b[0m\u001b[0mmodel_checkpoint_callback\u001b[0m\u001b[0;34m,\u001b[0m \u001b[0mmyCB\u001b[0m\u001b[0;34m]\u001b[0m\u001b[0;34m,\u001b[0m \u001b[0mverbose\u001b[0m \u001b[0;34m=\u001b[0m \u001b[0;36m0\u001b[0m\u001b[0;34m)\u001b[0m\u001b[0;34m\u001b[0m\u001b[0;34m\u001b[0m\u001b[0m\n\u001b[0m\u001b[1;32m    851\u001b[0m \u001b[0;34m\u001b[0m\u001b[0m\n\u001b[1;32m    852\u001b[0m     \u001b[0mмодель\u001b[0m\u001b[0;34m.\u001b[0m\u001b[0mload_weights\u001b[0m\u001b[0;34m(\u001b[0m\u001b[0;34m'model.h5'\u001b[0m\u001b[0;34m)\u001b[0m\u001b[0;34m\u001b[0m\u001b[0;34m\u001b[0m\u001b[0m\n",
            "\u001b[0;32m/usr/local/lib/python3.7/dist-packages/tensorflow/python/keras/engine/training.py\u001b[0m in \u001b[0;36mfit\u001b[0;34m(self, x, y, batch_size, epochs, verbose, callbacks, validation_split, validation_data, shuffle, class_weight, sample_weight, initial_epoch, steps_per_epoch, validation_steps, validation_batch_size, validation_freq, max_queue_size, workers, use_multiprocessing)\u001b[0m\n\u001b[1;32m   1181\u001b[0m                 _r=1):\n\u001b[1;32m   1182\u001b[0m               \u001b[0mcallbacks\u001b[0m\u001b[0;34m.\u001b[0m\u001b[0mon_train_batch_begin\u001b[0m\u001b[0;34m(\u001b[0m\u001b[0mstep\u001b[0m\u001b[0;34m)\u001b[0m\u001b[0;34m\u001b[0m\u001b[0;34m\u001b[0m\u001b[0m\n\u001b[0;32m-> 1183\u001b[0;31m               \u001b[0mtmp_logs\u001b[0m \u001b[0;34m=\u001b[0m \u001b[0mself\u001b[0m\u001b[0;34m.\u001b[0m\u001b[0mtrain_function\u001b[0m\u001b[0;34m(\u001b[0m\u001b[0miterator\u001b[0m\u001b[0;34m)\u001b[0m\u001b[0;34m\u001b[0m\u001b[0;34m\u001b[0m\u001b[0m\n\u001b[0m\u001b[1;32m   1184\u001b[0m               \u001b[0;32mif\u001b[0m \u001b[0mdata_handler\u001b[0m\u001b[0;34m.\u001b[0m\u001b[0mshould_sync\u001b[0m\u001b[0;34m:\u001b[0m\u001b[0;34m\u001b[0m\u001b[0;34m\u001b[0m\u001b[0m\n\u001b[1;32m   1185\u001b[0m                 \u001b[0mcontext\u001b[0m\u001b[0;34m.\u001b[0m\u001b[0masync_wait\u001b[0m\u001b[0;34m(\u001b[0m\u001b[0;34m)\u001b[0m\u001b[0;34m\u001b[0m\u001b[0;34m\u001b[0m\u001b[0m\n",
            "\u001b[0;32m/usr/local/lib/python3.7/dist-packages/tensorflow/python/eager/def_function.py\u001b[0m in \u001b[0;36m__call__\u001b[0;34m(self, *args, **kwds)\u001b[0m\n\u001b[1;32m    887\u001b[0m \u001b[0;34m\u001b[0m\u001b[0m\n\u001b[1;32m    888\u001b[0m       \u001b[0;32mwith\u001b[0m \u001b[0mOptionalXlaContext\u001b[0m\u001b[0;34m(\u001b[0m\u001b[0mself\u001b[0m\u001b[0;34m.\u001b[0m\u001b[0m_jit_compile\u001b[0m\u001b[0;34m)\u001b[0m\u001b[0;34m:\u001b[0m\u001b[0;34m\u001b[0m\u001b[0;34m\u001b[0m\u001b[0m\n\u001b[0;32m--> 889\u001b[0;31m         \u001b[0mresult\u001b[0m \u001b[0;34m=\u001b[0m \u001b[0mself\u001b[0m\u001b[0;34m.\u001b[0m\u001b[0m_call\u001b[0m\u001b[0;34m(\u001b[0m\u001b[0;34m*\u001b[0m\u001b[0margs\u001b[0m\u001b[0;34m,\u001b[0m \u001b[0;34m**\u001b[0m\u001b[0mkwds\u001b[0m\u001b[0;34m)\u001b[0m\u001b[0;34m\u001b[0m\u001b[0;34m\u001b[0m\u001b[0m\n\u001b[0m\u001b[1;32m    890\u001b[0m \u001b[0;34m\u001b[0m\u001b[0m\n\u001b[1;32m    891\u001b[0m       \u001b[0mnew_tracing_count\u001b[0m \u001b[0;34m=\u001b[0m \u001b[0mself\u001b[0m\u001b[0;34m.\u001b[0m\u001b[0mexperimental_get_tracing_count\u001b[0m\u001b[0;34m(\u001b[0m\u001b[0;34m)\u001b[0m\u001b[0;34m\u001b[0m\u001b[0;34m\u001b[0m\u001b[0m\n",
            "\u001b[0;32m/usr/local/lib/python3.7/dist-packages/tensorflow/python/eager/def_function.py\u001b[0m in \u001b[0;36m_call\u001b[0;34m(self, *args, **kwds)\u001b[0m\n\u001b[1;32m    915\u001b[0m       \u001b[0;31m# In this case we have created variables on the first call, so we run the\u001b[0m\u001b[0;34m\u001b[0m\u001b[0;34m\u001b[0m\u001b[0;34m\u001b[0m\u001b[0m\n\u001b[1;32m    916\u001b[0m       \u001b[0;31m# defunned version which is guaranteed to never create variables.\u001b[0m\u001b[0;34m\u001b[0m\u001b[0;34m\u001b[0m\u001b[0;34m\u001b[0m\u001b[0m\n\u001b[0;32m--> 917\u001b[0;31m       \u001b[0;32mreturn\u001b[0m \u001b[0mself\u001b[0m\u001b[0;34m.\u001b[0m\u001b[0m_stateless_fn\u001b[0m\u001b[0;34m(\u001b[0m\u001b[0;34m*\u001b[0m\u001b[0margs\u001b[0m\u001b[0;34m,\u001b[0m \u001b[0;34m**\u001b[0m\u001b[0mkwds\u001b[0m\u001b[0;34m)\u001b[0m  \u001b[0;31m# pylint: disable=not-callable\u001b[0m\u001b[0;34m\u001b[0m\u001b[0;34m\u001b[0m\u001b[0m\n\u001b[0m\u001b[1;32m    918\u001b[0m     \u001b[0;32melif\u001b[0m \u001b[0mself\u001b[0m\u001b[0;34m.\u001b[0m\u001b[0m_stateful_fn\u001b[0m \u001b[0;32mis\u001b[0m \u001b[0;32mnot\u001b[0m \u001b[0;32mNone\u001b[0m\u001b[0;34m:\u001b[0m\u001b[0;34m\u001b[0m\u001b[0;34m\u001b[0m\u001b[0m\n\u001b[1;32m    919\u001b[0m       \u001b[0;31m# Release the lock early so that multiple threads can perform the call\u001b[0m\u001b[0;34m\u001b[0m\u001b[0;34m\u001b[0m\u001b[0;34m\u001b[0m\u001b[0m\n",
            "\u001b[0;32m/usr/local/lib/python3.7/dist-packages/tensorflow/python/eager/function.py\u001b[0m in \u001b[0;36m__call__\u001b[0;34m(self, *args, **kwargs)\u001b[0m\n\u001b[1;32m   3022\u001b[0m        filtered_flat_args) = self._maybe_define_function(args, kwargs)\n\u001b[1;32m   3023\u001b[0m     return graph_function._call_flat(\n\u001b[0;32m-> 3024\u001b[0;31m         filtered_flat_args, captured_inputs=graph_function.captured_inputs)  # pylint: disable=protected-access\n\u001b[0m\u001b[1;32m   3025\u001b[0m \u001b[0;34m\u001b[0m\u001b[0m\n\u001b[1;32m   3026\u001b[0m   \u001b[0;34m@\u001b[0m\u001b[0mproperty\u001b[0m\u001b[0;34m\u001b[0m\u001b[0;34m\u001b[0m\u001b[0m\n",
            "\u001b[0;32m/usr/local/lib/python3.7/dist-packages/tensorflow/python/eager/function.py\u001b[0m in \u001b[0;36m_call_flat\u001b[0;34m(self, args, captured_inputs, cancellation_manager)\u001b[0m\n\u001b[1;32m   1959\u001b[0m       \u001b[0;31m# No tape is watching; skip to running the function.\u001b[0m\u001b[0;34m\u001b[0m\u001b[0;34m\u001b[0m\u001b[0;34m\u001b[0m\u001b[0m\n\u001b[1;32m   1960\u001b[0m       return self._build_call_outputs(self._inference_function.call(\n\u001b[0;32m-> 1961\u001b[0;31m           ctx, args, cancellation_manager=cancellation_manager))\n\u001b[0m\u001b[1;32m   1962\u001b[0m     forward_backward = self._select_forward_and_backward_functions(\n\u001b[1;32m   1963\u001b[0m         \u001b[0margs\u001b[0m\u001b[0;34m,\u001b[0m\u001b[0;34m\u001b[0m\u001b[0;34m\u001b[0m\u001b[0m\n",
            "\u001b[0;32m/usr/local/lib/python3.7/dist-packages/tensorflow/python/eager/function.py\u001b[0m in \u001b[0;36mcall\u001b[0;34m(self, ctx, args, cancellation_manager)\u001b[0m\n\u001b[1;32m    594\u001b[0m               \u001b[0minputs\u001b[0m\u001b[0;34m=\u001b[0m\u001b[0margs\u001b[0m\u001b[0;34m,\u001b[0m\u001b[0;34m\u001b[0m\u001b[0;34m\u001b[0m\u001b[0m\n\u001b[1;32m    595\u001b[0m               \u001b[0mattrs\u001b[0m\u001b[0;34m=\u001b[0m\u001b[0mattrs\u001b[0m\u001b[0;34m,\u001b[0m\u001b[0;34m\u001b[0m\u001b[0;34m\u001b[0m\u001b[0m\n\u001b[0;32m--> 596\u001b[0;31m               ctx=ctx)\n\u001b[0m\u001b[1;32m    597\u001b[0m         \u001b[0;32melse\u001b[0m\u001b[0;34m:\u001b[0m\u001b[0;34m\u001b[0m\u001b[0;34m\u001b[0m\u001b[0m\n\u001b[1;32m    598\u001b[0m           outputs = execute.execute_with_cancellation(\n",
            "\u001b[0;32m/usr/local/lib/python3.7/dist-packages/tensorflow/python/eager/execute.py\u001b[0m in \u001b[0;36mquick_execute\u001b[0;34m(op_name, num_outputs, inputs, attrs, ctx, name)\u001b[0m\n\u001b[1;32m     58\u001b[0m     \u001b[0mctx\u001b[0m\u001b[0;34m.\u001b[0m\u001b[0mensure_initialized\u001b[0m\u001b[0;34m(\u001b[0m\u001b[0;34m)\u001b[0m\u001b[0;34m\u001b[0m\u001b[0;34m\u001b[0m\u001b[0m\n\u001b[1;32m     59\u001b[0m     tensors = pywrap_tfe.TFE_Py_Execute(ctx._handle, device_name, op_name,\n\u001b[0;32m---> 60\u001b[0;31m                                         inputs, attrs, num_outputs)\n\u001b[0m\u001b[1;32m     61\u001b[0m   \u001b[0;32mexcept\u001b[0m \u001b[0mcore\u001b[0m\u001b[0;34m.\u001b[0m\u001b[0m_NotOkStatusException\u001b[0m \u001b[0;32mas\u001b[0m \u001b[0me\u001b[0m\u001b[0;34m:\u001b[0m\u001b[0;34m\u001b[0m\u001b[0;34m\u001b[0m\u001b[0m\n\u001b[1;32m     62\u001b[0m     \u001b[0;32mif\u001b[0m \u001b[0mname\u001b[0m \u001b[0;32mis\u001b[0m \u001b[0;32mnot\u001b[0m \u001b[0;32mNone\u001b[0m\u001b[0;34m:\u001b[0m\u001b[0;34m\u001b[0m\u001b[0;34m\u001b[0m\u001b[0m\n",
            "\u001b[0;31mKeyboardInterrupt\u001b[0m: "
          ]
        }
      ]
    },
    {
      "cell_type": "code",
      "metadata": {
        "id": "vCDqkfcqHVyY"
      },
      "source": [
        "# Демонстрация результата работы нейронной сети\n",
        "отзыв = 'Главная проблема у Тесла это дизайн'\n",
        "терра_ии.тест_модели_отзывы(нейронка_тесла_6, размер_окна, шаг,\n",
        "                              отзыв, классы = ['Негативный отзыв', 'Позитивный отзыв'])"
      ],
      "execution_count": null,
      "outputs": []
    },
    {
      "cell_type": "code",
      "metadata": {
        "id": "R06qwEW_FXDs"
      },
      "source": [
        "# Демонстрация результата работы нейронной сети\n",
        "отзыв = 'Самая быстрая красивая мощная'\n",
        "терра_ии.тест_модели_отзывы(нейронка_тесла_6, размер_окна, шаг,\n",
        "                              отзыв, классы = ['Негативный отзыв', 'Позитивный отзыв'])"
      ],
      "execution_count": null,
      "outputs": []
    },
    {
      "cell_type": "markdown",
      "metadata": {
        "id": "EGoFeaFhQ8WP"
      },
      "source": [
        "## Определение стоимости квартиры в Москве"
      ]
    },
    {
      "cell_type": "code",
      "metadata": {
        "id": "D35SEM9MSSeg"
      },
      "source": [
        "# Загружаем базу квартир\n",
        "терра_ии.загрузить_базу(база = 'КВАРТИРЫ', \n",
        "                   справка = 'Показать')"
      ],
      "execution_count": null,
      "outputs": []
    },
    {
      "cell_type": "code",
      "metadata": {
        "id": "cBD89kiPV2Eu"
      },
      "source": [
        "# Показываем примеры\n",
        "терра_ии.показать_пример_квартиры(количество=3)"
      ],
      "execution_count": null,
      "outputs": []
    },
    {
      "cell_type": "code",
      "metadata": {
        "id": "F-rMg8XGV6_z"
      },
      "source": [
        "# Создаем выборки\n",
        "(обучающая_выборка, метки_обучающей_выборки), (тестовая_выборка, метки_тестовой_выборки), инструменты = терра_ии.создать_выборки_квартир()"
      ],
      "execution_count": null,
      "outputs": []
    },
    {
      "cell_type": "code",
      "metadata": {
        "id": "bo3PH6J-X3M4"
      },
      "source": [
        "ветвь1 = 'Полносвязный-100 Полносвязный-50-linear'\n",
        "ветвь2 = 'Полносвязный-500-linear'\n",
        "финальная_часть = 'Полносвязный-1000 Полносвязный-500 Полносвязный-100 Полносвязный-1-linear'\n",
        "нейронка_квартиры_1 = терра_ии.создать_составную_сеть_квартиры(обучающая_выборка, ветвь1, ветвь2, финальная_часть)"
      ],
      "execution_count": null,
      "outputs": []
    },
    {
      "cell_type": "code",
      "metadata": {
        "id": "_xGgT31EbLLV"
      },
      "source": [
        "# Выводим схему модели\n",
        "терра_ии.схема_модели(нейронка_квартиры_1)"
      ],
      "execution_count": null,
      "outputs": []
    },
    {
      "cell_type": "code",
      "metadata": {
        "id": "oNsOBp4cby-j"
      },
      "source": [
        "# Обучаем модель\n",
        "эксперимент_1 = терра_ии.обучение_модели_квартиры(\n",
        "    нейронка_квартиры_1,\n",
        "    обучающая_выборка, метки_обучающей_выборки,\n",
        "    тестовая_выборка, метки_тестовой_выборки,\n",
        "    размер_пакета = 256,\n",
        "    количество_эпох = 40,\n",
        "    инструменты = инструменты)"
      ],
      "execution_count": null,
      "outputs": []
    },
    {
      "cell_type": "code",
      "metadata": {
        "id": "vWuyOzYEmetq",
        "cellView": "form"
      },
      "source": [
        "#@title Тестирование модели: выберите параметры\n",
        "метро = \"\\u0421\\u043F\\u0430\\u0440\\u0442\\u0430\\u043A \\u043C.\" #@param ['Авиамоторная м.', 'Автозаводская м.', 'Автозаводская м. (МЦК)', 'Академическая м.', 'Алабушево станция', 'Александровский Сад м.', 'Алексеевская м.', 'Алма-Атинская м.', 'Алтуфьево м.', 'Андроновка м. (МЦК)', 'Аннино м.', 'Апрелевка станция', 'Арбатская м.', 'Аэропорт (старая) станция', 'Аэропорт Внуково станция', 'Аэропорт м.', 'Бабушкинская м.', 'Багратионовская м.', 'Балтийская м. (МЦК)', 'Баррикадная м.', 'Бауманская м.', 'Беговая м.', 'Бекасово-1 станция', 'Белокаменная м. (МЦК)', 'Беломорская м.', 'Белорусская м.', 'Беляево м.', 'Бибирево м.', 'Библиотека им.Ленина м.', 'Битцевский парк м.', 'Борисово м.', 'Боровицкая м.', 'Боровское шоссе м.', 'Ботанический сад м.', 'Ботанический сад м. (МЦК)', 'Братиславская м.', 'Бульвар Адмирала Ушакова м.', 'Бульвар Дмитрия Донского м.', 'Бульвар Рокоссовского м.', 'Бульвар Рокоссовского м. (МЦК)', 'Бунинская аллея м.', 'Бутырская м.', 'ВДНХ м.', 'Варшавская м.', 'Верхние Котлы м. (МЦК)', 'Верхние Лихоборы м.', 'Весенняя станция', 'Владыкино м.', 'Внуково станция', 'Водный стадион м.', 'Войковская м.', 'Волгоградский проспект м.', 'Волжская м.', 'Волоколамская м.', 'Воробьевы Горы м.', 'Выставочная м.', 'Выхино м.', 'Говорово м.', 'Гривно станция', 'Дачная станция', 'Деловой центр м.', 'Динамо м.', 'Дмитровская м.', 'Добрынинская м.', 'Домодедовская м.', 'Достоевская м.', 'Дубровка м.', 'Дубровка м. (МЦК)', 'Жулебино м.', 'ЗИЛ м. (МЦК)', 'Зорге м. (МЦК)', 'Зябликово м.', 'Измайлово м. (МЦК)', 'Измайловская м.', 'Калужская м.', 'Кантемировская м.', 'Каховская м.', 'Каширская м.', 'Киевская м.', 'Китай-Город м.', 'Кожуховская м.', 'Кокошкино станция', 'Коломенская м.', 'Колхозная станция', 'Коммунарка м.', 'Комсомольская м.', 'Коньково м.', 'Коптево м. (МЦК)', 'Косино м.', 'Котельники м.', 'Красногвардейская м.', 'Краснопресненская м.', 'Красносельская м.', 'Красные ворота м.', 'Крекшино станция', 'Крестьянская Застава м.', 'Кропоткинская м.', 'Крылатское м.', 'Крымская м. (МЦК)', 'Кузнецкий мост м.', 'Кузьминки м.', 'Кунцевская м.', 'Курская м.', 'Кутузовская м.', 'Кутузовская м. (МЦК)', 'Ленинский проспект м.', 'Лермонтовский проспект м.', 'Лесопарковая м.', 'Лихоборы м. (МЦК)', 'Локомотив м. (МЦК)', 'Ломоносовский проспект м.', 'Лубянка м.', 'Лужники м. (МЦК)', 'Лухмановская м.', 'Львовская станция', 'Люблино м.', 'Марксистская м.', 'Марьина Роща м.', 'Марьино м.', 'Маяковская м.', 'Медведково м.', 'Международная м.', 'Менделеевская м.', 'Минская м.', 'Митино м.', 'Мичуринец станция', 'Мичуринский проспект м.', 'Молодежная м.', 'Мякинино м.', 'Нагатинская м.', 'Нагорная м.', 'Нахимовский проспект м.', 'Некрасовка м.', 'Нижегородская м. (МЦК)', 'Нижегородская улица м.', 'Новогиреево м.', 'Новокосино м.', 'Новокузнецкая м.', 'Новопеределкино м.', 'Новослободская м.', 'Новохохловская м. (МЦК)', 'Новоясеневская м.', 'Новые Черемушки м.', 'Озерная м.', 'Окружная м.', 'Окружная м. (МЦК)', 'Окская улица м.', 'Октябрьская м.', 'Октябрьское поле м.', 'Ольховая м.', 'Орехово м.', 'Отрадное м.', 'Охотный ряд м.', 'Павелецкая м.', 'Панфиловская м. (МЦК)', 'Парк Победы м.', 'Парк культуры м.', 'Партизанская м.', 'Первомайская м.', 'Перово м.', 'Петровский парк м.', 'Петровско-Разумовская м.', 'Печатники м.', 'Пионерская м.', 'Планерная м.', 'Площадь Гагарина м. (МЦК)', 'Площадь Ильича м.', 'Площадь Революции м.', 'Победа станция', 'Подольск станция', 'Полежаевская м.', 'Полянка м.', 'Пражская м.', 'Преображенская площадь м.', 'Прокшино м.', 'Пролетарская м.', 'Проспект Вернадского м.', 'Проспект Мира м.', 'Профсоюзная м.', 'Пушкинская м.', 'Пятницкое шоссе м.', 'Раменки м.', 'Рассказовка м.', 'Рассудово станция', 'Речной вокзал м.', 'Рижская м.', 'Римская м.', 'Ростокино м. (МЦК)', 'Румянцево м.', 'Рязанский проспект м.', 'Савеловская м.', 'Савеловская метро', 'Саларьево м.', 'Свиблово м.', 'Севастопольская м.', 'Селигерская м.', 'Семеновская м.', 'Серпуховская м.', 'Силикатная станция', 'Славянский бульвар м.', 'Смоленская м.', 'Сокол м.', 'Соколиная Гора м. (МЦК)', 'Сокольники м.', 'Солнцево м.', 'Спартак м.', 'Спортивная м.', 'Сретенский бульвар м.', 'Стахановская м.', 'Столбово м.', 'Стрешнево м. (МЦК)', 'Строгино м.', 'Студенческая м.', 'Сухаревская м.', 'Сходненская м.', 'Таганская м.', 'Тверская м.', 'Театральная м.', 'Текстильщики м.', 'Теплый стан м.', 'Технопарк м.', 'Тимирязевская м.', 'Толстопальцево станция', 'Третьяковская м.', 'Тропарево м.', 'Трубная м.', 'Тульская м.', 'Тургеневская м.', 'Тушинская м.', 'Угрешская м. (МЦК)', 'Улица 1905 года м.', 'Улица Академика Янгеля м.', 'Улица Горчакова м.', 'Улица Дмитриевского м.', 'Улица Скобелевская м.', 'Улица Старокачаловская м.', 'Университет м.', 'Филатов луг м.', 'Филевский парк м.', 'Фили м.', 'Фонвизинская м.', 'Фрунзенская м.', 'Ховрино м.', 'Хорошево м. (МЦК)', 'Хорошевское м.', 'ЦСКА м.', 'Царицыно м.', 'Цветной бульвар м.', 'Черкизовская м.', 'Чертановская м.', 'Чеховская м.', 'Чистые пруды м.', 'Чкаловская м.', 'Шаболовская м.', 'Шелепиха м.', 'Шелепиха м. (МЦК)', 'Шипиловская м.', 'Шоссе Энтузиастов м.', 'Шоссе Энтузиастов м. (МЦК)', 'Щелковская м.', 'Щербинка станция', 'Щукинская м.', 'Электрозаводская м.', 'Юго-Восточная м.', 'Юго-Западная м.', 'Южная м.', 'Ясенево м.']\n",
        "до_станции =  4#@param {type:\"integer\"}\n",
        "способ_передвижения = \"\\u043F\\u0435\\u0448\\u043A\\u043E\\u043C\" #@param ['пешком', 'транспорт']\n",
        "этаж =  1#@param {type:\"integer\"}\n",
        "всего_этажей =  14#@param {type:\"integer\"}\n",
        "тип_балкона = 'Л' #@param ['Л', 'Б', '2Б', '-', '2Б2Л', 'БЛ', '3Б', '2Л', 'Эрк', 'Б2Л', 'ЭркЛ', '3Л', '4Л', '*Л', '*Б']\n",
        "тип_санузла = '2' #@param ['2', 'Р', 'С', '-', '2С', '+', '4Р', '2Р', '3С', '4С', '4', '3', '3Р']\n",
        "площадь = 87 #@param {type:\"number\"}\n",
        "описание = '\\u043F\\u0440\\u0435\\u043A\\u0440\\u0430\\u0441\\u043D\\u0430\\u044F \\u043A\\u0432\\u0430\\u0440\\u0442\\u0438\\u0440\\u0430 \\u0440\\u044F\\u0434\\u043E\\u043C \\u0441 \\u043F\\u0430\\u0440\\u043A\\u043E\\u043C' #@param {type:\"string\"}"
      ],
      "execution_count": null,
      "outputs": []
    },
    {
      "cell_type": "code",
      "metadata": {
        "id": "iU7auNuExIQ4"
      },
      "source": [
        "# Тестируем модель\n",
        "терра_ии.тест_модели_квартиры(\n",
        "    нейронка_квартиры_1, инструменты, \n",
        "    метро, до_станции, способ_передвижения, этаж, всего_этажей, тип_балкона, тип_санузла, площадь, описание)"
      ],
      "execution_count": null,
      "outputs": []
    },
    {
      "cell_type": "markdown",
      "metadata": {
        "id": "qQ8Qz-WCEQNw"
      },
      "source": [
        "## Подбор кандидата на должность менеджера по продажам "
      ]
    },
    {
      "cell_type": "code",
      "metadata": {
        "id": "Eh8DjygJPaqt",
        "colab": {
          "base_uri": "https://localhost:8080/"
        },
        "outputId": "71eef50b-3750-416d-e6c2-f8d89d2da1c3"
      },
      "source": [
        "# Скачиваем базу вакансий\n",
        "терра_ии.загрузить_базу(база = 'ВАКАНСИИ',\n",
        "                    справка = 'Показать')"
      ],
      "execution_count": 40,
      "outputs": [
        {
          "output_type": "stream",
          "text": [
            "Загрузка данных завершена \n",
            "\n",
            "url: https://storage.googleapis.com/terra_ai/DataSets/HR.zip\n",
            "Вы скачали базу вакансий.\n"
          ],
          "name": "stdout"
        }
      ]
    },
    {
      "cell_type": "code",
      "metadata": {
        "id": "ImQyZEJZPe0C",
        "colab": {
          "base_uri": "https://localhost:8080/"
        },
        "outputId": "c6f69c3a-f4af-480c-da2c-f3394f0bfd6d"
      },
      "source": [
        "# Примеры из базы\n",
        "терра_ии.показать_примеры(\n",
        "    база = 'Вакансии')"
      ],
      "execution_count": 41,
      "outputs": [
        {
          "output_type": "stream",
          "text": [
            "Пример резюме:\n",
            "\n",
            "Пол:                         Ж\n",
            "Возраст:                     28\n",
            "Город:                       Москва\n",
            "Готовность к переезду:       готов к переезду\n",
            "Готовность к командировкам:  готов к командировкам\n",
            "Гражданство:                 Россия\n",
            "Разрешение на работу:        Россия\n",
            "Знания языков:               Русский Английский\n",
            "Образование:                 Высшее образование\n",
            "Дополнительное образование:  Национальный исследовательский технологический университет НИТУ МИСиС\n",
            "Зарплата:                    120000.0\n",
            "Время в пути до работы:      не более полутора часов\n",
            "Занятость:                   полная занятость\n",
            "График:                      полный день\n",
            "Опыт работы (мес):           87\n",
            "Обязанности на пред.работе:  Активный поиск и привлечение потенциальных клиентов; Участие в отраслевых тендерахВыявление потребно\n",
            "                             стей клиентов в продукции, реализуемой компанией, согласовывание заказов с клиентами в соответствии \n",
            "                             с его потребностями;Проведение презентаций поставляемого оборудования и коммерческих переговоров с з\n",
            "                             аказчиками и ключевыми лицами;Осуществление приема и обработки заказов клиентов, помощь в разработке\n",
            "                              ТЗ, подготовка и оформление технико-коммерческих-предложений;Мотивация клиентов на работу с компани\n",
            "                             ей в соответствии с утвержденными программами по стимулированию сбыта;Составление ежемесячного отчет\n",
            "---------------------------------------------------------------\n",
            "Подходит ли кандидат:        да\n",
            "---------------------------------------------------------------\n",
            "\n",
            "Пример резюме:\n",
            "\n",
            "Пол:                         Ж\n",
            "Возраст:                     29\n",
            "Город:                       Москва\n",
            "Готовность к переезду:       не готов к переезду\n",
            "Готовность к командировкам:  готов к командировкам\n",
            "Гражданство:                 Россия\n",
            "Разрешение на работу:        Россия\n",
            "Знания языков:               Русский Английский Немецкий\n",
            "Образование:                 Высшее образование\n",
            "Дополнительное образование:  Данные не указаны\n",
            "Зарплата:                    100000.0\n",
            "Время в пути до работы:      не имеет значения\n",
            "Занятость:                   частичная занятость, проектная работа, полная занятость\n",
            "График:                      полный день, сменный график, удаленная работа\n",
            "Опыт работы (мес):           59\n",
            "Обязанности на пред.работе:  Продажа услуг на входящей линии, Работа с клиентами, сопровождение сделок, Привлечение новых работод\n",
            "                             ателей: работа с базами, ведение переписки и телефонных переговоров.Работа с действующими партнерами\n",
            "                              - работодателями и кадровыми агентствами по вопросу трудоустройства участников программ, стажеров.В\n",
            "                             едение документооборота.Переговоры и заключение договоров.Поддержка партнеров в период нахождения ст\n",
            "                             ажеров за рубежом., Прием и сопровождение заказов в интернет-магазине. Обеспечение жизнедеятельности\n",
            "                              офиса., Выполняла обязанности секретаря-референта, во время приезда иностранных специалистов работа\n",
            "---------------------------------------------------------------\n",
            "Подходит ли кандидат:        да\n",
            "---------------------------------------------------------------\n",
            "\n",
            "Пример резюме:\n",
            "\n",
            "Пол:                         Ж\n",
            "Возраст:                     37\n",
            "Город:                       Воронеж\n",
            "Готовность к переезду:       не готов к переезду\n",
            "Готовность к командировкам:  не готов к командировкам\n",
            "Гражданство:                 Россия\n",
            "Разрешение на работу:        Россия\n",
            "Знания языков:               Русский Французский\n",
            "Образование:                 Среднее образование\n",
            "Дополнительное образование:  Данные не указаны\n",
            "Зарплата:                    70000.0\n",
            "Время в пути до работы:      не более часа\n",
            "Занятость:                   полная занятость\n",
            "График:                      полный день, удаленная работа\n",
            "Опыт работы (мес):           71\n",
            "Обязанности на пред.работе:  Работа с людьми, выписка первичной документации, работа с входящим потоком звонков, заявок ,электрон\n",
            "                             ной почтой, консультация по наличию товара на складе, создание приходно-расходных накладных работа с\n",
            "                              большим потоком информации, заключение договоров, работа в 1с v8 УТ, внесение партнеров в базу данн\n",
            "                             ых, выставление счетов на оплату, рассылка торговых накладных., Выписка первичной документации (това\n",
            "                             рные накладные), контроль отгрузок и доставки,составление отчетов, ведение кассовой дисциплины, инка\n",
            "                             ссация, ведение данных товаров в 1С v 8.0.находящихся на складе и в реализации, ведение электронных \n",
            "---------------------------------------------------------------\n",
            "Подходит ли кандидат:        да\n",
            "---------------------------------------------------------------\n",
            "\n"
          ],
          "name": "stdout"
        }
      ]
    },
    {
      "cell_type": "code",
      "metadata": {
        "id": "l64HSx7XPr5j"
      },
      "source": [
        "# Создаем обучающую и проверочную выборки\n",
        "(обучающая_выборка, метки_обучающей_выборки), (тестовая_выборка, метки_тестовой_выборки) = терра_ии.создать_выборки_вакансии()"
      ],
      "execution_count": 42,
      "outputs": []
    },
    {
      "cell_type": "code",
      "metadata": {
        "id": "4iguXYenLyWk",
        "colab": {
          "base_uri": "https://localhost:8080/"
        },
        "outputId": "86d4f1d7-5c0c-4e32-eef6-0f8cc2c54979"
      },
      "source": [
        "# Указываем слои создаваемой модели\n",
        "слои = 'Полносвязный-128\\\n",
        " Полносвязный-2' # Указываем слои создаваемой модели\n",
        "\n",
        "# Получаем входной размер данных\n",
        "входной_размер = терра_ии.получить_входной_размер(обучающая_выборка)\n",
        "\n",
        "# Создаем модель\n",
        "нейронка_вакансии_1 = терра_ии.создать_сеть(\n",
        "    слои = слои,\n",
        "    входной_размер = входной_размер,\n",
        "    задача='классификация вакансий'\n",
        "    )"
      ],
      "execution_count": 43,
      "outputs": [
        {
          "output_type": "stream",
          "text": [
            "Создана модель нейронной сети!\n"
          ],
          "name": "stdout"
        }
      ]
    },
    {
      "cell_type": "code",
      "metadata": {
        "id": "Hni6YnELg9Cc",
        "colab": {
          "base_uri": "https://localhost:8080/",
          "height": 0
        },
        "outputId": "b28d624e-aff3-4c09-b3ef-e3480c4c9025"
      },
      "source": [
        "# Выводим структуру модели\n",
        "терра_ии.схема_модели(нейронка_вакансии_1)"
      ],
      "execution_count": 44,
      "outputs": [
        {
          "output_type": "stream",
          "text": [
            "Схема модели:\n"
          ],
          "name": "stdout"
        },
        {
          "output_type": "execute_result",
          "data": {
            "image/png": "[encoded data removed]",
            "text/plain": [
              "<IPython.core.display.Image object>"
            ]
          },
          "metadata": {
            "tags": []
          },
          "execution_count": 44
        }
      ]
    },
    {
      "cell_type": "code",
      "metadata": {
        "id": "TH3H1AV_MA-7",
        "colab": {
          "base_uri": "https://localhost:8080/",
          "height": 0
        },
        "outputId": "1dcdee06-61ef-4844-ec34-ee6527dd88e3"
      },
      "source": [
        "# Обучаем модель\n",
        "эксперимент_1 = терра_ии.обучение_модели(\n",
        "    нейронка_вакансии_1,\n",
        "    обучающая_выборка, метки_обучающей_выборки,\n",
        "    тестовая_выборка, метки_тестовой_выборки,\n",
        "    размер_пакета = 64,\n",
        "    количество_эпох = 150)"
      ],
      "execution_count": 45,
      "outputs": [
        {
          "output_type": "stream",
          "text": [
            "Эпоха №1    Время обучения: 0.42c   Точность на обучающей выборке: 53.0%     Точность на проверочной выборке: 62.12%\n",
            "Эпоха №2    Время обучения: 0.04c   Точность на обучающей выборке: 58.0%     Точность на проверочной выборке: 62.88%\n",
            "Эпоха №3    Время обучения: 0.04c   Точность на обучающей выборке: 59.2%     Точность на проверочной выборке: 68.18%\n",
            "Эпоха №4    Время обучения: 0.03c   Точность на обучающей выборке: 62.6%     Точность на проверочной выборке: 70.83%\n",
            "Эпоха №5    Время обучения: 0.04c   Точность на обучающей выборке: 63.0%     Точность на проверочной выборке: 70.08%\n",
            "Эпоха №6    Время обучения: 0.03c   Точность на обучающей выборке: 61.6%     Точность на проверочной выборке: 63.64%\n",
            "Эпоха №7    Время обучения: 0.04c   Точность на обучающей выборке: 63.6%     Точность на проверочной выборке: 68.18%\n",
            "Эпоха №8    Время обучения: 0.04c   Точность на обучающей выборке: 65.2%     Точность на проверочной выборке: 70.83%\n",
            "Эпоха №9    Время обучения: 0.04c   Точность на обучающей выборке: 64.8%     Точность на проверочной выборке: 67.8%\n",
            "Эпоха №10   Время обучения: 0.04c   Точность на обучающей выборке: 64.6%     Точность на проверочной выборке: 69.32%\n",
            "Эпоха №11   Время обучения: 0.04c   Точность на обучающей выборке: 65.8%     Точность на проверочной выборке: 67.8%\n",
            "Эпоха №12   Время обучения: 0.04c   Точность на обучающей выборке: 67.2%     Точность на проверочной выборке: 70.08%\n",
            "Эпоха №13   Время обучения: 0.04c   Точность на обучающей выборке: 67.6%     Точность на проверочной выборке: 69.7%\n",
            "Эпоха №14   Время обучения: 0.03c   Точность на обучающей выборке: 68.8%     Точность на проверочной выборке: 68.94%\n",
            "Эпоха №15   Время обучения: 0.04c   Точность на обучающей выборке: 68.6%     Точность на проверочной выборке: 70.45%\n",
            "Эпоха №16   Время обучения: 0.04c   Точность на обучающей выборке: 69.4%     Точность на проверочной выборке: 71.21%\n",
            "Эпоха №17   Время обучения: 0.05c   Точность на обучающей выборке: 69.6%     Точность на проверочной выборке: 70.45%\n",
            "Эпоха №18   Время обучения: 0.04c   Точность на обучающей выборке: 70.2%     Точность на проверочной выборке: 71.21%\n",
            "Эпоха №19   Время обучения: 0.04c   Точность на обучающей выборке: 71.0%     Точность на проверочной выборке: 70.08%\n",
            "Эпоха №20   Время обучения: 0.03c   Точность на обучающей выборке: 71.4%     Точность на проверочной выборке: 70.08%\n",
            "Эпоха №21   Время обучения: 0.04c   Точность на обучающей выборке: 72.2%     Точность на проверочной выборке: 70.83%\n",
            "Эпоха №22   Время обучения: 0.04c   Точность на обучающей выборке: 72.4%     Точность на проверочной выборке: 70.45%\n",
            "Эпоха №23   Время обучения: 0.03c   Точность на обучающей выборке: 72.2%     Точность на проверочной выборке: 70.45%\n",
            "Эпоха №24   Время обучения: 0.04c   Точность на обучающей выборке: 73.0%     Точность на проверочной выборке: 71.97%\n",
            "Эпоха №25   Время обучения: 0.03c   Точность на обучающей выборке: 73.2%     Точность на проверочной выборке: 71.97%\n",
            "Эпоха №26   Время обучения: 0.03c   Точность на обучающей выборке: 73.8%     Точность на проверочной выборке: 71.97%\n",
            "Эпоха №27   Время обучения: 0.04c   Точность на обучающей выборке: 73.6%     Точность на проверочной выборке: 72.35%\n",
            "Эпоха №28   Время обучения: 0.04c   Точность на обучающей выборке: 74.4%     Точность на проверочной выборке: 72.73%\n",
            "Эпоха №29   Время обучения: 0.04c   Точность на обучающей выборке: 73.4%     Точность на проверочной выборке: 74.24%\n",
            "Эпоха №30   Время обучения: 0.03c   Точность на обучающей выборке: 73.8%     Точность на проверочной выборке: 73.48%\n",
            "Эпоха №31   Время обучения: 0.03c   Точность на обучающей выборке: 75.2%     Точность на проверочной выборке: 73.48%\n",
            "Эпоха №32   Время обучения: 0.03c   Точность на обучающей выборке: 75.8%     Точность на проверочной выборке: 76.52%\n",
            "Эпоха №33   Время обучения: 0.03c   Точность на обучающей выборке: 76.6%     Точность на проверочной выборке: 73.48%\n",
            "Эпоха №34   Время обучения: 0.03c   Точность на обучающей выборке: 76.6%     Точность на проверочной выборке: 78.41%\n",
            "Эпоха №35   Время обучения: 0.03c   Точность на обучающей выборке: 77.6%     Точность на проверочной выборке: 73.48%\n",
            "Эпоха №36   Время обучения: 0.04c   Точность на обучающей выборке: 77.0%     Точность на проверочной выборке: 76.14%\n",
            "Эпоха №37   Время обучения: 0.03c   Точность на обучающей выборке: 77.6%     Точность на проверочной выборке: 75.76%\n",
            "Эпоха №38   Время обучения: 0.03c   Точность на обучающей выборке: 77.2%     Точность на проверочной выборке: 76.52%\n",
            "Эпоха №39   Время обучения: 0.04c   Точность на обучающей выборке: 78.0%     Точность на проверочной выборке: 76.89%\n",
            "Эпоха №40   Время обучения: 0.03c   Точность на обучающей выборке: 78.4%     Точность на проверочной выборке: 76.89%\n",
            "Эпоха №41   Время обучения: 0.04c   Точность на обучающей выборке: 78.6%     Точность на проверочной выборке: 77.65%\n",
            "Эпоха №42   Время обучения: 0.04c   Точность на обучающей выборке: 79.6%     Точность на проверочной выборке: 77.65%\n",
            "Эпоха №43   Время обучения: 0.03c   Точность на обучающей выборке: 79.8%     Точность на проверочной выборке: 77.27%\n",
            "Эпоха №44   Время обучения: 0.04c   Точность на обучающей выборке: 79.8%     Точность на проверочной выборке: 78.03%\n",
            "Эпоха №45   Время обучения: 0.03c   Точность на обучающей выборке: 80.4%     Точность на проверочной выборке: 76.89%\n",
            "Эпоха №46   Время обучения: 0.03c   Точность на обучающей выборке: 81.2%     Точность на проверочной выборке: 78.79%\n",
            "Эпоха №47   Время обучения: 0.03c   Точность на обучающей выборке: 80.4%     Точность на проверочной выборке: 78.03%\n",
            "Эпоха №48   Время обучения: 0.04c   Точность на обучающей выборке: 80.6%     Точность на проверочной выборке: 78.79%\n",
            "Эпоха №49   Время обучения: 0.03c   Точность на обучающей выборке: 80.8%     Точность на проверочной выборке: 78.41%\n",
            "Эпоха №50   Время обучения: 0.04c   Точность на обучающей выборке: 81.8%     Точность на проверочной выборке: 79.92%\n",
            "Эпоха №51   Время обучения: 0.03c   Точность на обучающей выборке: 82.6%     Точность на проверочной выборке: 79.55%\n",
            "Эпоха №52   Время обучения: 0.04c   Точность на обучающей выборке: 82.2%     Точность на проверочной выборке: 81.82%\n",
            "Эпоха №53   Время обучения: 0.04c   Точность на обучающей выборке: 82.6%     Точность на проверочной выборке: 79.55%\n",
            "Эпоха №54   Время обучения: 0.04c   Точность на обучающей выборке: 82.6%     Точность на проверочной выборке: 80.68%\n",
            "Эпоха №55   Время обучения: 0.03c   Точность на обучающей выборке: 83.4%     Точность на проверочной выборке: 80.3%\n",
            "Эпоха №56   Время обучения: 0.04c   Точность на обучающей выборке: 83.4%     Точность на проверочной выборке: 80.68%\n",
            "Эпоха №57   Время обучения: 0.04c   Точность на обучающей выборке: 84.0%     Точность на проверочной выборке: 80.68%\n",
            "Эпоха №58   Время обучения: 0.03c   Точность на обучающей выборке: 84.6%     Точность на проверочной выборке: 81.44%\n",
            "Эпоха №59   Время обучения: 0.04c   Точность на обучающей выборке: 84.8%     Точность на проверочной выборке: 79.92%\n",
            "Эпоха №60   Время обучения: 0.04c   Точность на обучающей выборке: 85.6%     Точность на проверочной выборке: 82.95%\n",
            "Эпоха №61   Время обучения: 0.03c   Точность на обучающей выборке: 85.2%     Точность на проверочной выборке: 81.44%\n",
            "Эпоха №62   Время обучения: 0.04c   Точность на обучающей выборке: 86.2%     Точность на проверочной выборке: 81.82%\n",
            "Эпоха №63   Время обучения: 0.04c   Точность на обучающей выборке: 86.2%     Точность на проверочной выборке: 82.58%\n",
            "Эпоха №64   Время обучения: 0.03c   Точность на обучающей выборке: 85.8%     Точность на проверочной выборке: 81.82%\n",
            "Эпоха №65   Время обучения: 0.04c   Точность на обучающей выборке: 87.4%     Точность на проверочной выборке: 82.95%\n",
            "Эпоха №66   Время обучения: 0.04c   Точность на обучающей выборке: 87.0%     Точность на проверочной выборке: 82.2%\n",
            "Эпоха №67   Время обучения: 0.03c   Точность на обучающей выборке: 87.0%     Точность на проверочной выборке: 82.2%\n",
            "Эпоха №68   Время обучения: 0.04c   Точность на обучающей выборке: 87.8%     Точность на проверочной выборке: 82.95%\n",
            "Эпоха №69   Время обучения: 0.03c   Точность на обучающей выборке: 87.8%     Точность на проверочной выборке: 82.58%\n",
            "Эпоха №70   Время обучения: 0.03c   Точность на обучающей выборке: 87.4%     Точность на проверочной выборке: 82.2%\n",
            "Эпоха №71   Время обучения: 0.04c   Точность на обучающей выборке: 87.6%     Точность на проверочной выборке: 82.58%\n",
            "Эпоха №72   Время обучения: 0.03c   Точность на обучающей выборке: 88.4%     Точность на проверочной выборке: 82.95%\n",
            "Эпоха №73   Время обучения: 0.04c   Точность на обучающей выборке: 88.0%     Точность на проверочной выборке: 82.95%\n",
            "Эпоха №74   Время обучения: 0.04c   Точность на обучающей выборке: 87.6%     Точность на проверочной выборке: 82.2%\n",
            "Эпоха №75   Время обучения: 0.03c   Точность на обучающей выборке: 88.0%     Точность на проверочной выборке: 81.44%\n",
            "Эпоха №76   Время обучения: 0.04c   Точность на обучающей выборке: 87.8%     Точность на проверочной выборке: 83.33%\n",
            "Эпоха №77   Время обучения: 0.03c   Точность на обучающей выборке: 88.2%     Точность на проверочной выборке: 83.33%\n",
            "Эпоха №78   Время обучения: 0.03c   Точность на обучающей выборке: 89.4%     Точность на проверочной выборке: 83.33%\n",
            "Эпоха №79   Время обучения: 0.03c   Точность на обучающей выборке: 88.8%     Точность на проверочной выборке: 83.71%\n",
            "Эпоха №80   Время обучения: 0.03c   Точность на обучающей выборке: 89.4%     Точность на проверочной выборке: 83.71%\n",
            "Эпоха №81   Время обучения: 0.05c   Точность на обучающей выборке: 89.0%     Точность на проверочной выборке: 83.71%\n",
            "Эпоха №82   Время обучения: 0.03c   Точность на обучающей выборке: 89.2%     Точность на проверочной выборке: 82.95%\n",
            "Эпоха №83   Время обучения: 0.04c   Точность на обучающей выборке: 89.6%     Точность на проверочной выборке: 83.71%\n",
            "Эпоха №84   Время обучения: 0.03c   Точность на обучающей выборке: 89.8%     Точность на проверочной выборке: 83.71%\n",
            "Эпоха №85   Время обучения: 0.04c   Точность на обучающей выборке: 88.8%     Точность на проверочной выборке: 84.85%\n",
            "Эпоха №86   Время обучения: 0.03c   Точность на обучающей выборке: 89.2%     Точность на проверочной выборке: 83.71%\n",
            "Эпоха №87   Время обучения: 0.03c   Точность на обучающей выборке: 89.6%     Точность на проверочной выборке: 84.47%\n",
            "Эпоха №88   Время обучения: 0.04c   Точность на обучающей выборке: 90.0%     Точность на проверочной выборке: 83.71%\n",
            "Эпоха №89   Время обучения: 0.04c   Точность на обучающей выборке: 90.2%     Точность на проверочной выборке: 84.47%\n",
            "Эпоха №90   Время обучения: 0.03c   Точность на обучающей выборке: 90.8%     Точность на проверочной выборке: 84.09%\n",
            "Эпоха №91   Время обучения: 0.04c   Точность на обучающей выборке: 90.6%     Точность на проверочной выборке: 85.23%\n",
            "Эпоха №92   Время обучения: 0.03c   Точность на обучающей выборке: 91.2%     Точность на проверочной выборке: 84.47%\n",
            "Эпоха №93   Время обучения: 0.03c   Точность на обучающей выборке: 91.0%     Точность на проверочной выборке: 84.47%\n",
            "Эпоха №94   Время обучения: 0.04c   Точность на обучающей выборке: 91.4%     Точность на проверочной выборке: 84.09%\n",
            "Эпоха №95   Время обучения: 0.04c   Точность на обучающей выборке: 91.2%     Точность на проверочной выборке: 85.23%\n",
            "Эпоха №96   Время обучения: 0.04c   Точность на обучающей выборке: 91.0%     Точность на проверочной выборке: 84.09%\n",
            "Эпоха №97   Время обучения: 0.05c   Точность на обучающей выборке: 91.2%     Точность на проверочной выборке: 84.85%\n",
            "Эпоха №98   Время обучения: 0.03c   Точность на обучающей выборке: 90.6%     Точность на проверочной выборке: 85.23%\n",
            "Эпоха №99   Время обучения: 0.04c   Точность на обучающей выборке: 91.0%     Точность на проверочной выборке: 84.85%\n",
            "Эпоха №100  Время обучения: 0.03c   Точность на обучающей выборке: 90.8%     Точность на проверочной выборке: 84.47%\n",
            "Эпоха №101  Время обучения: 0.04c   Точность на обучающей выборке: 91.0%     Точность на проверочной выборке: 85.23%\n",
            "Эпоха №102  Время обучения: 0.03c   Точность на обучающей выборке: 91.8%     Точность на проверочной выборке: 84.85%\n",
            "Эпоха №103  Время обучения: 0.03c   Точность на обучающей выборке: 91.4%     Точность на проверочной выборке: 84.85%\n",
            "Эпоха №104  Время обучения: 0.03c   Точность на обучающей выборке: 91.6%     Точность на проверочной выборке: 85.23%\n",
            "Эпоха №105  Время обучения: 0.03c   Точность на обучающей выборке: 92.2%     Точность на проверочной выборке: 85.23%\n",
            "Эпоха №106  Время обучения: 0.03c   Точность на обучающей выборке: 91.0%     Точность на проверочной выборке: 85.23%\n",
            "Эпоха №107  Время обучения: 0.04c   Точность на обучающей выборке: 91.2%     Точность на проверочной выборке: 85.98%\n",
            "Эпоха №108  Время обучения: 0.03c   Точность на обучающей выборке: 91.8%     Точность на проверочной выборке: 85.23%\n",
            "Эпоха №109  Время обучения: 0.03c   Точность на обучающей выборке: 92.0%     Точность на проверочной выборке: 85.61%\n",
            "Эпоха №110  Время обучения: 0.04c   Точность на обучающей выборке: 92.6%     Точность на проверочной выборке: 85.23%\n",
            "Эпоха №111  Время обучения: 0.04c   Точность на обучающей выборке: 92.2%     Точность на проверочной выборке: 85.61%\n",
            "Эпоха №112  Время обучения: 0.03c   Точность на обучающей выборке: 92.0%     Точность на проверочной выборке: 84.85%\n",
            "Эпоха №113  Время обучения: 0.04c   Точность на обучающей выборке: 92.8%     Точность на проверочной выборке: 85.98%\n",
            "Эпоха №114  Время обучения: 0.04c   Точность на обучающей выборке: 91.4%     Точность на проверочной выборке: 85.23%\n",
            "Эпоха №115  Время обучения: 0.03c   Точность на обучающей выборке: 93.0%     Точность на проверочной выборке: 86.74%\n",
            "Эпоха №116  Время обучения: 0.05c   Точность на обучающей выборке: 92.6%     Точность на проверочной выборке: 85.98%\n",
            "Эпоха №117  Время обучения: 0.03c   Точность на обучающей выборке: 92.2%     Точность на проверочной выборке: 85.98%\n",
            "Эпоха №118  Время обучения: 0.03c   Точность на обучающей выборке: 93.4%     Точность на проверочной выборке: 86.74%\n",
            "Эпоха №119  Время обучения: 0.04c   Точность на обучающей выборке: 92.4%     Точность на проверочной выборке: 85.98%\n",
            "Эпоха №120  Время обучения: 0.03c   Точность на обучающей выборке: 93.8%     Точность на проверочной выборке: 86.36%\n",
            "Эпоха №121  Время обучения: 0.03c   Точность на обучающей выборке: 93.0%     Точность на проверочной выборке: 86.36%\n",
            "Эпоха №122  Время обучения: 0.03c   Точность на обучающей выборке: 92.8%     Точность на проверочной выборке: 86.74%\n",
            "Эпоха №123  Время обучения: 0.03c   Точность на обучающей выборке: 93.2%     Точность на проверочной выборке: 85.98%\n",
            "Эпоха №124  Время обучения: 0.04c   Точность на обучающей выборке: 94.0%     Точность на проверочной выборке: 86.74%\n",
            "Эпоха №125  Время обучения: 0.04c   Точность на обучающей выборке: 93.6%     Точность на проверочной выборке: 86.74%\n",
            "Эпоха №126  Время обучения: 0.03c   Точность на обучающей выборке: 93.6%     Точность на проверочной выборке: 86.36%\n",
            "Эпоха №127  Время обучения: 0.04c   Точность на обучающей выборке: 94.0%     Точность на проверочной выборке: 86.74%\n",
            "Эпоха №128  Время обучения: 0.03c   Точность на обучающей выборке: 93.8%     Точность на проверочной выборке: 87.12%\n",
            "Эпоха №129  Время обучения: 0.03c   Точность на обучающей выборке: 93.4%     Точность на проверочной выборке: 86.36%\n",
            "Эпоха №130  Время обучения: 0.03c   Точность на обучающей выборке: 94.0%     Точность на проверочной выборке: 86.74%\n",
            "Эпоха №131  Время обучения: 0.03c   Точность на обучающей выборке: 93.8%     Точность на проверочной выборке: 85.98%\n",
            "Эпоха №132  Время обучения: 0.03c   Точность на обучающей выборке: 94.4%     Точность на проверочной выборке: 87.12%\n",
            "\u001b[42m\u001b[37mЭпоха №133  Время обучения: 0.03c   Точность на обучающей выборке: 94.0%     Точность на проверочной выборке: 87.88%\u001b[0m\n",
            "Эпоха №134  Время обучения: 0.03c   Точность на обучающей выборке: 94.2%     Точность на проверочной выборке: 87.12%\n",
            "Эпоха №135  Время обучения: 0.03c   Точность на обучающей выборке: 94.6%     Точность на проверочной выборке: 87.12%\n",
            "Эпоха №136  Время обучения: 0.03c   Точность на обучающей выборке: 94.6%     Точность на проверочной выборке: 87.5%\n",
            "Эпоха №137  Время обучения: 0.04c   Точность на обучающей выборке: 94.4%     Точность на проверочной выборке: 87.12%\n",
            "Эпоха №138  Время обучения: 0.03c   Точность на обучающей выборке: 94.4%     Точность на проверочной выборке: 87.12%\n",
            "Эпоха №139  Время обучения: 0.04c   Точность на обучающей выборке: 94.2%     Точность на проверочной выборке: 86.74%\n",
            "Эпоха №140  Время обучения: 0.03c   Точность на обучающей выборке: 94.0%     Точность на проверочной выборке: 85.61%\n",
            "Эпоха №141  Время обучения: 0.03c   Точность на обучающей выборке: 94.4%     Точность на проверочной выборке: 86.74%\n",
            "Эпоха №142  Время обучения: 0.04c   Точность на обучающей выборке: 95.0%     Точность на проверочной выборке: 87.12%\n",
            "Эпоха №143  Время обучения: 0.04c   Точность на обучающей выборке: 95.0%     Точность на проверочной выборке: 87.5%\n",
            "Эпоха №144  Время обучения: 0.03c   Точность на обучающей выборке: 95.2%     Точность на проверочной выборке: 87.12%\n",
            "Эпоха №145  Время обучения: 0.03c   Точность на обучающей выборке: 94.8%     Точность на проверочной выборке: 86.74%\n",
            "Эпоха №146  Время обучения: 0.03c   Точность на обучающей выборке: 93.6%     Точность на проверочной выборке: 86.74%\n",
            "Эпоха №147  Время обучения: 0.03c   Точность на обучающей выборке: 95.0%     Точность на проверочной выборке: 86.74%\n",
            "Эпоха №148  Время обучения: 0.03c   Точность на обучающей выборке: 95.0%     Точность на проверочной выборке: 86.36%\n",
            "Эпоха №149  Время обучения: 0.04c   Точность на обучающей выборке: 95.0%     Точность на проверочной выборке: 86.74%\n",
            "Эпоха №150  Время обучения: 0.03c   Точность на обучающей выборке: 95.0%     Точность на проверочной выборке: 87.12%\n",
            "\n"
          ],
          "name": "stdout"
        },
        {
          "output_type": "display_data",
          "data": {
            "image/png": "[encoded data removed]",
            "text/plain": [
              "<Figure size 864x432 with 1 Axes>"
            ]
          },
          "metadata": {
            "tags": []
          }
        }
      ]
    },
    {
      "cell_type": "code",
      "metadata": {
        "id": "lmfEhzjEdPS1",
        "colab": {
          "base_uri": "https://localhost:8080/"
        },
        "outputId": "5382fac6-a618-4042-ae4d-3e1536324ffd"
      },
      "source": [
        "терра_ии.тест_модели_вакансии(нейронка_вакансии_1,\n",
        "                              тестовая_выборка, метки_тестовой_выборки)"
      ],
      "execution_count": 46,
      "outputs": [
        {
          "output_type": "stream",
          "text": [
            "Тестовое резюме:\n",
            "\n",
            "Пол:                         Ж\n",
            "Возраст:                     36\n",
            "Город:                       Москва\n",
            "Готовность к переезду:       не готов к переезду\n",
            "Готовность к командировкам:  готов к командировкам\n",
            "Гражданство:                 Россия\n",
            "Разрешение на работу:        Россия\n",
            "Знания языков:               Русский Английский Украинский\n",
            "Образование:                 Высшее образование\n",
            "Дополнительное образование:  Данные не указаны\n",
            "Зарплата:                    40000.0\n",
            "Время в пути до работы:      не имеет значения\n",
            "Занятость:                   частичная занятость, проектная работа, полная занятость\n",
            "График:                      удаленная работа\n",
            "Опыт работы (мес):           89\n",
            "Обязанности на пред.работе:  распределение, отслеживание и контроль маршрутов, сбор и обработка информации, а также анализ програ\n",
            "                             ммного обеспечения стран Европы, Латинской Америки и Азии, Наполнение сайта, редактирование, описани\n",
            "                             е товара. Обработка заказов, отправка как по Москве с курьерами, так и по России почтой и транспортн\n",
            "                             ыми компаниями. Работаю в Exсel, word, 1c, paint, photoshop, Outlook, Retail CRM, Bitriх24 и т.д.\n",
            "\n",
            "Модель уверена, что кандидат подходит в УИИ на: 96.95%\n",
            "---------------------------------------------------------------\n",
            "Подходит ли кандидат на самом деле:  да\n",
            "---------------------------------------------------------------\n",
            "\n",
            "Тестовое резюме:\n",
            "\n",
            "Пол:                         Ж\n",
            "Возраст:                     20\n",
            "Город:                       Уфа\n",
            "Готовность к переезду:       не готов к переезду\n",
            "Готовность к командировкам:  не готов к командировкам\n",
            "Гражданство:                 Россия\n",
            "Разрешение на работу:        Россия\n",
            "Знания языков:               Русский Английский Немецкий Таджикский\n",
            "Образование:                 Среднее образование\n",
            "Дополнительное образование:  Данные не указаны\n",
            "Зарплата:                    30000.0\n",
            "Время в пути до работы:      не имеет значения\n",
            "Занятость:                   полная занятость\n",
            "График:                      удаленная работа\n",
            "Опыт работы (мес):           78\n",
            "Обязанности на пред.работе:  Преподавание английского языка для детей и взрослых. Школьная программа, занятия по различным методи\n",
            "                             кам, разговорная практика., Консультирование клиентов, Звонки по холодной и тёплой базе с целью инфо\n",
            "                             рмирования клиентов., ., Проведение детских праздников\n",
            "\n",
            "Модель уверена, что кандидат подходит в УИИ на: 44.91%\n",
            "---------------------------------------------------------------\n",
            "Подходит ли кандидат на самом деле:  нет\n",
            "---------------------------------------------------------------\n",
            "\n",
            "Тестовое резюме:\n",
            "\n",
            "Пол:                         М\n",
            "Возраст:                     32\n",
            "Город:                       Ростов-на-Дону\n",
            "Готовность к переезду:       готов к переезду\n",
            "Готовность к командировкам:  готов к командировкам\n",
            "Гражданство:                 Россия\n",
            "Разрешение на работу:        Россия\n",
            "Знания языков:               Русский\n",
            "Образование:                 Высшее образование\n",
            "Дополнительное образование:  Данные не указаны\n",
            "Зарплата:                    40000.0\n",
            "Время в пути до работы:      не имеет значения\n",
            "Занятость:                   полная занятость\n",
            "График:                      полный день\n",
            "Опыт работы (мес):           91\n",
            "Обязанности на пред.работе:  Привлечение клиентов на постановку авто в салон (на комиссию), выкуп авто, оценка рыночной стоимости\n",
            "                             , непосредственная продажа автомобилей, расширение зазора прибыли (подвижка по входящей стоимости) В\n",
            "                             едение рекламной компании фирмы. Выполнение полного цикла – от привлечения клиента до продажи его ав\n",
            "                             то. Средний объём постановок 4-5 авто в неделю, в зависимости количества времени на звонки., Создани\n",
            "                             е сайтов, интеграция систем управления., Продажа «Банковских гарантий» победителям тендеров гос. зак\n",
            "                             азов.Холодные звонки, выход на ЛПР, работа с возражениями, заключение сделок., Самостоятельно, с 0 п\n",
            "\n",
            "Модель уверена, что кандидат подходит в УИИ на: 43.97%\n",
            "---------------------------------------------------------------\n",
            "Подходит ли кандидат на самом деле:  нет\n",
            "---------------------------------------------------------------\n",
            "\n"
          ],
          "name": "stdout"
        }
      ]
    },
    {
      "cell_type": "code",
      "metadata": {
        "id": "jf2B9gjPVTzr",
        "colab": {
          "base_uri": "https://localhost:8080/"
        },
        "outputId": "b80c615a-1030-46bd-da16-6a7d20a6aede"
      },
      "source": [
        "# Эксперимент. Многократное обучение и усредненеие результатов\n",
        "\n",
        "слои = 'Полносвязный-256\\\n",
        " Полносвязный-2' # Указываем слои создаваемой модели\n",
        "\n",
        "# Получаем входной размер данных\n",
        "входной_размер = терра_ии.получить_входной_размер(обучающая_выборка)\n",
        "\n",
        "# Создаем модель\n",
        "нейронка_вакансии_2 = терра_ии.создать_сеть(\n",
        "    слои = слои,\n",
        "    входной_размер = входной_размер,\n",
        "    задача='классификация вакансий'\n",
        "    )"
      ],
      "execution_count": 47,
      "outputs": [
        {
          "output_type": "stream",
          "text": [
            "Создана модель нейронной сети!\n"
          ],
          "name": "stdout"
        }
      ]
    },
    {
      "cell_type": "code",
      "metadata": {
        "id": "apcga4Z2VhLY",
        "colab": {
          "base_uri": "https://localhost:8080/",
          "height": 0
        },
        "outputId": "ef6d861e-f2d6-49a4-fac3-14e384ddf0cc"
      },
      "source": [
        "эксперимент_2 = терра_ии.обучение_модели(\n",
        "    нейронка_вакансии_2,\n",
        "    обучающая_выборка, метки_обучающей_выборки,\n",
        "    тестовая_выборка, метки_тестовой_выборки,\n",
        "    размер_пакета = 64,\n",
        "    количество_эпох = 150, \n",
        "    количество_запусков = 10)"
      ],
      "execution_count": 48,
      "outputs": [
        {
          "output_type": "stream",
          "text": [
            "Запуск №1   Время обучения: 4.45c Точность на обучающей выборке: 96.8%       Точность на проверочной выборке: 87.88%\n",
            "Запуск №2   Время обучения: 4.36c Точность на обучающей выборке: 97.2%       Точность на проверочной выборке: 88.64%\n",
            "Запуск №3   Время обучения: 4.88c Точность на обучающей выборке: 97.4%       Точность на проверочной выборке: 88.64%\n",
            "\u001b[42m\u001b[37mЗапуск №4   Время обучения: 4.75c Точность на обучающей выборке: 97.8%       Точность на проверочной выборке: 89.02%\u001b[0m\n",
            "Запуск №5   Время обучения: 4.37c Точность на обучающей выборке: 97.0%       Точность на проверочной выборке: 89.02%\n",
            "Запуск №6   Время обучения: 4.22c Точность на обучающей выборке: 97.4%       Точность на проверочной выборке: 89.02%\n",
            "Запуск №7   Время обучения: 4.3c  Точность на обучающей выборке: 97.2%       Точность на проверочной выборке: 89.02%\n",
            "Запуск №8   Время обучения: 5.04c Точность на обучающей выборке: 98.0%       Точность на проверочной выборке: 89.02%\n",
            "Запуск №9   Время обучения: 4.21c Точность на обучающей выборке: 97.6%       Точность на проверочной выборке: 89.02%\n",
            "Запуск №10  Время обучения: 4.85c Точность на обучающей выборке: 97.8%       Точность на проверочной выборке: 89.02%\n",
            "\n",
            "Средняя точность на обучающей выборке:    97.42% \n",
            "Средняя точность на проверочной выборке:  88.83%\n"
          ],
          "name": "stdout"
        },
        {
          "output_type": "display_data",
          "data": {
            "image/png": "[encoded data removed]",
            "text/plain": [
              "<Figure size 864x432 with 1 Axes>"
            ]
          },
          "metadata": {
            "tags": []
          }
        }
      ]
    },
    {
      "cell_type": "code",
      "metadata": {
        "id": "yKJuc4qyLgi-",
        "colab": {
          "base_uri": "https://localhost:8080/"
        },
        "outputId": "b0d1f231-5d00-4823-f459-07febe48e065"
      },
      "source": [
        "терра_ии.тест_модели_вакансии(нейронка_вакансии_2,\n",
        "                        тестовая_выборка, метки_тестовой_выборки)"
      ],
      "execution_count": 49,
      "outputs": [
        {
          "output_type": "stream",
          "text": [
            "Тестовое резюме:\n",
            "\n",
            "Пол:                         Ж\n",
            "Возраст:                     34\n",
            "Город:                       Химки\n",
            "Готовность к переезду:       готов к переезду\n",
            "Готовность к командировкам:  готов к командировкам\n",
            "Гражданство:                 Россия\n",
            "Разрешение на работу:        Россия\n",
            "Знания языков:               Русский Английский\n",
            "Образование:                 Высшее образование\n",
            "Дополнительное образование:  Данные не указаны\n",
            "Зарплата:                    40000.0\n",
            "Время в пути до работы:      не имеет значения\n",
            "Занятость:                   частичная занятость, полная занятость\n",
            "График:                      гибкий график, полный день, удаленная работа\n",
            "Опыт работы (мес):           144\n",
            "Обязанности на пред.работе:  прием входящих и исходящих звонков,заведение,заполнение и обработка заявок на кредиты, кредитные и д\n",
            "                             ебетовые карты, вклады, выполнение KPI, в том числе KPI по прослушке., прием и осуществление телефон\n",
            "                             ных звонков;работа с входящей и исходящей корреспонденцией: прием, регистрация, передача адресату, у\n",
            "                             чет, хранение;организация получения и отправки корреспонденции по почтовому адресату;подготовка прое\n",
            "                             ктов писем, запросов и других документов, касающихся деятельности компании;обеспечение офиса канцеля\n",
            "                             рскими принадлежностями, расходными материалами и иными товарно-материальными ценностями.Регистрация\n",
            "\n",
            "Модель уверена, что кандидат подходит в УИИ на: 97.66%\n",
            "---------------------------------------------------------------\n",
            "Подходит ли кандидат на самом деле:  да\n",
            "---------------------------------------------------------------\n",
            "\n",
            "Тестовое резюме:\n",
            "\n",
            "Пол:                         М\n",
            "Возраст:                     33\n",
            "Город:                       Иваново (Ивановская область)\n",
            "Готовность к переезду:       готов к переезду\n",
            "Готовность к командировкам:  готов к командировкам\n",
            "Гражданство:                 Россия\n",
            "Разрешение на работу:        Россия\n",
            "Знания языков:               Русский Английский\n",
            "Образование:                 Высшее образование\n",
            "Дополнительное образование:  Нейрософия\n",
            "Зарплата:                    130000.0\n",
            "Время в пути до работы:      не более часа\n",
            "Занятость:                   полная занятость\n",
            "График:                      полный день\n",
            "Опыт работы (мес):           131\n",
            "Обязанности на пред.работе:  Удаленная работа. Выполняемые задачи:1. Подготовка концепции продвижения бренда компании2. Участие в\n",
            "                              организации мероприятий. Подготовка пресс- и пост-релизов3. Верстка пресс- и пост-релизов, статей д\n",
            "                             ля журналов4. Копирайтинг и адаптация английских профессиональных материалов5. Создание рекламного м\n",
            "                             атериала (листовки, буклеты, презентации), Установка и конторль обслуживания техники на территории к\n",
            "                             лиентов.Обслуживание бизнес-центров и предприятий.Организация бизнеса с нуля до стабильного получени\n",
            "                             я прибыли.Организация работы команды.Налоговая и бухгалтерская отчетность., Подразделение — Средства\n",
            "\n",
            "Модель уверена, что кандидат подходит в УИИ на: 2.87%\n",
            "---------------------------------------------------------------\n",
            "Подходит ли кандидат на самом деле:  нет\n",
            "---------------------------------------------------------------\n",
            "\n",
            "Тестовое резюме:\n",
            "\n",
            "Пол:                         Ж\n",
            "Возраст:                     21\n",
            "Город:                       Пермь\n",
            "Готовность к переезду:       не готов к переезду\n",
            "Готовность к командировкам:  не готов к командировкам\n",
            "Гражданство:                 Россия\n",
            "Разрешение на работу:        Россия\n",
            "Знания языков:               Русский Немецкий\n",
            "Образование:                 Среднее специальное образование\n",
            "Дополнительное образование:  Данные не указаны\n",
            "Зарплата:                    20000.0\n",
            "Время в пути до работы:      не имеет значения\n",
            "Занятость:                   полная занятость\n",
            "График:                      удаленная работа\n",
            "Опыт работы (мес):           8\n",
            "Обязанности на пред.работе:  -Получение и обработка всех запросов от текущих клиентов (ответы на вопросы по расписанию, составлен\n",
            "                             ие договора)-Получение и обработка запросов потенциального клиента (приём заявок на пробное занятие)\n",
            "                             -Приём оплат-Ведение финансовой отчетности-Ведение базы данных-Ведение социальных сетей (ВК, Инстагр\n",
            "                             ам)-Составление расписания-Поддерживать жизнедеятельность школы, -Поиск и привлечение новых клиентов\n",
            "                             , расширение клиентской базы-Проведение презентации продукции-Холодные звонки-Консультирование клиен\n",
            "                             тов-Выполнение плана\n",
            "\n",
            "Модель уверена, что кандидат подходит в УИИ на: 0.47%\n",
            "---------------------------------------------------------------\n",
            "Подходит ли кандидат на самом деле:  нет\n",
            "---------------------------------------------------------------\n",
            "\n"
          ],
          "name": "stdout"
        }
      ]
    },
    {
      "cell_type": "markdown",
      "metadata": {
        "id": "dEawMO3RYSYZ"
      },
      "source": [
        "# **Домашнее задание**"
      ]
    },
    {
      "cell_type": "code",
      "metadata": {
        "id": "qC14uC_lmy27"
      },
      "source": [
        "!pip -q install terra_ai\n",
        "from terra_ai import терра_ии"
      ],
      "execution_count": 4,
      "outputs": []
    },
    {
      "cell_type": "markdown",
      "metadata": {
        "id": "EKxMunXYb_5b"
      },
      "source": [
        "## Задание № 1. Подбор кандидата на должность менеджера по продажам.  \n",
        "\n",
        "Создайте нейросеть, которая будет определять подходит ли кандидат на должность в Университете искусственного интеллекта.  \n",
        "\n",
        "1. Загрузите базу;  \n",
        "2. Покажите примеры из загруженной базы;  \n",
        "3. Сделайте предобработку данных для обучающей и тестовой выборки;  \n",
        "4. Создайте полносвязную модель;  \n",
        "5. Продемонстрируйте схему созданной модели;  \n",
        "6. Обучите свою модель;  \n",
        "7. Проведите тестирование модели.  \n",
        "\n",
        "Постарайтесь воспроизвести все этапы по памяти."
      ]
    },
    {
      "cell_type": "markdown",
      "metadata": {
        "id": "6_OQCuhfi7bC"
      },
      "source": [
        "### Работа с базой."
      ]
    },
    {
      "cell_type": "code",
      "metadata": {
        "id": "ZxvB8aaEhVsX",
        "colab": {
          "base_uri": "https://localhost:8080/"
        },
        "outputId": "2ff8107c-6f64-4125-ab9c-7a7550364c05"
      },
      "source": [
        "# Скачиваем базу вакансий\n",
        "терра_ии.загрузить_базу(база = 'ВАКАНСИИ',\n",
        "                        справка = 'Показать')"
      ],
      "execution_count": 11,
      "outputs": [
        {
          "output_type": "stream",
          "text": [
            "Загрузка данных завершена \n",
            "\n",
            "url: https://storage.googleapis.com/terra_ai/DataSets/HR.zip\n",
            "Вы скачали базу вакансий.\n"
          ],
          "name": "stdout"
        }
      ]
    },
    {
      "cell_type": "code",
      "metadata": {
        "id": "WtAImkbshVsh"
      },
      "source": [
        "# Примеры из базы\n",
        "терра_ии.показать_примеры(база = 'ВАКАНСИИ')"
      ],
      "execution_count": 12,
      "outputs": []
    },
    {
      "cell_type": "markdown",
      "metadata": {
        "id": "9JqosOyOjC_x"
      },
      "source": [
        "Обработка базы и создание выборок."
      ]
    },
    {
      "cell_type": "code",
      "metadata": {
        "id": "quliYq4ohVsi"
      },
      "source": [
        "# Создаем обучающую и проверочную выборки\n",
        "(обучающая_выборка, метки_обучающей_выборки), (тестовая_выборка, метки_тестовой_выборки) = терра_ии.создать_выборки_вакансии()"
      ],
      "execution_count": 13,
      "outputs": []
    },
    {
      "cell_type": "markdown",
      "metadata": {
        "id": "c9GBv7L2jqKh"
      },
      "source": [
        "### Создание сети"
      ]
    },
    {
      "cell_type": "markdown",
      "metadata": {
        "id": "89WkcSQlh4qC"
      },
      "source": [
        "Создайте нейронную сеть, которая будет включать в себя полносвязные слои в формате:\n",
        "\n",
        "```\n",
        "# Пример, Полносвязный-128 означает, что мы используем Полновязный слой на 128 нейронов.\n",
        "слои='Полносвязный-128\\\n",
        " Полносвязный-2'\n",
        "```\n",
        "Попробуйте изменить количество нейронов и обучите модель."
      ]
    },
    {
      "cell_type": "code",
      "metadata": {
        "id": "DaskQQ4WhVsi",
        "colab": {
          "base_uri": "https://localhost:8080/"
        },
        "outputId": "8178f3ba-0be0-4436-b4e4-8dfc76273caa"
      },
      "source": [
        "# Указываем слои создаваемой модели\n",
        "слои = 'Полносвязный-256\\\n",
        " Полносвязный-4\\\n",
        " Полносвязный-2' # Указываем слои создаваемой модели\n",
        "\n",
        "\n",
        "# Получаем входной размер данных\n",
        "входной_размер = терра_ии.получить_входной_размер(обучающая_выборка)\n",
        "\n",
        "# Создаем модель\n",
        "нейронка_подбор_кандидата = терра_ии.создать_сеть(\n",
        "    слои = слои,\n",
        "    входной_размер = входной_размер,\n",
        "    задача='классификация изображений'\n",
        "    )"
      ],
      "execution_count": 14,
      "outputs": [
        {
          "output_type": "stream",
          "text": [
            "Создана модель нейронной сети!\n"
          ],
          "name": "stdout"
        }
      ]
    },
    {
      "cell_type": "markdown",
      "metadata": {
        "id": "uBVjjD9Hj_rJ"
      },
      "source": [
        "Визуализация структуры."
      ]
    },
    {
      "cell_type": "code",
      "metadata": {
        "id": "qiWQsMBohVsj",
        "colab": {
          "base_uri": "https://localhost:8080/",
          "height": 254
        },
        "outputId": "830a2f87-d1e8-4bd7-c447-3487feead487"
      },
      "source": [
        "# Покажите структуру сети, с помощью функции из terra_ai. терра_ии.схема_модели(внутри функции указывается нейросеть, которую вы создали)\n",
        "терра_ии.схема_модели(нейронка_подбор_кандидата)"
      ],
      "execution_count": 15,
      "outputs": [
        {
          "output_type": "stream",
          "text": [
            "Схема модели:\n"
          ],
          "name": "stdout"
        },
        {
          "output_type": "execute_result",
          "data": {
            "image/png": "[encoded data removed]",
            "text/plain": [
              "<IPython.core.display.Image object>"
            ]
          },
          "metadata": {
            "tags": []
          },
          "execution_count": 15
        }
      ]
    },
    {
      "cell_type": "markdown",
      "metadata": {
        "id": "yiLjxzBHjt2J"
      },
      "source": [
        "### Обучение модели."
      ]
    },
    {
      "cell_type": "code",
      "metadata": {
        "id": "ycnznpGihVsj",
        "colab": {
          "base_uri": "https://localhost:8080/",
          "height": 611
        },
        "outputId": "776c5edc-9228-4726-9f26-012a173f999b"
      },
      "source": [
        "# Обучаем модель\n",
        "эксперимент = терра_ии.обучение_модели(\n",
        "    нейронка_подбор_кандидата,\n",
        "    обучающая_выборка, метки_обучающей_выборки,\n",
        "    тестовая_выборка, метки_тестовой_выборки,\n",
        "    размер_пакета = 60,\n",
        "    количество_эпох = 150,\n",
        "    количество_запусков = 10)"
      ],
      "execution_count": 16,
      "outputs": [
        {
          "output_type": "stream",
          "text": [
            "Запуск №1   Время обучения: 5.45c Точность на обучающей выборке: 97.2%       Точность на проверочной выборке: 89.77%\n",
            "Запуск №2   Время обучения: 4.75c Точность на обучающей выборке: 97.0%       Точность на проверочной выборке: 90.15%\n",
            "Запуск №3   Время обучения: 7.22c Точность на обучающей выборке: 97.8%       Точность на проверочной выборке: 89.77%\n",
            "Запуск №4   Время обучения: 4.56c Точность на обучающей выборке: 97.6%       Точность на проверочной выборке: 90.15%\n",
            "\u001b[42m\u001b[37mЗапуск №5   Время обучения: 4.59c Точность на обучающей выборке: 97.2%       Точность на проверочной выборке: 90.53%\u001b[0m\n",
            "Запуск №6   Время обучения: 5.21c Точность на обучающей выборке: 97.6%       Точность на проверочной выборке: 89.77%\n",
            "Запуск №7   Время обучения: 4.71c Точность на обучающей выборке: 97.0%       Точность на проверочной выборке: 90.53%\n",
            "Запуск №8   Время обучения: 4.88c Точность на обучающей выборке: 95.6%       Точность на проверочной выборке: 90.15%\n",
            "Запуск №9   Время обучения: 4.62c Точность на обучающей выборке: 97.0%       Точность на проверочной выборке: 89.77%\n",
            "Запуск №10  Время обучения: 5.21c Точность на обучающей выборке: 97.8%       Точность на проверочной выборке: 89.77%\n",
            "\n",
            "Средняя точность на обучающей выборке:    97.18% \n",
            "Средняя точность на проверочной выборке:  90.04%\n"
          ],
          "name": "stdout"
        },
        {
          "output_type": "display_data",
          "data": {
            "image/png": "[encoded data removed]",
            "text/plain": [
              "<Figure size 864x432 with 1 Axes>"
            ]
          },
          "metadata": {
            "tags": []
          }
        }
      ]
    },
    {
      "cell_type": "markdown",
      "metadata": {
        "id": "3YgR-I0Tj0cJ"
      },
      "source": [
        "### Тестирование модели."
      ]
    },
    {
      "cell_type": "code",
      "metadata": {
        "id": "G-axjPZRhVsk",
        "colab": {
          "base_uri": "https://localhost:8080/"
        },
        "outputId": "0e254036-9ec1-458e-86d8-b696d7639e33"
      },
      "source": [
        "терра_ии.тест_модели_вакансии(нейронка_подбор_кандидата,\n",
        "                              тестовая_выборка, метки_тестовой_выборки)"
      ],
      "execution_count": 17,
      "outputs": [
        {
          "output_type": "stream",
          "text": [
            "Тестовое резюме:\n",
            "\n",
            "Пол:                         М\n",
            "Возраст:                     27\n",
            "Город:                       Москва\n",
            "Готовность к переезду:       готов к переезду\n",
            "Готовность к командировкам:  готов к командировкам\n",
            "Гражданство:                 Россия\n",
            "Разрешение на работу:        Россия\n",
            "Знания языков:               Русский Английский\n",
            "Образование:                 Высшее образование\n",
            "Дополнительное образование:  Данные не указаны\n",
            "Зарплата:                    70000.0\n",
            "Время в пути до работы:      не имеет значения\n",
            "Занятость:                   полная занятость\n",
            "График:                      гибкий график, полный день\n",
            "Опыт работы (мес):           61\n",
            "Обязанности на пред.работе:  Conversational English training for entrepreneurs.Application of coaching elements to work out the \"\n",
            "                             blind spots\" of students and for motivation.The implementation of mind maps to get rid of psychologi\n",
            "                             cal blocks during communication in English.Preparing students to speak with native speakers.Addition\n",
            "                             ally: assistance with acquiring new international contacts to take business abroad.Reason for finish\n",
            "                             ing teaching:1) Planning a career in an international company and apply my communication skills in p\n",
            "                             ractice.2) Moving to Moscow., Teaching English in kindergartens and training centers in China.Purpos\n",
            "\n",
            "Модель уверена, что кандидат подходит в УИИ на: 94.97%\n",
            "---------------------------------------------------------------\n",
            "Подходит ли кандидат на самом деле:  да\n",
            "---------------------------------------------------------------\n",
            "\n",
            "Тестовое резюме:\n",
            "\n",
            "Пол:                         Ж\n",
            "Возраст:                     46\n",
            "Город:                       Симферополь\n",
            "Готовность к переезду:       не готов к переезду\n",
            "Готовность к командировкам:  готов к командировкам\n",
            "Гражданство:                 Россия\n",
            "Разрешение на работу:        Россия\n",
            "Знания языков:               Русский Английский\n",
            "Образование:                 Высшее образование\n",
            "Дополнительное образование:  Данные не указаны\n",
            "Зарплата:                    50000.0\n",
            "Время в пути до работы:      не более часа\n",
            "Занятость:                   частичная занятость, проектная работа, полная занятость\n",
            "График:                      гибкий график, полный день, сменный график, удаленная работа\n",
            "Опыт работы (мес):           232\n",
            "Обязанности на пред.работе:  Организация проведения экскурсионных туровВзаимодействие с экскурсионными гидами., Продажа путевок н\n",
            "                             а санаторно-курортный отдых, работа в CRM, сопровождение клиента до заезда в санаторий.Руководство о\n",
            "                             тделом продаж - более 15 человек., 1. Участие в развитии и операционной деятельности розничной сети:\n",
            "                              разработка и внедрение концепции по открытию новых, модернизация действующих и запуск открывающихся\n",
            "                              торговых объектов;2. Набор и обучение персонала; внедрение регламентов и стандартов.3. Работа с мат\n",
            "                             рицей по товарным группам;4. Тестирование и контроль внедрения инноваций на торговых объектах.5. Раз\n",
            "\n",
            "Модель уверена, что кандидат подходит в УИИ на: 8.49%\n",
            "---------------------------------------------------------------\n",
            "Подходит ли кандидат на самом деле:  нет\n",
            "---------------------------------------------------------------\n",
            "\n",
            "Тестовое резюме:\n",
            "\n",
            "Пол:                         Ж\n",
            "Возраст:                     26\n",
            "Город:                       Москва\n",
            "Готовность к переезду:       готов к переезду\n",
            "Готовность к командировкам:  готов к командировкам\n",
            "Гражданство:                 Россия\n",
            "Разрешение на работу:        Россия\n",
            "Знания языков:               Русский Английский\n",
            "Образование:                 Высшее образование\n",
            "Дополнительное образование:  Данные не указаны\n",
            "Зарплата:                    80000.0\n",
            "Время в пути до работы:      не имеет значения\n",
            "Занятость:                   полная занятость\n",
            "График:                      гибкий график, полный день\n",
            "Опыт работы (мес):           80\n",
            "Обязанности на пред.работе:  Работа с документами , контроль водителей ., Работала в период декретаАктивные продажи, Работа с тен\n",
            "                             дерной документацией, участие в тендерах, подготовка тендерной документации,участие в тендерах, прив\n",
            "                             лечение клиентов, холодные звонки встречи с потенциальными клиентами,ведение документации и общение \n",
            "                             с действующими клиентами.Переезд в другой город : Тюмень, отправка грузов , ведение документации, сб\n",
            "                             ор документации на Автодоставку , на краевую доставку. Оформление документов для межтерминальных фур\n",
            "                              , завершение выгрузки загрузи , оформление заборников и тд., Работа с холодной базой, встреча с кли\n",
            "\n",
            "Модель уверена, что кандидат подходит в УИИ на: 3.53%\n",
            "---------------------------------------------------------------\n",
            "Подходит ли кандидат на самом деле:  нет\n",
            "---------------------------------------------------------------\n",
            "\n"
          ],
          "name": "stdout"
        }
      ]
    },
    {
      "cell_type": "markdown",
      "metadata": {
        "id": "hNeiRyb_YXus"
      },
      "source": [
        "## Задание № 2. Классификация отзывов автомобиля Тесла.  \n",
        "\n",
        "Создайте нейросеть, которая будет распознавать эмоциональную окраску отзывов из базы Tesla.\n",
        "\n",
        "1. Загрузите базу;  \n",
        "2. Покажите примеры из загруженной базы;  \n",
        "3. Сделайте предобработку данных для обучающей и тестовой выборки;  \n",
        "4. Создайте полносвязную модель;  \n",
        "5. Продемонстрируйте схему созданной модели;  \n",
        "6. Обучите свою модель;  \n",
        "7. Проведите тестирование модели.  \n",
        "\n",
        "Постарайтесь воспроизвести все этапы по памяти."
      ]
    },
    {
      "cell_type": "markdown",
      "metadata": {
        "id": "t7eVaEDucGqP"
      },
      "source": [
        "### Работа с базой."
      ]
    },
    {
      "cell_type": "code",
      "metadata": {
        "id": "M-6BRYfgTE9z",
        "colab": {
          "base_uri": "https://localhost:8080/"
        },
        "outputId": "c430570c-a408-4834-815d-e72262445a00"
      },
      "source": [
        "# Загружаем базу отзывов Tesla\n",
        "терра_ии.загрузить_базу(база = 'Tesla', \n",
        "                        справка = 'Показать')"
      ],
      "execution_count": 18,
      "outputs": [
        {
          "output_type": "stream",
          "text": [
            "Загрузка данных завершена \n",
            "\n",
            "url: https://storage.googleapis.com/terra_ai/DataSets/tesla.zip\n",
            "Вы скачали базу отзывов владельцев автомобилями Tesla\n"
          ],
          "name": "stdout"
        }
      ]
    },
    {
      "cell_type": "code",
      "metadata": {
        "id": "ae4EF8K7TG_6"
      },
      "source": [
        "# Выводим примеры\n",
        "терра_ии.показать_примеры(база = 'Tesla')"
      ],
      "execution_count": 19,
      "outputs": []
    },
    {
      "cell_type": "markdown",
      "metadata": {
        "id": "5E3LvAt4boTa"
      },
      "source": [
        "Обработка базы и создание выборок."
      ]
    },
    {
      "cell_type": "code",
      "metadata": {
        "id": "GcdE4vNfTJUi",
        "colab": {
          "base_uri": "https://localhost:8080/"
        },
        "outputId": "b8fbe0e2-b26b-43cc-eb63-e5a9806bca41"
      },
      "source": [
        "# Задаем параметры для формирования выборок\n",
        "количество_анализируемых_слов = 10000\n",
        "размер_окна = 20\n",
        "шаг = 5\n",
        "# Создаем выборки для обучения нейронной сети\n",
        "(обучающая_выборка, метки_обучающей_выборки), (тестовая_выборка, метки_тестовой_выборки) = терра_ии.создать_текстовые_выборки(\n",
        "    количество_анализируемых_слов,\n",
        "    размер_окна,\n",
        "    шаг, \n",
        "    путь_к_базе = '/content/Отзывы/')"
      ],
      "execution_count": 20,
      "outputs": [
        {
          "output_type": "stream",
          "text": [
            "Формирование выборки завершено\n"
          ],
          "name": "stdout"
        }
      ]
    },
    {
      "cell_type": "markdown",
      "metadata": {
        "id": "3RwwQI8Rj6Oa"
      },
      "source": [
        "### Создание сети."
      ]
    },
    {
      "cell_type": "markdown",
      "metadata": {
        "id": "dHbMmjCtbhhA"
      },
      "source": [
        "Создайте сеть, состоящую из 3-х ветвей, в которую будут входить слои рассмотренные на вебинаре, такие как:\n",
        "\n",
        "*   Эмбеддинг\n",
        "*   Выравнивающий\n",
        "*   Полносвязный"
      ]
    },
    {
      "cell_type": "code",
      "metadata": {
        "id": "cYZSHgw_TMIi"
      },
      "source": [
        "# Создаем нейронную сеть\n",
        "ветвь1 = 'Эмбеддинг-10-' + количество_анализируемых_слов + '-' + размер_окна + ' Выравнивающий Полносвязный-8'\n",
        "ветвь2 = 'Полносвязный-64 Полносвязный-32 Полносвязный-16'\n",
        "ветвь3 = 'Полносвязный-8'\n",
        "\n",
        "нейронка_ДЗ_2 = терра_ии.создать_составную_сеть(\n",
        "    обучающая_выборка, метки_обучающей_выборки,\n",
        "    ветвь1, ветвь2, ветвь3)"
      ],
      "execution_count": 65,
      "outputs": []
    },
    {
      "cell_type": "markdown",
      "metadata": {
        "id": "zGmjx2hEcQ6b"
      },
      "source": [
        "Визуализация структуры."
      ]
    },
    {
      "cell_type": "code",
      "metadata": {
        "id": "XAxSoT5STN7S",
        "colab": {
          "base_uri": "https://localhost:8080/",
          "height": 436
        },
        "outputId": "00195717-5622-444f-f832-0b941fa5a1fe"
      },
      "source": [
        "# Покажите структуру сети, с помощью функции из terra_ai. терра_ии.схема_модели(внутри функции указывается нейросеть, которую вы создали)\n",
        "терра_ии.схема_модели(нейронка_ДЗ_2)"
      ],
      "execution_count": 66,
      "outputs": [
        {
          "output_type": "stream",
          "text": [
            "Схема модели:\n"
          ],
          "name": "stdout"
        },
        {
          "output_type": "execute_result",
          "data": {
            "image/png": "[encoded data removed]",
            "text/plain": [
              "<IPython.core.display.Image object>"
            ]
          },
          "metadata": {
            "tags": []
          },
          "execution_count": 66
        }
      ]
    },
    {
      "cell_type": "markdown",
      "metadata": {
        "id": "HqnScXNQcVjr"
      },
      "source": [
        "### Обучение модели."
      ]
    },
    {
      "cell_type": "code",
      "metadata": {
        "id": "M9CH9y0oTQWD",
        "colab": {
          "base_uri": "https://localhost:8080/",
          "height": 526
        },
        "outputId": "48105093-e3e4-4677-d915-519a9864d59c"
      },
      "source": [
        "# Обучаем модель\n",
        "эксперимент = терра_ии.обучение_модели(\n",
        "    нейронка_ДЗ_2,\n",
        "    обучающая_выборка, метки_обучающей_выборки,\n",
        "    тестовая_выборка, метки_тестовой_выборки,\n",
        "    размер_пакета = 50,\n",
        "    количество_эпох = 20,\n",
        "    количество_запусков = 5)"
      ],
      "execution_count": 67,
      "outputs": [
        {
          "output_type": "stream",
          "text": [
            "Запуск №1   Время обучения: 14.74cТочность на обучающей выборке: 100.0%      Точность на проверочной выборке: 90.62%\n",
            "Запуск №2   Время обучения: 15.73cТочность на обучающей выборке: 100.0%      Точность на проверочной выборке: 90.62%\n",
            "\u001b[42m\u001b[37mЗапуск №3   Время обучения: 14.49cТочность на обучающей выборке: 100.0%      Точность на проверочной выборке: 93.75%\u001b[0m\n",
            "Запуск №4   Время обучения: 14.65cТочность на обучающей выборке: 100.0%      Точность на проверочной выборке: 93.75%\n",
            "Запуск №5   Время обучения: 14.76cТочность на обучающей выборке: 100.0%      Точность на проверочной выборке: 93.75%\n",
            "\n",
            "Средняя точность на обучающей выборке:    100.0% \n",
            "Средняя точность на проверочной выборке:  92.5%\n"
          ],
          "name": "stdout"
        },
        {
          "output_type": "display_data",
          "data": {
            "image/png": "[encoded data removed]",
            "text/plain": [
              "<Figure size 864x432 with 1 Axes>"
            ]
          },
          "metadata": {
            "tags": []
          }
        }
      ]
    },
    {
      "cell_type": "markdown",
      "metadata": {
        "id": "MGIpE4UUcehH"
      },
      "source": [
        "### Тестирование модели."
      ]
    },
    {
      "cell_type": "markdown",
      "metadata": {
        "id": "9TBEWEnnkGtw"
      },
      "source": [
        "Придумайте и напишите свой отзыв."
      ]
    },
    {
      "cell_type": "code",
      "metadata": {
        "id": "7Kh3QvCrTSRC",
        "colab": {
          "base_uri": "https://localhost:8080/"
        },
        "outputId": "811d5fbb-1510-4a90-8a2d-5db4c1764db4"
      },
      "source": [
        "# Демонстрация результата работы нейронной сети\n",
        "отзыв = 'Замечательная машина, отличный ход'\n",
        "терра_ии.тест_модели_симптомы(нейронка_ДЗ_2, размер_окна, шаг,\n",
        "                              отзыв, классы = ['Негативный отзыв', 'Позитивный отзыв'])"
      ],
      "execution_count": 68,
      "outputs": [
        {
          "output_type": "stream",
          "text": [
            "Негативный отзыв   -  6.3 %\n",
            "Позитивный отзыв   -  93.7 %\n",
            "\n",
            "Нейросеть думает, что это: Позитивный отзыв - 93.7%\n"
          ],
          "name": "stdout"
        }
      ]
    },
    {
      "cell_type": "code",
      "metadata": {
        "colab": {
          "base_uri": "https://localhost:8080/"
        },
        "id": "HG2mkiQzC1cs",
        "outputId": "692ba53f-58d4-4625-db36-c353b42d6aff"
      },
      "source": [
        "# Демонстрация результата работы нейронной сети\n",
        "отзыв = 'От машины ожидал большего за такую стоимость'\n",
        "терра_ии.тест_модели_симптомы(нейронка_ДЗ_2, размер_окна, шаг,\n",
        "                              отзыв, классы = ['Негативный отзыв', 'Позитивный отзыв'])"
      ],
      "execution_count": 72,
      "outputs": [
        {
          "output_type": "stream",
          "text": [
            "Негативный отзыв   -  56.69 %\n",
            "Позитивный отзыв   -  43.31 %\n",
            "\n",
            "Нейросеть думает, что это: Негативный отзыв - 56.69%\n"
          ],
          "name": "stdout"
        }
      ]
    },
    {
      "cell_type": "code",
      "metadata": {
        "colab": {
          "base_uri": "https://localhost:8080/"
        },
        "id": "reqYxJyjENjq",
        "outputId": "00c0f5d3-66df-4ab4-9021-2d1b063425fd"
      },
      "source": [
        "# Демонстрация результата работы нейронной сети\n",
        "отзыв = 'Кондицонер течет, но скорость набирает быстро'\n",
        "терра_ии.тест_модели_симптомы(нейронка_ДЗ_2, размер_окна, шаг,\n",
        "                              отзыв, классы = ['Негативный отзыв', 'Позитивный отзыв'])"
      ],
      "execution_count": 73,
      "outputs": [
        {
          "output_type": "stream",
          "text": [
            "Негативный отзыв   -  15.16 %\n",
            "Позитивный отзыв   -  84.84 %\n",
            "\n",
            "Нейросеть думает, что это: Позитивный отзыв - 84.84%\n"
          ],
          "name": "stdout"
        }
      ]
    },
    {
      "cell_type": "markdown",
      "metadata": {
        "id": "cZsdBFEdSl4v"
      },
      "source": [
        "## Задание № 3. Определение заболевания по симптомам.  \n",
        "\n",
        "Создайте нейросеть, которая будет определять заболевание по симптомам.\n",
        "\n",
        "1. Загрузите базу;  \n",
        "2. Покажите примеры из загруженной базы;  \n",
        "3. Сделайте предобработку данных для обучающей и тестовой выборки;  \n",
        "4. Создайте полносвязную модель;  \n",
        "5. Продемонстрируйте схему созданной модели;  \n",
        "6. Обучите свою модель;  \n",
        "7. Проведите тестирование модели."
      ]
    },
    {
      "cell_type": "markdown",
      "metadata": {
        "id": "YMZWrBeCUwFV"
      },
      "source": [
        "### Работа с базой."
      ]
    },
    {
      "cell_type": "code",
      "metadata": {
        "id": "6V9MVxmPmpNB",
        "colab": {
          "base_uri": "https://localhost:8080/"
        },
        "outputId": "ee44b78c-4b02-48c9-87ce-88c8cfc2d7e2"
      },
      "source": [
        "# Загрузите базу симптомов заболеваний\n",
        "терра_ии.загрузить_базу(база = 'СИМПТОМЫ ЗАБОЛЕВАНИЙ',\n",
        "                        справка = 'Показать')"
      ],
      "execution_count": 5,
      "outputs": [
        {
          "output_type": "stream",
          "text": [
            "Загрузка данных\n",
            "Это может занять несколько минут...\n",
            "Загрузка данных завершена \n",
            "\n",
            "url: https://storage.googleapis.com/terra_ai/DataSets/symptoms.zip\n",
            "Загружена база симптомов заболеваний\n",
            "\n"
          ],
          "name": "stdout"
        }
      ]
    },
    {
      "cell_type": "code",
      "metadata": {
        "id": "iryUefF3yOKS",
        "colab": {
          "base_uri": "https://localhost:8080/"
        },
        "outputId": "9ec28388-cb44-418c-d901-f40daabd416e"
      },
      "source": [
        "# Покажите примеры из базы \"симптомы\"\n",
        "терра_ии.показать_примеры(база = 'симптомы')"
      ],
      "execution_count": 6,
      "outputs": [
        {
          "output_type": "stream",
          "text": [
            "В данной базе содержатся симптомы следующих заболеваний:\n",
            "['Аппендицит', 'Гастрит', 'Гепатит', 'Дуоденит', 'Колит', 'Панкреатит', 'Холецистит', 'Эзофагит', 'Энтерит', 'Язва']\n",
            "\n",
            "Пример симптомов случайного заболевания:\n",
            "Заболевание:  Дуоденит\n",
            "Симптомы:\n",
            "     * боль в эпигастральной области, тошнота, рвота,  общая слабость,  болезненность при пальпации в эпига\n"
          ],
          "name": "stdout"
        }
      ]
    },
    {
      "cell_type": "code",
      "metadata": {
        "id": "78xGu5UMS0Fs",
        "colab": {
          "base_uri": "https://localhost:8080/"
        },
        "outputId": "c8424680-8a8a-466b-9fe2-a3e9304fdc36"
      },
      "source": [
        "количество_анализируемых_слов = 10000\n",
        "размер_окна = 150\n",
        "шаг = 50\n",
        "\n",
        "# Создаем выборки для обучения нейронной сети\n",
        "(обучающая_выборка, метки_обучающей_выборки), (тестовая_выборка, метки_тестовой_выборки) = терра_ии.создать_текстовые_выборки(\n",
        "    количество_анализируемых_слов,\n",
        "    размер_окна, \n",
        "    шаг)"
      ],
      "execution_count": 7,
      "outputs": [
        {
          "output_type": "stream",
          "text": [
            "Формирование выборки завершено\n"
          ],
          "name": "stdout"
        }
      ]
    },
    {
      "cell_type": "markdown",
      "metadata": {
        "id": "YP_x-3IoF9Xw"
      },
      "source": [
        "### Создание сети.\n",
        "Состоящую из 3-х ветвей, в которую будут входить слои рассмотренные на вебинаре, такие как:\n",
        "\n",
        "*   Эмбеддинг\n",
        "*   Выравнивающий\n",
        "*   Полносвязный\n",
        "\n"
      ]
    },
    {
      "cell_type": "code",
      "metadata": {
        "id": "yv84cu6kxcrx"
      },
      "source": [
        "# Создаем нейронную сеть\n",
        "ветвь1 = 'Эмбеддинг-100-' + str(количество_анализируемых_слов) + '-' + str(размер_окна) + ' Выравнивающий Полносвязный-32'\n",
        "ветвь2 = 'Полносвязный-128 Полносвязный-64 Полносвязный-32'\n",
        "ветвь3 = 'Полносвязный-8'\n",
        "\n",
        "нейронка_ДЗ_3 = терра_ии.создать_составную_сеть(\n",
        "    обучающая_выборка, метки_обучающей_выборки,\n",
        "    ветвь1, ветвь2, ветвь3)"
      ],
      "execution_count": 8,
      "outputs": []
    },
    {
      "cell_type": "markdown",
      "metadata": {
        "id": "pTNVVGjcVA28"
      },
      "source": [
        "Визуализация модели."
      ]
    },
    {
      "cell_type": "code",
      "metadata": {
        "id": "kXDNL1dfMi6z",
        "colab": {
          "base_uri": "https://localhost:8080/",
          "height": 436
        },
        "outputId": "a7497b96-1bbd-4921-cf8c-580a215e8ff3"
      },
      "source": [
        "# Покажите структуру сети, с помощью функции из terra_ai. терра_ии.схема_модели(внутри функции указывается нейросеть, которую вы создали)\n",
        "терра_ии.схема_модели(нейронка_ДЗ_3)"
      ],
      "execution_count": 9,
      "outputs": [
        {
          "output_type": "stream",
          "text": [
            "Схема модели:\n"
          ],
          "name": "stdout"
        },
        {
          "output_type": "execute_result",
          "data": {
            "image/png": "[encoded data removed]",
            "text/plain": [
              "<IPython.core.display.Image object>"
            ]
          },
          "metadata": {
            "tags": []
          },
          "execution_count": 9
        }
      ]
    },
    {
      "cell_type": "markdown",
      "metadata": {
        "id": "Lt3HG5X6HKvm"
      },
      "source": [
        "### Обучение нейронной сети.\n",
        "Используя свою модель, примените функцию из terra ai:\n",
        "*   терра_ии.обучение_модели()\n",
        "\n",
        "\n"
      ]
    },
    {
      "cell_type": "code",
      "metadata": {
        "id": "ZLohMLxSS0Ft",
        "colab": {
          "base_uri": "https://localhost:8080/",
          "height": 526
        },
        "outputId": "da37b555-6041-448f-f778-3283184e882e"
      },
      "source": [
        "# Обучаем модель\n",
        "эксперимент = терра_ии.обучение_модели(\n",
        "    нейронка_ДЗ_3,\n",
        "    обучающая_выборка, метки_обучающей_выборки,\n",
        "    тестовая_выборка, метки_тестовой_выборки,\n",
        "    размер_пакета = 200,\n",
        "    количество_эпох = 20,\n",
        "    количество_запусков = 5)"
      ],
      "execution_count": 10,
      "outputs": [
        {
          "output_type": "stream",
          "text": [
            "Запуск №1   Время обучения: 77.85cТочность на обучающей выборке: 100.0%      Точность на проверочной выборке: 70.0%\n",
            "\u001b[42m\u001b[37mЗапуск №2   Время обучения: 79.45cТочность на обучающей выборке: 100.0%      Точность на проверочной выборке: 75.0%\u001b[0m\n",
            "Запуск №3   Время обучения: 79.25cТочность на обучающей выборке: 100.0%      Точность на проверочной выборке: 75.0%\n",
            "Запуск №4   Время обучения: 78.03cТочность на обучающей выборке: 100.0%      Точность на проверочной выборке: 75.0%\n",
            "Запуск №5   Время обучения: 79.45cТочность на обучающей выборке: 100.0%      Точность на проверочной выборке: 75.0%\n",
            "\n",
            "Средняя точность на обучающей выборке:    100.0% \n",
            "Средняя точность на проверочной выборке:  74.0%\n"
          ],
          "name": "stdout"
        },
        {
          "output_type": "display_data",
          "data": {
            "image/png": "[encoded data removed]",
            "text/plain": [
              "<Figure size 864x432 with 1 Axes>"
            ]
          },
          "metadata": {
            "tags": []
          }
        }
      ]
    },
    {
      "cell_type": "markdown",
      "metadata": {
        "id": "WXnstvNcH1c_"
      },
      "source": [
        "### Продемонстрируйте работу нейронной сети\n",
        "Используя обученую модель для симптомов указанных в ячейке, примените функцию из terra ai:\n",
        "*   терра_ии.тест_модели_симптомы()  \n",
        "\n",
        "Можете создать другой перечень симптомов и посмотреть насколько успешно модель справляется."
      ]
    },
    {
      "cell_type": "code",
      "metadata": {
        "id": "BJiQ-eZoIKWD",
        "colab": {
          "base_uri": "https://localhost:8080/"
        },
        "outputId": "4445a2eb-0168-4f82-fc5f-a064908e3515"
      },
      "source": [
        "# Демонстрация результата работы нейронной сети\n",
        "симптомы = 'общую слабость;повышение температуры тела;систематические приступы тошноты;регулярную рвоту с примесями желчи.'\n",
        "терра_ии.тест_модели_симптомы(нейронка_ДЗ_3, размер_окна, шаг,\n",
        "                              симптомы, классы=['Колит', 'Гепатит', 'Гастрит', 'Холицестит', 'Дуоденит', 'Энтерит', 'Язва', 'Эзофагит', 'Аппендицит', 'Панкреатит'])"
      ],
      "execution_count": 11,
      "outputs": [
        {
          "output_type": "stream",
          "text": [
            "Колит          -  19.76 %\n",
            "Гепатит        -  8.71 %\n",
            "Гастрит        -  8.0 %\n",
            "Холицестит     -  9.72 %\n",
            "Дуоденит       -  5.56 %\n",
            "Энтерит        -  10.25 %\n",
            "Язва           -  12.13 %\n",
            "Эзофагит       -  5.95 %\n",
            "Аппендицит     -  12.14 %\n",
            "Панкреатит     -  7.77 %\n",
            "\n",
            "Нейросеть думает, что это: Колит - 19.76%\n"
          ],
          "name": "stdout"
        }
      ]
    }
  ]
}